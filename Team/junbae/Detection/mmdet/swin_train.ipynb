{
 "cells": [
  {
   "cell_type": "code",
   "execution_count": 1,
   "metadata": {
    "pycharm": {
     "name": "#%%\n"
    }
   },
   "outputs": [],
   "source": [
    "from mmcv import Config\n",
    "from mmdet.datasets import build_dataset\n",
    "from mmdet.models import build_detector\n",
    "from mmdet.apis import train_detector\n",
    "from mmdet.datasets import (build_dataloader, build_dataset,\n",
    "                            replace_ImageToTensor)"
   ]
  },
  {
   "cell_type": "code",
   "execution_count": 2,
   "metadata": {
    "pycharm": {
     "name": "#%%\n"
    }
   },
   "outputs": [],
   "source": [
    "classes = (\"UNKNOWN\", \"General trash\", \"Paper\", \"Paper pack\", \"Metal\", \"Glass\", \n",
    "           \"Plastic\", \"Styrofoam\", \"Plastic bag\", \"Battery\", \"Clothing\")\n",
    "# config file 들고오기\n",
    "# cfg = Config.fromfile('trash/trash/swin.py')\n",
    "cfg = Config.fromfile('trash/trash/swin_retrain.py')\n",
    "\n",
    "PREFIX = '../../input/data/'\n",
    "\n",
    "\n",
    "# dataset 바꾸기\n",
    "cfg.data.train.classes = classes\n",
    "cfg.data.train.img_prefix = PREFIX\n",
    "cfg.data.train.ann_file = PREFIX + 'train_data4.json'\n",
    "# cfg.data.train.pipeline[2]['img_scale'] = (768, 768)\n",
    "\n",
    "cfg.data.val.classes = classes\n",
    "cfg.data.val.img_prefix = PREFIX\n",
    "cfg.data.val.ann_file = PREFIX + 'valid_data4.json'\n",
    "# cfg.data.val.pipeline[1]['img_scale'] = (768, 768)\n",
    "\n",
    "cfg.data.test.classes = classes\n",
    "cfg.data.test.img_prefix = PREFIX\n",
    "cfg.data.test.ann_file = PREFIX + 'test.json'\n",
    "# cfg.data.test.pipeline[1]['img_scale'] = (768, 768)\n",
    "\n",
    "cfg.data.samples_per_gpu = 2\n",
    "cfg.data.workers_per_gpu = 2\n",
    "\n",
    "cfg.seed=2020\n",
    "cfg.gpu_ids = [0]\n",
    "cfg.work_dir = './work_dirs/swint_fold4_retrain'\n",
    "cfg.checkpoint_config = dict(max_keep_ckpts=10,interval=1)\n",
    "# cfg.load_from = \"/opt/ml/code/mmdetection_trash/savemodel/cascade_mask_rcnn_swin_base_patch4_window7.pth\"\n",
    "cfg.load_from = \"/opt/ml/code/mmdetection_trash/work_dirs/swint_fold4/epoch_39.pth\"\n",
    "\n",
    "cfg.optimizer_config.grad_clip = dict(max_norm=35, norm_type=2)"
   ]
  },
  {
   "cell_type": "code",
   "execution_count": 3,
   "metadata": {},
   "outputs": [
    {
     "data": {
      "text/plain": [
       "Config (path: trash/trash/swin_retrain.py): {'model': {'type': 'CascadeRCNN', 'pretrained': None, 'backbone': {'type': 'SwinTransformer', 'embed_dim': 128, 'depths': [2, 2, 18, 2], 'num_heads': [4, 8, 16, 32], 'window_size': 7, 'mlp_ratio': 4.0, 'qkv_bias': True, 'qk_scale': None, 'drop_rate': 0.0, 'attn_drop_rate': 0.0, 'drop_path_rate': 0.3, 'ape': False, 'patch_norm': True, 'out_indices': (0, 1, 2, 3), 'use_checkpoint': False}, 'neck': {'type': 'FPN', 'in_channels': [128, 256, 512, 1024], 'out_channels': 256, 'num_outs': 5}, 'rpn_head': {'type': 'RPNHead', 'in_channels': 256, 'feat_channels': 256, 'anchor_generator': {'type': 'AnchorGenerator', 'scales': [8], 'ratios': [0.5, 1.0, 2.0], 'strides': [4, 8, 16, 32, 64]}, 'bbox_coder': {'type': 'DeltaXYWHBBoxCoder', 'target_means': [0.0, 0.0, 0.0, 0.0], 'target_stds': [1.0, 1.0, 1.0, 1.0]}, 'loss_cls': {'type': 'CrossEntropyLoss', 'use_sigmoid': True, 'loss_weight': 1.0}, 'loss_bbox': {'type': 'SmoothL1Loss', 'beta': 0.1111111111111111, 'loss_weight': 1.0}}, 'roi_head': {'type': 'CascadeRoIHead', 'num_stages': 3, 'stage_loss_weights': [1, 0.5, 0.25], 'bbox_roi_extractor': {'type': 'SingleRoIExtractor', 'roi_layer': {'type': 'RoIAlign', 'output_size': 7, 'sampling_ratio': 0}, 'out_channels': 256, 'featmap_strides': [4, 8, 16, 32]}, 'bbox_head': [{'type': 'ConvFCBBoxHead', 'num_shared_convs': 4, 'num_shared_fcs': 1, 'in_channels': 256, 'conv_out_channels': 256, 'fc_out_channels': 1024, 'roi_feat_size': 7, 'num_classes': 11, 'bbox_coder': {'type': 'DeltaXYWHBBoxCoder', 'target_means': [0.0, 0.0, 0.0, 0.0], 'target_stds': [0.1, 0.1, 0.2, 0.2]}, 'reg_class_agnostic': False, 'reg_decoded_bbox': True, 'norm_cfg': {'type': 'BN', 'requires_grad': True}, 'loss_cls': {'type': 'LabelSmoothCrossEntropyLoss', 'use_sigmoid': False, 'loss_weight': 1.0, 'label_smooth': 0.1}, 'loss_bbox': {'type': 'GIoULoss', 'loss_weight': 10.0}}, {'type': 'ConvFCBBoxHead', 'num_shared_convs': 4, 'num_shared_fcs': 1, 'in_channels': 256, 'conv_out_channels': 256, 'fc_out_channels': 1024, 'roi_feat_size': 7, 'num_classes': 11, 'bbox_coder': {'type': 'DeltaXYWHBBoxCoder', 'target_means': [0.0, 0.0, 0.0, 0.0], 'target_stds': [0.05, 0.05, 0.1, 0.1]}, 'reg_class_agnostic': False, 'reg_decoded_bbox': True, 'norm_cfg': {'type': 'BN', 'requires_grad': True}, 'loss_cls': {'type': 'FocalLoss', 'use_sigmoid': True}, 'loss_bbox': {'type': 'GIoULoss', 'loss_weight': 10.0}}, {'type': 'ConvFCBBoxHead', 'num_shared_convs': 4, 'num_shared_fcs': 1, 'in_channels': 256, 'conv_out_channels': 256, 'fc_out_channels': 1024, 'roi_feat_size': 7, 'num_classes': 11, 'bbox_coder': {'type': 'DeltaXYWHBBoxCoder', 'target_means': [0.0, 0.0, 0.0, 0.0], 'target_stds': [0.033, 0.033, 0.067, 0.067]}, 'reg_class_agnostic': False, 'reg_decoded_bbox': True, 'norm_cfg': {'type': 'BN', 'requires_grad': True}, 'loss_cls': {'type': 'CrossEntropyLoss', 'use_sigmoid': False, 'loss_weight': 1.0}, 'loss_bbox': {'type': 'GIoULoss', 'loss_weight': 10.0}}], 'mask_roi_extractor': {'type': 'SingleRoIExtractor', 'roi_layer': {'type': 'RoIAlign', 'output_size': 14, 'sampling_ratio': 0}, 'out_channels': 256, 'featmap_strides': [4, 8, 16, 32]}, 'mask_head': {'type': 'FCNMaskHead', 'num_convs': 4, 'in_channels': 256, 'conv_out_channels': 256, 'num_classes': 11, 'loss_mask': {'type': 'CrossEntropyLoss', 'use_mask': True, 'loss_weight': 1.0}}}, 'train_cfg': {'rpn': {'assigner': {'type': 'MaxIoUAssigner', 'pos_iou_thr': 0.7, 'neg_iou_thr': 0.3, 'min_pos_iou': 0.3, 'match_low_quality': True, 'ignore_iof_thr': -1}, 'sampler': {'type': 'RandomSampler', 'num': 256, 'pos_fraction': 0.5, 'neg_pos_ub': -1, 'add_gt_as_proposals': False}, 'allowed_border': 0, 'pos_weight': -1, 'debug': False}, 'rpn_proposal': {'nms_across_levels': False, 'nms_pre': 2000, 'nms_post': 2000, 'max_per_img': 2000, 'nms': {'type': 'nms', 'iou_threshold': 0.7}, 'min_bbox_size': 0}, 'rcnn': [{'assigner': {'type': 'MaxIoUAssigner', 'pos_iou_thr': 0.5, 'neg_iou_thr': 0.5, 'min_pos_iou': 0.5, 'match_low_quality': False, 'ignore_iof_thr': -1}, 'sampler': {'type': 'RandomSampler', 'num': 512, 'pos_fraction': 0.25, 'neg_pos_ub': -1, 'add_gt_as_proposals': True}, 'mask_size': 28, 'pos_weight': -1, 'debug': False}, {'assigner': {'type': 'MaxIoUAssigner', 'pos_iou_thr': 0.6, 'neg_iou_thr': 0.6, 'min_pos_iou': 0.6, 'match_low_quality': False, 'ignore_iof_thr': -1}, 'sampler': {'type': 'RandomSampler', 'num': 512, 'pos_fraction': 0.25, 'neg_pos_ub': -1, 'add_gt_as_proposals': True}, 'mask_size': 28, 'pos_weight': -1, 'debug': False}, {'assigner': {'type': 'MaxIoUAssigner', 'pos_iou_thr': 0.7, 'neg_iou_thr': 0.7, 'min_pos_iou': 0.7, 'match_low_quality': False, 'ignore_iof_thr': -1}, 'sampler': {'type': 'RandomSampler', 'num': 512, 'pos_fraction': 0.25, 'neg_pos_ub': -1, 'add_gt_as_proposals': True}, 'mask_size': 28, 'pos_weight': -1, 'debug': False}]}, 'test_cfg': {'rpn': {'nms_across_levels': False, 'nms_pre': 1000, 'nms_post': 1000, 'max_per_img': 1000, 'nms': {'type': 'nms', 'iou_threshold': 0.7}, 'min_bbox_size': 0}, 'rcnn': {'score_thr': 0.05, 'nms': {'type': 'nms', 'iou_threshold': 0.5}, 'max_per_img': 100, 'mask_thr_binary': 0.5}}}, 'dataset_type': 'CocoDataset', 'data_root': '/root/input/data/', 'img_norm_cfg': {'mean': [123.675, 116.28, 103.53], 'std': [58.395, 57.12, 57.375], 'to_rgb': True}, 'classes': ('UNKNOWN', 'General trash', 'Paper', 'Paper pack', 'Metal', 'Glass', 'Plastic', 'Styrofoam', 'Plastic bag', 'Battery', 'Clothing'), 'albu_train_transforms': [{'type': 'RandomRotate90', 'p': 1.0}, {'type': 'OneOf', 'transforms': [{'type': 'HueSaturationValue', 'hue_shift_limit': 10, 'sat_shift_limit': 35, 'val_shift_limit': 25}, {'type': 'RandomGamma'}, {'type': 'CLAHE'}], 'p': 0.5}, {'type': 'OneOf', 'transforms': [{'type': 'RandomBrightnessContrast', 'brightness_limit': 0.25, 'contrast_limit': 0.25}, {'type': 'RGBShift', 'r_shift_limit': 15, 'g_shift_limit': 15, 'b_shift_limit': 15}], 'p': 0.5}, {'type': 'OneOf', 'transforms': [{'type': 'Blur'}, {'type': 'MotionBlur'}, {'type': 'GaussNoise'}, {'type': 'ImageCompression', 'quality_lower': 75}], 'p': 0.4}, {'type': 'ShiftScaleRotate', 'shift_limit': 0.3, 'rotate_limit': 5, 'scale_limit': (-0.3, 0.75), 'border_mode': 0, 'value': [103.53, 116.28, 123.675]}, {'type': 'RandomSizedBBoxSafeCrop', 'height': 512, 'width': 512, 'erosion_rate': 0.2, 'p': 0.3}], 'train_pipeline': [{'type': 'LoadImageFromFile'}, {'type': 'LoadAnnotations', 'with_bbox': True, 'with_mask': True}, {'type': 'Albu', 'transforms': [{'type': 'RandomRotate90', 'p': 1.0}, {'type': 'OneOf', 'transforms': [{'type': 'HueSaturationValue', 'hue_shift_limit': 10, 'sat_shift_limit': 35, 'val_shift_limit': 25}, {'type': 'RandomGamma'}, {'type': 'CLAHE'}], 'p': 0.5}, {'type': 'OneOf', 'transforms': [{'type': 'RandomBrightnessContrast', 'brightness_limit': 0.25, 'contrast_limit': 0.25}, {'type': 'RGBShift', 'r_shift_limit': 15, 'g_shift_limit': 15, 'b_shift_limit': 15}], 'p': 0.5}, {'type': 'OneOf', 'transforms': [{'type': 'Blur'}, {'type': 'MotionBlur'}, {'type': 'GaussNoise'}, {'type': 'ImageCompression', 'quality_lower': 75}], 'p': 0.4}, {'type': 'ShiftScaleRotate', 'shift_limit': 0.3, 'rotate_limit': 5, 'scale_limit': (-0.3, 0.75), 'border_mode': 0, 'value': [103.53, 116.28, 123.675]}, {'type': 'RandomSizedBBoxSafeCrop', 'height': 512, 'width': 512, 'erosion_rate': 0.2, 'p': 0.3}], 'keymap': {'img': 'image', 'gt_bboxes': 'bboxes'}, 'update_pad_shape': False, 'skip_img_without_anno': True, 'bbox_params': {'type': 'BboxParams', 'format': 'pascal_voc', 'label_fields': ['gt_labels'], 'min_visibility': 0.3, 'filter_lost_elements': True}}, {'type': 'RandomFlip', 'flip_ratio': 0.5}, {'type': 'Resize', 'img_scale': [(640, 640), (768, 768), (896, 896)], 'multiscale_mode': 'value', 'keep_ratio': True}, {'type': 'Normalize', 'mean': [123.675, 116.28, 103.53], 'std': [58.395, 57.12, 57.375], 'to_rgb': True}, {'type': 'Pad', 'size_divisor': 32}, {'type': 'DefaultFormatBundle'}, {'type': 'Collect', 'keys': ['img', 'gt_bboxes', 'gt_labels', 'gt_masks']}], 'test_pipeline': [{'type': 'LoadImageFromFile'}, {'type': 'MultiScaleFlipAug', 'img_scale': [(512, 512), (768, 768)], 'flip': True, 'flip_direction': ['horizontal', 'vertical'], 'transforms': [{'type': 'Resize', 'keep_ratio': True}, {'type': 'RandomFlip'}, {'type': 'Normalize', 'mean': [123.675, 116.28, 103.53], 'std': [58.395, 57.12, 57.375], 'to_rgb': True}, {'type': 'Pad', 'size_divisor': 32}, {'type': 'ImageToTensor', 'keys': ['img']}, {'type': 'Collect', 'keys': ['img']}]}], 'data': {'samples_per_gpu': 2, 'workers_per_gpu': 2, 'train': {'type': 'CocoDataset', 'classes': ('UNKNOWN', 'General trash', 'Paper', 'Paper pack', 'Metal', 'Glass', 'Plastic', 'Styrofoam', 'Plastic bag', 'Battery', 'Clothing'), 'ann_file': '../../input/data/train_data4.json', 'img_prefix': '../../input/data/', 'pipeline': [{'type': 'LoadImageFromFile'}, {'type': 'LoadAnnotations', 'with_bbox': True, 'with_mask': True}, {'type': 'Albu', 'transforms': [{'type': 'RandomRotate90', 'p': 1.0}, {'type': 'OneOf', 'transforms': [{'type': 'HueSaturationValue', 'hue_shift_limit': 10, 'sat_shift_limit': 35, 'val_shift_limit': 25}, {'type': 'RandomGamma'}, {'type': 'CLAHE'}], 'p': 0.5}, {'type': 'OneOf', 'transforms': [{'type': 'RandomBrightnessContrast', 'brightness_limit': 0.25, 'contrast_limit': 0.25}, {'type': 'RGBShift', 'r_shift_limit': 15, 'g_shift_limit': 15, 'b_shift_limit': 15}], 'p': 0.5}, {'type': 'OneOf', 'transforms': [{'type': 'Blur'}, {'type': 'MotionBlur'}, {'type': 'GaussNoise'}, {'type': 'ImageCompression', 'quality_lower': 75}], 'p': 0.4}, {'type': 'ShiftScaleRotate', 'shift_limit': 0.3, 'rotate_limit': 5, 'scale_limit': (-0.3, 0.75), 'border_mode': 0, 'value': [103.53, 116.28, 123.675]}, {'type': 'RandomSizedBBoxSafeCrop', 'height': 512, 'width': 512, 'erosion_rate': 0.2, 'p': 0.3}], 'keymap': {'img': 'image', 'gt_bboxes': 'bboxes'}, 'update_pad_shape': False, 'skip_img_without_anno': True, 'bbox_params': {'type': 'BboxParams', 'format': 'pascal_voc', 'label_fields': ['gt_labels'], 'min_visibility': 0.3, 'filter_lost_elements': True}}, {'type': 'RandomFlip', 'flip_ratio': 0.5}, {'type': 'Resize', 'img_scale': [(640, 640), (768, 768), (896, 896)], 'multiscale_mode': 'value', 'keep_ratio': True}, {'type': 'Normalize', 'mean': [123.675, 116.28, 103.53], 'std': [58.395, 57.12, 57.375], 'to_rgb': True}, {'type': 'Pad', 'size_divisor': 32}, {'type': 'DefaultFormatBundle'}, {'type': 'Collect', 'keys': ['img', 'gt_bboxes', 'gt_labels', 'gt_masks']}]}, 'val': {'type': 'CocoDataset', 'classes': ('UNKNOWN', 'General trash', 'Paper', 'Paper pack', 'Metal', 'Glass', 'Plastic', 'Styrofoam', 'Plastic bag', 'Battery', 'Clothing'), 'ann_file': '../../input/data/valid_data4.json', 'img_prefix': '../../input/data/', 'pipeline': [{'type': 'LoadImageFromFile'}, {'type': 'MultiScaleFlipAug', 'img_scale': [(512, 512), (768, 768)], 'flip': True, 'flip_direction': ['horizontal', 'vertical'], 'transforms': [{'type': 'Resize', 'keep_ratio': True}, {'type': 'RandomFlip'}, {'type': 'Normalize', 'mean': [123.675, 116.28, 103.53], 'std': [58.395, 57.12, 57.375], 'to_rgb': True}, {'type': 'Pad', 'size_divisor': 32}, {'type': 'ImageToTensor', 'keys': ['img']}, {'type': 'Collect', 'keys': ['img']}]}]}, 'test': {'type': 'CocoDataset', 'classes': ('UNKNOWN', 'General trash', 'Paper', 'Paper pack', 'Metal', 'Glass', 'Plastic', 'Styrofoam', 'Plastic bag', 'Battery', 'Clothing'), 'ann_file': '../../input/data/test.json', 'img_prefix': '../../input/data/', 'pipeline': [{'type': 'LoadImageFromFile'}, {'type': 'MultiScaleFlipAug', 'img_scale': [(512, 512), (768, 768)], 'flip': True, 'flip_direction': ['horizontal', 'vertical'], 'transforms': [{'type': 'Resize', 'keep_ratio': True}, {'type': 'RandomFlip'}, {'type': 'Normalize', 'mean': [123.675, 116.28, 103.53], 'std': [58.395, 57.12, 57.375], 'to_rgb': True}, {'type': 'Pad', 'size_divisor': 32}, {'type': 'ImageToTensor', 'keys': ['img']}, {'type': 'Collect', 'keys': ['img']}]}]}}, 'optimizer': {'type': 'AdamW', 'lr': 1e-05, 'betas': (0.9, 0.999), 'weight_decay': 0.05, 'paramwise_cfg': {'custom_keys': {'absolute_pos_embed': {'decay_mult': 0.0}, 'relative_position_bias_table': {'decay_mult': 0.0}, 'norm': {'decay_mult': 0.0}}}}, 'optimizer_config': {'grad_clip': {'max_norm': 35, 'norm_type': 2}}, 'lr_config': {'policy': 'step', 'warmup': 'linear', 'warmup_iters': 500, 'warmup_ratio': 0.001, 'step': [8, 11]}, 'runner': {'type': 'EpochBasedRunner', 'max_epochs': 45}, 'checkpoint_config': {'max_keep_ckpts': 10, 'interval': 1}, 'log_config': {'interval': 50, 'hooks': [{'type': 'TextLoggerHook'}]}, 'custom_hooks': [{'type': 'NumClassCheckHook'}], 'dist_params': {'backend': 'nccl'}, 'log_level': 'INFO', 'load_from': '/opt/ml/code/mmdetection_trash/work_dirs/swint_fold4/epoch_39.pth', 'resume_from': None, 'workflow': [('train', 1)], 'seed': 2020, 'gpu_ids': [0], 'work_dir': './work_dirs/swint_fold4_retrain'}"
      ]
     },
     "execution_count": 3,
     "metadata": {},
     "output_type": "execute_result"
    }
   ],
   "source": [
    "cfg"
   ]
  },
  {
   "cell_type": "code",
   "execution_count": 4,
   "metadata": {
    "pycharm": {
     "name": "#%%\n"
    }
   },
   "outputs": [],
   "source": [
    "model = build_detector(cfg.model)"
   ]
  },
  {
   "cell_type": "code",
   "execution_count": 5,
   "metadata": {
    "pycharm": {
     "name": "#%%\n"
    }
   },
   "outputs": [
    {
     "name": "stdout",
     "output_type": "stream",
     "text": [
      "loading annotations into memory...\n",
      "Done (t=4.11s)\n",
      "creating index...\n",
      "index created!\n"
     ]
    }
   ],
   "source": [
    "datasets = [build_dataset(cfg.data.train)]"
   ]
  },
  {
   "cell_type": "code",
   "execution_count": 6,
   "metadata": {
    "pycharm": {
     "name": "#%%\n"
    },
    "tags": []
   },
   "outputs": [
    {
     "name": "stdout",
     "output_type": "stream",
     "text": [
      "loading annotations into memory...\n"
     ]
    },
    {
     "name": "stderr",
     "output_type": "stream",
     "text": [
      "2021-05-20 08:00:09,806 - mmdet - INFO - load checkpoint from /opt/ml/code/mmdetection_trash/work_dirs/swint_fold4/epoch_39.pth\n",
      "2021-05-20 08:00:09,808 - mmdet - INFO - Use load_from_local loader\n"
     ]
    },
    {
     "name": "stdout",
     "output_type": "stream",
     "text": [
      "Done (t=1.48s)\n",
      "creating index...\n",
      "index created!\n"
     ]
    },
    {
     "name": "stderr",
     "output_type": "stream",
     "text": [
      "2021-05-20 08:00:11,169 - mmdet - INFO - Start running, host: root@0ff209eaebce, work_dir: /opt/ml/code/mmdetection_trash/work_dirs/swint_fold4_retrain\n",
      "2021-05-20 08:00:11,171 - mmdet - INFO - workflow: [('train', 1)], max: 45 epochs\n",
      "2021-05-20 08:01:32,584 - mmdet - INFO - Epoch [1][50/1311]\tlr: 9.890e-07, eta: 1 day, 2:39:31, time: 1.628, data_time: 0.080, memory: 13486, loss_rpn_cls: 0.2600, loss_rpn_bbox: 0.0273, s0.loss_cls: 1.8160, s0.acc: 94.4219, s0.loss_bbox: 0.2197, s0.loss_mask: 3.5410, s1.loss_cls: 0.1470, s1.acc: 94.6300, s1.loss_bbox: 0.0932, s1.loss_mask: 2.2047, s2.loss_cls: 0.0844, s2.acc: 94.0787, s2.loss_bbox: 0.0367, s2.loss_mask: 1.1914, loss: 9.6216, grad_norm: 56.4201\n",
      "2021-05-20 08:02:46,154 - mmdet - INFO - Epoch [1][100/1311]\tlr: 1.988e-06, eta: 1 day, 1:21:12, time: 1.471, data_time: 0.028, memory: 13486, loss_rpn_cls: 0.2865, loss_rpn_bbox: 0.0367, s0.loss_cls: 1.6481, s0.acc: 92.4648, s0.loss_bbox: 0.2964, s0.loss_mask: 2.7030, s1.loss_cls: 0.1845, s1.acc: 92.4107, s1.loss_bbox: 0.1186, s1.loss_mask: 1.7783, s2.loss_cls: 0.1101, s2.acc: 92.0859, s2.loss_bbox: 0.0437, s2.loss_mask: 0.9534, loss: 8.1593, grad_norm: 50.0554\n",
      "2021-05-20 08:03:59,353 - mmdet - INFO - Epoch [1][150/1311]\tlr: 2.987e-06, eta: 1 day, 0:51:52, time: 1.464, data_time: 0.023, memory: 13500, loss_rpn_cls: 0.2408, loss_rpn_bbox: 0.0343, s0.loss_cls: 1.3092, s0.acc: 93.2246, s0.loss_bbox: 0.2371, s0.loss_mask: 2.2041, s1.loss_cls: 0.1546, s1.acc: 93.1390, s1.loss_bbox: 0.0991, s1.loss_mask: 1.4112, s2.loss_cls: 0.0979, s2.acc: 92.7972, s2.loss_bbox: 0.0377, s2.loss_mask: 0.7510, loss: 6.5771, grad_norm: 48.7022\n",
      "2021-05-20 08:05:09,904 - mmdet - INFO - Epoch [1][200/1311]\tlr: 3.986e-06, eta: 1 day, 0:23:37, time: 1.411, data_time: 0.022, memory: 13500, loss_rpn_cls: 0.1558, loss_rpn_bbox: 0.0260, s0.loss_cls: 0.8668, s0.acc: 92.7539, s0.loss_bbox: 0.2555, s0.loss_mask: 1.4380, s1.loss_cls: 0.1390, s1.acc: 92.6083, s1.loss_bbox: 0.1071, s1.loss_mask: 0.9186, s2.loss_cls: 0.0939, s2.acc: 91.7155, s2.loss_bbox: 0.0372, s2.loss_mask: 0.4997, loss: 4.5377, grad_norm: 34.3937\n",
      "2021-05-20 08:06:22,591 - mmdet - INFO - Epoch [1][250/1311]\tlr: 4.985e-06, eta: 1 day, 0:14:33, time: 1.454, data_time: 0.024, memory: 13500, loss_rpn_cls: 0.0706, loss_rpn_bbox: 0.0274, s0.loss_cls: 0.5682, s0.acc: 90.2168, s0.loss_bbox: 0.2792, s0.loss_mask: 0.7801, s1.loss_cls: 0.1290, s1.acc: 91.3177, s1.loss_bbox: 0.1109, s1.loss_mask: 0.4848, s2.loss_cls: 0.0853, s2.acc: 91.5948, s2.loss_bbox: 0.0391, s2.loss_mask: 0.2530, loss: 2.8277, grad_norm: 20.8032\n",
      "2021-05-20 08:07:35,904 - mmdet - INFO - Epoch [1][300/1311]\tlr: 5.984e-06, eta: 1 day, 0:10:09, time: 1.466, data_time: 0.025, memory: 13500, loss_rpn_cls: 0.1147, loss_rpn_bbox: 0.0345, s0.loss_cls: 0.4251, s0.acc: 90.5605, s0.loss_bbox: 0.2734, s0.loss_mask: 0.5366, s1.loss_cls: 0.0978, s1.acc: 91.3451, s1.loss_bbox: 0.1064, s1.loss_mask: 0.3207, s2.loss_cls: 0.0741, s2.acc: 91.6102, s2.loss_bbox: 0.0392, s2.loss_mask: 0.1675, loss: 2.1900, grad_norm: 16.0853\n",
      "2021-05-20 08:08:46,024 - mmdet - INFO - Epoch [1][350/1311]\tlr: 6.983e-06, eta: 23:57:45, time: 1.402, data_time: 0.020, memory: 13500, loss_rpn_cls: 0.0716, loss_rpn_bbox: 0.0253, s0.loss_cls: 0.3687, s0.acc: 91.2012, s0.loss_bbox: 0.2347, s0.loss_mask: 0.5255, s1.loss_cls: 0.0792, s1.acc: 91.3464, s1.loss_bbox: 0.0912, s1.loss_mask: 0.2827, s2.loss_cls: 0.0700, s2.acc: 92.0128, s2.loss_bbox: 0.0320, s2.loss_mask: 0.1436, loss: 1.9245, grad_norm: 12.5265\n",
      "2021-05-20 08:09:57,855 - mmdet - INFO - Epoch [1][400/1311]\tlr: 7.982e-06, eta: 23:52:20, time: 1.437, data_time: 0.021, memory: 13500, loss_rpn_cls: 0.0527, loss_rpn_bbox: 0.0276, s0.loss_cls: 0.3315, s0.acc: 91.7578, s0.loss_bbox: 0.2545, s0.loss_mask: 0.4589, s1.loss_cls: 0.0675, s1.acc: 92.1473, s1.loss_bbox: 0.1050, s1.loss_mask: 0.2567, s2.loss_cls: 0.0648, s2.acc: 92.6975, s2.loss_bbox: 0.0388, s2.loss_mask: 0.1284, loss: 1.7863, grad_norm: 10.3636\n",
      "2021-05-20 08:11:08,448 - mmdet - INFO - Epoch [1][450/1311]\tlr: 8.981e-06, eta: 23:45:10, time: 1.412, data_time: 0.021, memory: 13500, loss_rpn_cls: 0.0639, loss_rpn_bbox: 0.0269, s0.loss_cls: 0.3063, s0.acc: 91.5234, s0.loss_bbox: 0.2757, s0.loss_mask: 0.4153, s1.loss_cls: 0.0625, s1.acc: 91.4503, s1.loss_bbox: 0.1126, s1.loss_mask: 0.2247, s2.loss_cls: 0.0650, s2.acc: 92.2183, s2.loss_bbox: 0.0400, s2.loss_mask: 0.1142, loss: 1.7070, grad_norm: 10.3730\n",
      "2021-05-20 08:12:21,104 - mmdet - INFO - Epoch [1][500/1311]\tlr: 9.980e-06, eta: 23:43:13, time: 1.453, data_time: 0.024, memory: 13500, loss_rpn_cls: 0.0750, loss_rpn_bbox: 0.0310, s0.loss_cls: 0.3179, s0.acc: 90.7461, s0.loss_bbox: 0.3012, s0.loss_mask: 0.3962, s1.loss_cls: 0.0626, s1.acc: 90.4326, s1.loss_bbox: 0.1164, s1.loss_mask: 0.2192, s2.loss_cls: 0.0743, s2.acc: 91.6550, s2.loss_bbox: 0.0402, s2.loss_mask: 0.1153, loss: 1.7492, grad_norm: 9.5671\n",
      "2021-05-20 08:13:33,269 - mmdet - INFO - Epoch [1][550/1311]\tlr: 1.000e-05, eta: 23:40:32, time: 1.443, data_time: 0.020, memory: 13510, loss_rpn_cls: 0.0591, loss_rpn_bbox: 0.0298, s0.loss_cls: 0.2762, s0.acc: 91.6172, s0.loss_bbox: 0.2743, s0.loss_mask: 0.3880, s1.loss_cls: 0.0464, s1.acc: 91.0552, s1.loss_bbox: 0.1086, s1.loss_mask: 0.2057, s2.loss_cls: 0.0629, s2.acc: 92.2821, s2.loss_bbox: 0.0396, s2.loss_mask: 0.1064, loss: 1.5971, grad_norm: 8.7658\n",
      "2021-05-20 08:14:46,279 - mmdet - INFO - Epoch [1][600/1311]\tlr: 1.000e-05, eta: 23:39:28, time: 1.460, data_time: 0.023, memory: 13510, loss_rpn_cls: 0.0512, loss_rpn_bbox: 0.0311, s0.loss_cls: 0.2692, s0.acc: 91.8027, s0.loss_bbox: 0.2732, s0.loss_mask: 0.4050, s1.loss_cls: 0.0433, s1.acc: 91.4652, s1.loss_bbox: 0.1122, s1.loss_mask: 0.2191, s2.loss_cls: 0.0661, s2.acc: 92.5756, s2.loss_bbox: 0.0399, s2.loss_mask: 0.1126, loss: 1.6229, grad_norm: 9.0380\n",
      "2021-05-20 08:15:58,076 - mmdet - INFO - Epoch [1][650/1311]\tlr: 1.000e-05, eta: 23:36:34, time: 1.436, data_time: 0.023, memory: 13510, loss_rpn_cls: 0.0503, loss_rpn_bbox: 0.0298, s0.loss_cls: 0.2529, s0.acc: 91.8848, s0.loss_bbox: 0.2637, s0.loss_mask: 0.4184, s1.loss_cls: 0.0391, s1.acc: 90.9359, s1.loss_bbox: 0.1084, s1.loss_mask: 0.2244, s2.loss_cls: 0.0652, s2.acc: 92.1257, s2.loss_bbox: 0.0391, s2.loss_mask: 0.1160, loss: 1.6072, grad_norm: 8.7095\n",
      "2021-05-20 08:17:12,060 - mmdet - INFO - Epoch [1][700/1311]\tlr: 1.000e-05, eta: 23:36:56, time: 1.480, data_time: 0.021, memory: 13510, loss_rpn_cls: 0.0542, loss_rpn_bbox: 0.0288, s0.loss_cls: 0.2175, s0.acc: 93.0332, s0.loss_bbox: 0.2434, s0.loss_mask: 0.3828, s1.loss_cls: 0.0308, s1.acc: 92.1966, s1.loss_bbox: 0.0996, s1.loss_mask: 0.2059, s2.loss_cls: 0.0542, s2.acc: 93.1230, s2.loss_bbox: 0.0346, s2.loss_mask: 0.1060, loss: 1.4580, grad_norm: 8.5789\n",
      "2021-05-20 08:18:23,412 - mmdet - INFO - Epoch [1][750/1311]\tlr: 1.000e-05, eta: 23:33:42, time: 1.427, data_time: 0.021, memory: 13510, loss_rpn_cls: 0.0478, loss_rpn_bbox: 0.0267, s0.loss_cls: 0.2298, s0.acc: 92.4863, s0.loss_bbox: 0.2472, s0.loss_mask: 0.4250, s1.loss_cls: 0.0326, s1.acc: 92.0024, s1.loss_bbox: 0.1009, s1.loss_mask: 0.2251, s2.loss_cls: 0.0601, s2.acc: 92.8385, s2.loss_bbox: 0.0371, s2.loss_mask: 0.1157, loss: 1.5481, grad_norm: 8.8073\n",
      "2021-05-20 08:19:36,109 - mmdet - INFO - Epoch [1][800/1311]\tlr: 1.000e-05, eta: 23:32:20, time: 1.454, data_time: 0.024, memory: 13510, loss_rpn_cls: 0.0581, loss_rpn_bbox: 0.0324, s0.loss_cls: 0.2609, s0.acc: 91.2031, s0.loss_bbox: 0.3234, s0.loss_mask: 0.3062, s1.loss_cls: 0.0386, s1.acc: 90.9844, s1.loss_bbox: 0.1275, s1.loss_mask: 0.1637, s2.loss_cls: 0.0698, s2.acc: 91.4205, s2.loss_bbox: 0.0449, s2.loss_mask: 0.0855, loss: 1.5110, grad_norm: 7.7898\n",
      "2021-05-20 08:20:46,852 - mmdet - INFO - Epoch [1][850/1311]\tlr: 1.000e-05, eta: 23:28:46, time: 1.415, data_time: 0.019, memory: 13510, loss_rpn_cls: 0.0452, loss_rpn_bbox: 0.0221, s0.loss_cls: 0.2282, s0.acc: 92.3574, s0.loss_bbox: 0.2472, s0.loss_mask: 0.3631, s1.loss_cls: 0.0309, s1.acc: 91.9926, s1.loss_bbox: 0.1026, s1.loss_mask: 0.1900, s2.loss_cls: 0.0598, s2.acc: 92.7624, s2.loss_bbox: 0.0374, s2.loss_mask: 0.0985, loss: 1.4249, grad_norm: 7.6136\n",
      "2021-05-20 08:21:58,436 - mmdet - INFO - Epoch [1][900/1311]\tlr: 1.000e-05, eta: 23:26:22, time: 1.432, data_time: 0.020, memory: 13510, loss_rpn_cls: 0.0409, loss_rpn_bbox: 0.0219, s0.loss_cls: 0.1969, s0.acc: 93.6230, s0.loss_bbox: 0.2203, s0.loss_mask: 0.3380, s1.loss_cls: 0.0257, s1.acc: 93.4666, s1.loss_bbox: 0.0891, s1.loss_mask: 0.1850, s2.loss_cls: 0.0509, s2.acc: 94.0043, s2.loss_bbox: 0.0330, s2.loss_mask: 0.0951, loss: 1.2968, grad_norm: 7.0842\n",
      "2021-05-20 08:23:10,732 - mmdet - INFO - Epoch [1][950/1311]\tlr: 1.000e-05, eta: 23:24:50, time: 1.446, data_time: 0.025, memory: 13510, loss_rpn_cls: 0.0475, loss_rpn_bbox: 0.0254, s0.loss_cls: 0.2222, s0.acc: 91.9277, s0.loss_bbox: 0.2622, s0.loss_mask: 0.3650, s1.loss_cls: 0.0304, s1.acc: 91.5651, s1.loss_bbox: 0.1057, s1.loss_mask: 0.1962, s2.loss_cls: 0.0617, s2.acc: 92.0888, s2.loss_bbox: 0.0378, s2.loss_mask: 0.1013, loss: 1.4555, grad_norm: 9.2104\n",
      "2021-05-20 08:24:24,290 - mmdet - INFO - Epoch [1][1000/1311]\tlr: 1.000e-05, eta: 23:24:32, time: 1.471, data_time: 0.029, memory: 13510, loss_rpn_cls: 0.0524, loss_rpn_bbox: 0.0278, s0.loss_cls: 0.2084, s0.acc: 92.6426, s0.loss_bbox: 0.2569, s0.loss_mask: 0.3592, s1.loss_cls: 0.0276, s1.acc: 92.4230, s1.loss_bbox: 0.1058, s1.loss_mask: 0.1910, s2.loss_cls: 0.0558, s2.acc: 93.1402, s2.loss_bbox: 0.0386, s2.loss_mask: 0.0977, loss: 1.4213, grad_norm: 8.2875\n",
      "2021-05-20 08:25:37,002 - mmdet - INFO - Epoch [1][1050/1311]\tlr: 1.000e-05, eta: 23:23:23, time: 1.454, data_time: 0.024, memory: 13510, loss_rpn_cls: 0.0475, loss_rpn_bbox: 0.0294, s0.loss_cls: 0.2366, s0.acc: 91.8027, s0.loss_bbox: 0.2758, s0.loss_mask: 0.3391, s1.loss_cls: 0.0315, s1.acc: 91.2491, s1.loss_bbox: 0.1108, s1.loss_mask: 0.1853, s2.loss_cls: 0.0639, s2.acc: 91.9521, s2.loss_bbox: 0.0407, s2.loss_mask: 0.0965, loss: 1.4570, grad_norm: 8.0271\n",
      "2021-05-20 08:26:49,247 - mmdet - INFO - Epoch [1][1100/1311]\tlr: 1.000e-05, eta: 23:21:48, time: 1.445, data_time: 0.025, memory: 13510, loss_rpn_cls: 0.0447, loss_rpn_bbox: 0.0291, s0.loss_cls: 0.2098, s0.acc: 92.4473, s0.loss_bbox: 0.2763, s0.loss_mask: 0.3373, s1.loss_cls: 0.0273, s1.acc: 92.2831, s1.loss_bbox: 0.1121, s1.loss_mask: 0.1790, s2.loss_cls: 0.0568, s2.acc: 92.8345, s2.loss_bbox: 0.0406, s2.loss_mask: 0.0919, loss: 1.4049, grad_norm: 7.3975\n",
      "2021-05-20 08:28:00,626 - mmdet - INFO - Epoch [1][1150/1311]\tlr: 1.000e-05, eta: 23:19:32, time: 1.428, data_time: 0.019, memory: 13510, loss_rpn_cls: 0.0439, loss_rpn_bbox: 0.0255, s0.loss_cls: 0.1816, s0.acc: 93.6074, s0.loss_bbox: 0.2235, s0.loss_mask: 0.3991, s1.loss_cls: 0.0245, s1.acc: 93.3406, s1.loss_bbox: 0.0929, s1.loss_mask: 0.2111, s2.loss_cls: 0.0488, s2.acc: 93.8454, s2.loss_bbox: 0.0336, s2.loss_mask: 0.1071, loss: 1.3916, grad_norm: 7.8284\n",
      "2021-05-20 08:29:12,951 - mmdet - INFO - Epoch [1][1200/1311]\tlr: 1.000e-05, eta: 23:18:07, time: 1.446, data_time: 0.023, memory: 13510, loss_rpn_cls: 0.0517, loss_rpn_bbox: 0.0323, s0.loss_cls: 0.2241, s0.acc: 91.7070, s0.loss_bbox: 0.2834, s0.loss_mask: 0.3343, s1.loss_cls: 0.0295, s1.acc: 91.3803, s1.loss_bbox: 0.1137, s1.loss_mask: 0.1780, s2.loss_cls: 0.0618, s2.acc: 91.7991, s2.loss_bbox: 0.0406, s2.loss_mask: 0.0937, loss: 1.4430, grad_norm: 8.0562\n",
      "2021-05-20 08:30:24,980 - mmdet - INFO - Epoch [1][1250/1311]\tlr: 1.000e-05, eta: 23:16:29, time: 1.441, data_time: 0.027, memory: 13510, loss_rpn_cls: 0.0541, loss_rpn_bbox: 0.0311, s0.loss_cls: 0.2151, s0.acc: 92.1230, s0.loss_bbox: 0.2723, s0.loss_mask: 0.3644, s1.loss_cls: 0.0289, s1.acc: 91.8138, s1.loss_bbox: 0.1095, s1.loss_mask: 0.1946, s2.loss_cls: 0.0593, s2.acc: 92.4242, s2.loss_bbox: 0.0373, s2.loss_mask: 0.1015, loss: 1.4680, grad_norm: 7.9917\n",
      "2021-05-20 08:31:35,686 - mmdet - INFO - Epoch [1][1300/1311]\tlr: 1.000e-05, eta: 23:13:55, time: 1.414, data_time: 0.020, memory: 13510, loss_rpn_cls: 0.0372, loss_rpn_bbox: 0.0187, s0.loss_cls: 0.1708, s0.acc: 93.8125, s0.loss_bbox: 0.2157, s0.loss_mask: 0.3638, s1.loss_cls: 0.0210, s1.acc: 93.7743, s1.loss_bbox: 0.0911, s1.loss_mask: 0.1897, s2.loss_cls: 0.0454, s2.acc: 93.9737, s2.loss_bbox: 0.0348, s2.loss_mask: 0.0964, loss: 1.2846, grad_norm: 6.9810\n",
      "2021-05-20 08:31:51,480 - mmdet - INFO - Saving checkpoint at 1 epochs\n"
     ]
    },
    {
     "name": "stdout",
     "output_type": "stream",
     "text": [
      "[>>>>>>>>>>>>>>>>>>>>>>>>>>>>>] 650/650, 0.7 task/s, elapsed: 939s, ETA:     0s"
     ]
    },
    {
     "name": "stderr",
     "output_type": "stream",
     "text": [
      "2021-05-20 08:47:35,550 - mmdet - INFO - Evaluating bbox...\n"
     ]
    },
    {
     "name": "stdout",
     "output_type": "stream",
     "text": [
      "Loading and preparing results...\n",
      "DONE (t=0.61s)\n",
      "creating index...\n",
      "index created!\n",
      "Running per image evaluation...\n",
      "Evaluate annotation type *bbox*\n",
      "DONE (t=7.11s).\n",
      "Accumulating evaluation results...\n"
     ]
    },
    {
     "name": "stderr",
     "output_type": "stream",
     "text": [
      "2021-05-20 08:47:44,338 - mmdet - INFO - Epoch(val) [1][1311]\tbbox_mAP: 0.3430, bbox_mAP_50: 0.4570, bbox_mAP_75: 0.3460, bbox_mAP_s: 0.0760, bbox_mAP_m: 0.3060, bbox_mAP_l: 0.5660, bbox_mAP_copypaste: 0.343 0.457 0.346 0.076 0.306 0.566\n"
     ]
    },
    {
     "name": "stdout",
     "output_type": "stream",
     "text": [
      "DONE (t=0.98s).\n",
      "Average Precision  (AP) @[ IoU=0.50:0.95 | area=   all | maxDets=100 ] = 0.343\n",
      "Average Precision  (AP) @[ IoU=0.50      | area=   all | maxDets=1000 ] = 0.457\n",
      "Average Precision  (AP) @[ IoU=0.75      | area=   all | maxDets=1000 ] = 0.346\n",
      "Average Precision  (AP) @[ IoU=0.50:0.95 | area= small | maxDets=1000 ] = 0.076\n",
      "Average Precision  (AP) @[ IoU=0.50:0.95 | area=medium | maxDets=1000 ] = 0.306\n",
      "Average Precision  (AP) @[ IoU=0.50:0.95 | area= large | maxDets=1000 ] = 0.566\n",
      "Average Recall     (AR) @[ IoU=0.50:0.95 | area=   all | maxDets=100 ] = 0.460\n",
      "Average Recall     (AR) @[ IoU=0.50:0.95 | area=   all | maxDets=300 ] = 0.460\n",
      "Average Recall     (AR) @[ IoU=0.50:0.95 | area=   all | maxDets=1000 ] = 0.460\n",
      "Average Recall     (AR) @[ IoU=0.50:0.95 | area= small | maxDets=1000 ] = 0.164\n",
      "Average Recall     (AR) @[ IoU=0.50:0.95 | area=medium | maxDets=1000 ] = 0.431\n",
      "Average Recall     (AR) @[ IoU=0.50:0.95 | area= large | maxDets=1000 ] = 0.704\n"
     ]
    },
    {
     "name": "stderr",
     "output_type": "stream",
     "text": [
      "2021-05-20 08:50:06,544 - mmdet - INFO - Epoch [2][50/1311]\tlr: 1.000e-05, eta: 23:50:23, time: 2.844, data_time: 0.081, memory: 13510, loss_rpn_cls: 0.0398, loss_rpn_bbox: 0.0233, s0.loss_cls: 0.1845, s0.acc: 93.3633, s0.loss_bbox: 0.2317, s0.loss_mask: 0.3750, s1.loss_cls: 0.0249, s1.acc: 93.3326, s1.loss_bbox: 0.0970, s1.loss_mask: 0.1961, s2.loss_cls: 0.0518, s2.acc: 93.3906, s2.loss_bbox: 0.0365, s2.loss_mask: 0.1023, loss: 1.3630, grad_norm: 7.3642\n",
      "2021-05-20 08:52:23,086 - mmdet - INFO - Epoch [2][100/1311]\tlr: 1.000e-05, eta: 1 day, 0:31:22, time: 2.731, data_time: 0.028, memory: 13510, loss_rpn_cls: 0.0468, loss_rpn_bbox: 0.0275, s0.loss_cls: 0.2017, s0.acc: 92.2148, s0.loss_bbox: 0.2564, s0.loss_mask: 0.3453, s1.loss_cls: 0.0267, s1.acc: 92.1410, s1.loss_bbox: 0.1085, s1.loss_mask: 0.1848, s2.loss_cls: 0.0584, s2.acc: 92.5919, s2.loss_bbox: 0.0413, s2.loss_mask: 0.0943, loss: 1.3917, grad_norm: 7.9661\n",
      "2021-05-20 08:55:34,370 - mmdet - INFO - Epoch [2][150/1311]\tlr: 1.000e-05, eta: 1 day, 1:45:20, time: 3.826, data_time: 0.041, memory: 13510, loss_rpn_cls: 0.0460, loss_rpn_bbox: 0.0271, s0.loss_cls: 0.2061, s0.acc: 92.2520, s0.loss_bbox: 0.2684, s0.loss_mask: 0.3004, s1.loss_cls: 0.0275, s1.acc: 91.7868, s1.loss_bbox: 0.1068, s1.loss_mask: 0.1584, s2.loss_cls: 0.0572, s2.acc: 92.6194, s2.loss_bbox: 0.0391, s2.loss_mask: 0.0813, loss: 1.3183, grad_norm: 7.6000\n"
     ]
    },
    {
     "ename": "KeyboardInterrupt",
     "evalue": "",
     "output_type": "error",
     "traceback": [
      "\u001b[0;31m---------------------------------------------------------------------------\u001b[0m",
      "\u001b[0;31mKeyboardInterrupt\u001b[0m                         Traceback (most recent call last)",
      "\u001b[0;32m<ipython-input-6-59b5768e9e45>\u001b[0m in \u001b[0;36m<module>\u001b[0;34m\u001b[0m\n\u001b[0;32m----> 1\u001b[0;31m \u001b[0mtrain_detector\u001b[0m\u001b[0;34m(\u001b[0m\u001b[0mmodel\u001b[0m\u001b[0;34m,\u001b[0m \u001b[0mdatasets\u001b[0m\u001b[0;34m[\u001b[0m\u001b[0;36m0\u001b[0m\u001b[0;34m]\u001b[0m\u001b[0;34m,\u001b[0m \u001b[0mcfg\u001b[0m\u001b[0;34m,\u001b[0m \u001b[0mdistributed\u001b[0m\u001b[0;34m=\u001b[0m\u001b[0;32mFalse\u001b[0m\u001b[0;34m,\u001b[0m \u001b[0mvalidate\u001b[0m\u001b[0;34m=\u001b[0m\u001b[0;32mTrue\u001b[0m\u001b[0;34m)\u001b[0m\u001b[0;34m\u001b[0m\u001b[0;34m\u001b[0m\u001b[0m\n\u001b[0m",
      "\u001b[0;32m~/code/mmdetection_trash/mmdet/apis/train.py\u001b[0m in \u001b[0;36mtrain_detector\u001b[0;34m(model, dataset, cfg, distributed, validate, timestamp, meta)\u001b[0m\n\u001b[1;32m    168\u001b[0m     \u001b[0;32melif\u001b[0m \u001b[0mcfg\u001b[0m\u001b[0;34m.\u001b[0m\u001b[0mload_from\u001b[0m\u001b[0;34m:\u001b[0m\u001b[0;34m\u001b[0m\u001b[0;34m\u001b[0m\u001b[0m\n\u001b[1;32m    169\u001b[0m         \u001b[0mrunner\u001b[0m\u001b[0;34m.\u001b[0m\u001b[0mload_checkpoint\u001b[0m\u001b[0;34m(\u001b[0m\u001b[0mcfg\u001b[0m\u001b[0;34m.\u001b[0m\u001b[0mload_from\u001b[0m\u001b[0;34m)\u001b[0m\u001b[0;34m\u001b[0m\u001b[0;34m\u001b[0m\u001b[0m\n\u001b[0;32m--> 170\u001b[0;31m     \u001b[0mrunner\u001b[0m\u001b[0;34m.\u001b[0m\u001b[0mrun\u001b[0m\u001b[0;34m(\u001b[0m\u001b[0mdata_loaders\u001b[0m\u001b[0;34m,\u001b[0m \u001b[0mcfg\u001b[0m\u001b[0;34m.\u001b[0m\u001b[0mworkflow\u001b[0m\u001b[0;34m)\u001b[0m\u001b[0;34m\u001b[0m\u001b[0;34m\u001b[0m\u001b[0m\n\u001b[0m",
      "\u001b[0;32m/opt/conda/lib/python3.7/site-packages/mmcv/runner/epoch_based_runner.py\u001b[0m in \u001b[0;36mrun\u001b[0;34m(self, data_loaders, workflow, max_epochs, **kwargs)\u001b[0m\n\u001b[1;32m    123\u001b[0m                     \u001b[0;32mif\u001b[0m \u001b[0mmode\u001b[0m \u001b[0;34m==\u001b[0m \u001b[0;34m'train'\u001b[0m \u001b[0;32mand\u001b[0m \u001b[0mself\u001b[0m\u001b[0;34m.\u001b[0m\u001b[0mepoch\u001b[0m \u001b[0;34m>=\u001b[0m \u001b[0mself\u001b[0m\u001b[0;34m.\u001b[0m\u001b[0m_max_epochs\u001b[0m\u001b[0;34m:\u001b[0m\u001b[0;34m\u001b[0m\u001b[0;34m\u001b[0m\u001b[0m\n\u001b[1;32m    124\u001b[0m                         \u001b[0;32mbreak\u001b[0m\u001b[0;34m\u001b[0m\u001b[0;34m\u001b[0m\u001b[0m\n\u001b[0;32m--> 125\u001b[0;31m                     \u001b[0mepoch_runner\u001b[0m\u001b[0;34m(\u001b[0m\u001b[0mdata_loaders\u001b[0m\u001b[0;34m[\u001b[0m\u001b[0mi\u001b[0m\u001b[0;34m]\u001b[0m\u001b[0;34m,\u001b[0m \u001b[0;34m**\u001b[0m\u001b[0mkwargs\u001b[0m\u001b[0;34m)\u001b[0m\u001b[0;34m\u001b[0m\u001b[0;34m\u001b[0m\u001b[0m\n\u001b[0m\u001b[1;32m    126\u001b[0m \u001b[0;34m\u001b[0m\u001b[0m\n\u001b[1;32m    127\u001b[0m         \u001b[0mtime\u001b[0m\u001b[0;34m.\u001b[0m\u001b[0msleep\u001b[0m\u001b[0;34m(\u001b[0m\u001b[0;36m1\u001b[0m\u001b[0;34m)\u001b[0m  \u001b[0;31m# wait for some hooks like loggers to finish\u001b[0m\u001b[0;34m\u001b[0m\u001b[0;34m\u001b[0m\u001b[0m\n",
      "\u001b[0;32m/opt/conda/lib/python3.7/site-packages/mmcv/runner/epoch_based_runner.py\u001b[0m in \u001b[0;36mtrain\u001b[0;34m(self, data_loader, **kwargs)\u001b[0m\n\u001b[1;32m     48\u001b[0m             \u001b[0mself\u001b[0m\u001b[0;34m.\u001b[0m\u001b[0m_inner_iter\u001b[0m \u001b[0;34m=\u001b[0m \u001b[0mi\u001b[0m\u001b[0;34m\u001b[0m\u001b[0;34m\u001b[0m\u001b[0m\n\u001b[1;32m     49\u001b[0m             \u001b[0mself\u001b[0m\u001b[0;34m.\u001b[0m\u001b[0mcall_hook\u001b[0m\u001b[0;34m(\u001b[0m\u001b[0;34m'before_train_iter'\u001b[0m\u001b[0;34m)\u001b[0m\u001b[0;34m\u001b[0m\u001b[0;34m\u001b[0m\u001b[0m\n\u001b[0;32m---> 50\u001b[0;31m             \u001b[0mself\u001b[0m\u001b[0;34m.\u001b[0m\u001b[0mrun_iter\u001b[0m\u001b[0;34m(\u001b[0m\u001b[0mdata_batch\u001b[0m\u001b[0;34m,\u001b[0m \u001b[0mtrain_mode\u001b[0m\u001b[0;34m=\u001b[0m\u001b[0;32mTrue\u001b[0m\u001b[0;34m,\u001b[0m \u001b[0;34m**\u001b[0m\u001b[0mkwargs\u001b[0m\u001b[0;34m)\u001b[0m\u001b[0;34m\u001b[0m\u001b[0;34m\u001b[0m\u001b[0m\n\u001b[0m\u001b[1;32m     51\u001b[0m             \u001b[0mself\u001b[0m\u001b[0;34m.\u001b[0m\u001b[0mcall_hook\u001b[0m\u001b[0;34m(\u001b[0m\u001b[0;34m'after_train_iter'\u001b[0m\u001b[0;34m)\u001b[0m\u001b[0;34m\u001b[0m\u001b[0;34m\u001b[0m\u001b[0m\n\u001b[1;32m     52\u001b[0m             \u001b[0mself\u001b[0m\u001b[0;34m.\u001b[0m\u001b[0m_iter\u001b[0m \u001b[0;34m+=\u001b[0m \u001b[0;36m1\u001b[0m\u001b[0;34m\u001b[0m\u001b[0;34m\u001b[0m\u001b[0m\n",
      "\u001b[0;32m/opt/conda/lib/python3.7/site-packages/mmcv/runner/epoch_based_runner.py\u001b[0m in \u001b[0;36mrun_iter\u001b[0;34m(self, data_batch, train_mode, **kwargs)\u001b[0m\n\u001b[1;32m     28\u001b[0m         \u001b[0;32melif\u001b[0m \u001b[0mtrain_mode\u001b[0m\u001b[0;34m:\u001b[0m\u001b[0;34m\u001b[0m\u001b[0;34m\u001b[0m\u001b[0m\n\u001b[1;32m     29\u001b[0m             outputs = self.model.train_step(data_batch, self.optimizer,\n\u001b[0;32m---> 30\u001b[0;31m                                             **kwargs)\n\u001b[0m\u001b[1;32m     31\u001b[0m         \u001b[0;32melse\u001b[0m\u001b[0;34m:\u001b[0m\u001b[0;34m\u001b[0m\u001b[0;34m\u001b[0m\u001b[0m\n\u001b[1;32m     32\u001b[0m             \u001b[0moutputs\u001b[0m \u001b[0;34m=\u001b[0m \u001b[0mself\u001b[0m\u001b[0;34m.\u001b[0m\u001b[0mmodel\u001b[0m\u001b[0;34m.\u001b[0m\u001b[0mval_step\u001b[0m\u001b[0;34m(\u001b[0m\u001b[0mdata_batch\u001b[0m\u001b[0;34m,\u001b[0m \u001b[0mself\u001b[0m\u001b[0;34m.\u001b[0m\u001b[0moptimizer\u001b[0m\u001b[0;34m,\u001b[0m \u001b[0;34m**\u001b[0m\u001b[0mkwargs\u001b[0m\u001b[0;34m)\u001b[0m\u001b[0;34m\u001b[0m\u001b[0;34m\u001b[0m\u001b[0m\n",
      "\u001b[0;32m/opt/conda/lib/python3.7/site-packages/mmcv/parallel/data_parallel.py\u001b[0m in \u001b[0;36mtrain_step\u001b[0;34m(self, *inputs, **kwargs)\u001b[0m\n\u001b[1;32m     65\u001b[0m \u001b[0;34m\u001b[0m\u001b[0m\n\u001b[1;32m     66\u001b[0m         \u001b[0minputs\u001b[0m\u001b[0;34m,\u001b[0m \u001b[0mkwargs\u001b[0m \u001b[0;34m=\u001b[0m \u001b[0mself\u001b[0m\u001b[0;34m.\u001b[0m\u001b[0mscatter\u001b[0m\u001b[0;34m(\u001b[0m\u001b[0minputs\u001b[0m\u001b[0;34m,\u001b[0m \u001b[0mkwargs\u001b[0m\u001b[0;34m,\u001b[0m \u001b[0mself\u001b[0m\u001b[0;34m.\u001b[0m\u001b[0mdevice_ids\u001b[0m\u001b[0;34m)\u001b[0m\u001b[0;34m\u001b[0m\u001b[0;34m\u001b[0m\u001b[0m\n\u001b[0;32m---> 67\u001b[0;31m         \u001b[0;32mreturn\u001b[0m \u001b[0mself\u001b[0m\u001b[0;34m.\u001b[0m\u001b[0mmodule\u001b[0m\u001b[0;34m.\u001b[0m\u001b[0mtrain_step\u001b[0m\u001b[0;34m(\u001b[0m\u001b[0;34m*\u001b[0m\u001b[0minputs\u001b[0m\u001b[0;34m[\u001b[0m\u001b[0;36m0\u001b[0m\u001b[0;34m]\u001b[0m\u001b[0;34m,\u001b[0m \u001b[0;34m**\u001b[0m\u001b[0mkwargs\u001b[0m\u001b[0;34m[\u001b[0m\u001b[0;36m0\u001b[0m\u001b[0;34m]\u001b[0m\u001b[0;34m)\u001b[0m\u001b[0;34m\u001b[0m\u001b[0;34m\u001b[0m\u001b[0m\n\u001b[0m\u001b[1;32m     68\u001b[0m \u001b[0;34m\u001b[0m\u001b[0m\n\u001b[1;32m     69\u001b[0m     \u001b[0;32mdef\u001b[0m \u001b[0mval_step\u001b[0m\u001b[0;34m(\u001b[0m\u001b[0mself\u001b[0m\u001b[0;34m,\u001b[0m \u001b[0;34m*\u001b[0m\u001b[0minputs\u001b[0m\u001b[0;34m,\u001b[0m \u001b[0;34m**\u001b[0m\u001b[0mkwargs\u001b[0m\u001b[0;34m)\u001b[0m\u001b[0;34m:\u001b[0m\u001b[0;34m\u001b[0m\u001b[0;34m\u001b[0m\u001b[0m\n",
      "\u001b[0;32m~/code/mmdetection_trash/mmdet/models/detectors/base.py\u001b[0m in \u001b[0;36mtrain_step\u001b[0;34m(self, data, optimizer)\u001b[0m\n\u001b[1;32m    245\u001b[0m                 \u001b[0maveraging\u001b[0m \u001b[0mthe\u001b[0m \u001b[0mlogs\u001b[0m\u001b[0;34m.\u001b[0m\u001b[0;34m\u001b[0m\u001b[0;34m\u001b[0m\u001b[0m\n\u001b[1;32m    246\u001b[0m         \"\"\"\n\u001b[0;32m--> 247\u001b[0;31m         \u001b[0mlosses\u001b[0m \u001b[0;34m=\u001b[0m \u001b[0mself\u001b[0m\u001b[0;34m(\u001b[0m\u001b[0;34m**\u001b[0m\u001b[0mdata\u001b[0m\u001b[0;34m)\u001b[0m\u001b[0;34m\u001b[0m\u001b[0;34m\u001b[0m\u001b[0m\n\u001b[0m\u001b[1;32m    248\u001b[0m         \u001b[0mloss\u001b[0m\u001b[0;34m,\u001b[0m \u001b[0mlog_vars\u001b[0m \u001b[0;34m=\u001b[0m \u001b[0mself\u001b[0m\u001b[0;34m.\u001b[0m\u001b[0m_parse_losses\u001b[0m\u001b[0;34m(\u001b[0m\u001b[0mlosses\u001b[0m\u001b[0;34m)\u001b[0m\u001b[0;34m\u001b[0m\u001b[0;34m\u001b[0m\u001b[0m\n\u001b[1;32m    249\u001b[0m \u001b[0;34m\u001b[0m\u001b[0m\n",
      "\u001b[0;32m/opt/conda/lib/python3.7/site-packages/torch/nn/modules/module.py\u001b[0m in \u001b[0;36m_call_impl\u001b[0;34m(self, *input, **kwargs)\u001b[0m\n\u001b[1;32m    725\u001b[0m             \u001b[0mresult\u001b[0m \u001b[0;34m=\u001b[0m \u001b[0mself\u001b[0m\u001b[0;34m.\u001b[0m\u001b[0m_slow_forward\u001b[0m\u001b[0;34m(\u001b[0m\u001b[0;34m*\u001b[0m\u001b[0minput\u001b[0m\u001b[0;34m,\u001b[0m \u001b[0;34m**\u001b[0m\u001b[0mkwargs\u001b[0m\u001b[0;34m)\u001b[0m\u001b[0;34m\u001b[0m\u001b[0;34m\u001b[0m\u001b[0m\n\u001b[1;32m    726\u001b[0m         \u001b[0;32melse\u001b[0m\u001b[0;34m:\u001b[0m\u001b[0;34m\u001b[0m\u001b[0;34m\u001b[0m\u001b[0m\n\u001b[0;32m--> 727\u001b[0;31m             \u001b[0mresult\u001b[0m \u001b[0;34m=\u001b[0m \u001b[0mself\u001b[0m\u001b[0;34m.\u001b[0m\u001b[0mforward\u001b[0m\u001b[0;34m(\u001b[0m\u001b[0;34m*\u001b[0m\u001b[0minput\u001b[0m\u001b[0;34m,\u001b[0m \u001b[0;34m**\u001b[0m\u001b[0mkwargs\u001b[0m\u001b[0;34m)\u001b[0m\u001b[0;34m\u001b[0m\u001b[0;34m\u001b[0m\u001b[0m\n\u001b[0m\u001b[1;32m    728\u001b[0m         for hook in itertools.chain(\n\u001b[1;32m    729\u001b[0m                 \u001b[0m_global_forward_hooks\u001b[0m\u001b[0;34m.\u001b[0m\u001b[0mvalues\u001b[0m\u001b[0;34m(\u001b[0m\u001b[0;34m)\u001b[0m\u001b[0;34m,\u001b[0m\u001b[0;34m\u001b[0m\u001b[0;34m\u001b[0m\u001b[0m\n",
      "\u001b[0;32m/opt/conda/lib/python3.7/site-packages/mmcv/runner/fp16_utils.py\u001b[0m in \u001b[0;36mnew_func\u001b[0;34m(*args, **kwargs)\u001b[0m\n\u001b[1;32m     93\u001b[0m                                 'method of nn.Module')\n\u001b[1;32m     94\u001b[0m             \u001b[0;32mif\u001b[0m \u001b[0;32mnot\u001b[0m \u001b[0;34m(\u001b[0m\u001b[0mhasattr\u001b[0m\u001b[0;34m(\u001b[0m\u001b[0margs\u001b[0m\u001b[0;34m[\u001b[0m\u001b[0;36m0\u001b[0m\u001b[0;34m]\u001b[0m\u001b[0;34m,\u001b[0m \u001b[0;34m'fp16_enabled'\u001b[0m\u001b[0;34m)\u001b[0m \u001b[0;32mand\u001b[0m \u001b[0margs\u001b[0m\u001b[0;34m[\u001b[0m\u001b[0;36m0\u001b[0m\u001b[0;34m]\u001b[0m\u001b[0;34m.\u001b[0m\u001b[0mfp16_enabled\u001b[0m\u001b[0;34m)\u001b[0m\u001b[0;34m:\u001b[0m\u001b[0;34m\u001b[0m\u001b[0;34m\u001b[0m\u001b[0m\n\u001b[0;32m---> 95\u001b[0;31m                 \u001b[0;32mreturn\u001b[0m \u001b[0mold_func\u001b[0m\u001b[0;34m(\u001b[0m\u001b[0;34m*\u001b[0m\u001b[0margs\u001b[0m\u001b[0;34m,\u001b[0m \u001b[0;34m**\u001b[0m\u001b[0mkwargs\u001b[0m\u001b[0;34m)\u001b[0m\u001b[0;34m\u001b[0m\u001b[0;34m\u001b[0m\u001b[0m\n\u001b[0m\u001b[1;32m     96\u001b[0m \u001b[0;34m\u001b[0m\u001b[0m\n\u001b[1;32m     97\u001b[0m             \u001b[0;31m# get the arg spec of the decorated method\u001b[0m\u001b[0;34m\u001b[0m\u001b[0;34m\u001b[0m\u001b[0;34m\u001b[0m\u001b[0m\n",
      "\u001b[0;32m~/code/mmdetection_trash/mmdet/models/detectors/base.py\u001b[0m in \u001b[0;36mforward\u001b[0;34m(self, img, img_metas, return_loss, **kwargs)\u001b[0m\n\u001b[1;32m    179\u001b[0m         \"\"\"\n\u001b[1;32m    180\u001b[0m         \u001b[0;32mif\u001b[0m \u001b[0mreturn_loss\u001b[0m\u001b[0;34m:\u001b[0m\u001b[0;34m\u001b[0m\u001b[0;34m\u001b[0m\u001b[0m\n\u001b[0;32m--> 181\u001b[0;31m             \u001b[0;32mreturn\u001b[0m \u001b[0mself\u001b[0m\u001b[0;34m.\u001b[0m\u001b[0mforward_train\u001b[0m\u001b[0;34m(\u001b[0m\u001b[0mimg\u001b[0m\u001b[0;34m,\u001b[0m \u001b[0mimg_metas\u001b[0m\u001b[0;34m,\u001b[0m \u001b[0;34m**\u001b[0m\u001b[0mkwargs\u001b[0m\u001b[0;34m)\u001b[0m\u001b[0;34m\u001b[0m\u001b[0;34m\u001b[0m\u001b[0m\n\u001b[0m\u001b[1;32m    182\u001b[0m         \u001b[0;32melse\u001b[0m\u001b[0;34m:\u001b[0m\u001b[0;34m\u001b[0m\u001b[0;34m\u001b[0m\u001b[0m\n\u001b[1;32m    183\u001b[0m             \u001b[0;32mreturn\u001b[0m \u001b[0mself\u001b[0m\u001b[0;34m.\u001b[0m\u001b[0mforward_test\u001b[0m\u001b[0;34m(\u001b[0m\u001b[0mimg\u001b[0m\u001b[0;34m,\u001b[0m \u001b[0mimg_metas\u001b[0m\u001b[0;34m,\u001b[0m \u001b[0;34m**\u001b[0m\u001b[0mkwargs\u001b[0m\u001b[0;34m)\u001b[0m\u001b[0;34m\u001b[0m\u001b[0;34m\u001b[0m\u001b[0m\n",
      "\u001b[0;32m~/code/mmdetection_trash/mmdet/models/detectors/two_stage.py\u001b[0m in \u001b[0;36mforward_train\u001b[0;34m(self, img, img_metas, gt_bboxes, gt_labels, gt_bboxes_ignore, gt_masks, proposals, **kwargs)\u001b[0m\n\u001b[1;32m    162\u001b[0m                                                  \u001b[0mgt_bboxes\u001b[0m\u001b[0;34m,\u001b[0m \u001b[0mgt_labels\u001b[0m\u001b[0;34m,\u001b[0m\u001b[0;34m\u001b[0m\u001b[0;34m\u001b[0m\u001b[0m\n\u001b[1;32m    163\u001b[0m                                                  \u001b[0mgt_bboxes_ignore\u001b[0m\u001b[0;34m,\u001b[0m \u001b[0mgt_masks\u001b[0m\u001b[0;34m,\u001b[0m\u001b[0;34m\u001b[0m\u001b[0;34m\u001b[0m\u001b[0m\n\u001b[0;32m--> 164\u001b[0;31m                                                  **kwargs)\n\u001b[0m\u001b[1;32m    165\u001b[0m         \u001b[0mlosses\u001b[0m\u001b[0;34m.\u001b[0m\u001b[0mupdate\u001b[0m\u001b[0;34m(\u001b[0m\u001b[0mroi_losses\u001b[0m\u001b[0;34m)\u001b[0m\u001b[0;34m\u001b[0m\u001b[0;34m\u001b[0m\u001b[0m\n\u001b[1;32m    166\u001b[0m \u001b[0;34m\u001b[0m\u001b[0m\n",
      "\u001b[0;32m~/code/mmdetection_trash/mmdet/models/roi_heads/cascade_roi_head.py\u001b[0m in \u001b[0;36mforward_train\u001b[0;34m(self, x, img_metas, proposal_list, gt_bboxes, gt_labels, gt_bboxes_ignore, gt_masks)\u001b[0m\n\u001b[1;32m    257\u001b[0m             bbox_results = self._bbox_forward_train(i, x, sampling_results,\n\u001b[1;32m    258\u001b[0m                                                     \u001b[0mgt_bboxes\u001b[0m\u001b[0;34m,\u001b[0m \u001b[0mgt_labels\u001b[0m\u001b[0;34m,\u001b[0m\u001b[0;34m\u001b[0m\u001b[0;34m\u001b[0m\u001b[0m\n\u001b[0;32m--> 259\u001b[0;31m                                                     rcnn_train_cfg)\n\u001b[0m\u001b[1;32m    260\u001b[0m \u001b[0;34m\u001b[0m\u001b[0m\n\u001b[1;32m    261\u001b[0m             \u001b[0;32mfor\u001b[0m \u001b[0mname\u001b[0m\u001b[0;34m,\u001b[0m \u001b[0mvalue\u001b[0m \u001b[0;32min\u001b[0m \u001b[0mbbox_results\u001b[0m\u001b[0;34m[\u001b[0m\u001b[0;34m'loss_bbox'\u001b[0m\u001b[0;34m]\u001b[0m\u001b[0;34m.\u001b[0m\u001b[0mitems\u001b[0m\u001b[0;34m(\u001b[0m\u001b[0;34m)\u001b[0m\u001b[0;34m:\u001b[0m\u001b[0;34m\u001b[0m\u001b[0;34m\u001b[0m\u001b[0m\n",
      "\u001b[0;32m~/code/mmdetection_trash/mmdet/models/roi_heads/cascade_roi_head.py\u001b[0m in \u001b[0;36m_bbox_forward_train\u001b[0;34m(self, stage, x, sampling_results, gt_bboxes, gt_labels, rcnn_train_cfg)\u001b[0m\n\u001b[1;32m    160\u001b[0m         loss_bbox = self.bbox_head[stage].loss(bbox_results['cls_score'],\n\u001b[1;32m    161\u001b[0m                                                \u001b[0mbbox_results\u001b[0m\u001b[0;34m[\u001b[0m\u001b[0;34m'bbox_pred'\u001b[0m\u001b[0;34m]\u001b[0m\u001b[0;34m,\u001b[0m \u001b[0mrois\u001b[0m\u001b[0;34m,\u001b[0m\u001b[0;34m\u001b[0m\u001b[0;34m\u001b[0m\u001b[0m\n\u001b[0;32m--> 162\u001b[0;31m                                                *bbox_targets)\n\u001b[0m\u001b[1;32m    163\u001b[0m \u001b[0;34m\u001b[0m\u001b[0m\n\u001b[1;32m    164\u001b[0m         bbox_results.update(\n",
      "\u001b[0;32m/opt/conda/lib/python3.7/site-packages/mmcv/runner/fp16_utils.py\u001b[0m in \u001b[0;36mnew_func\u001b[0;34m(*args, **kwargs)\u001b[0m\n\u001b[1;32m    180\u001b[0m                                 'method of nn.Module')\n\u001b[1;32m    181\u001b[0m             \u001b[0;32mif\u001b[0m \u001b[0;32mnot\u001b[0m \u001b[0;34m(\u001b[0m\u001b[0mhasattr\u001b[0m\u001b[0;34m(\u001b[0m\u001b[0margs\u001b[0m\u001b[0;34m[\u001b[0m\u001b[0;36m0\u001b[0m\u001b[0;34m]\u001b[0m\u001b[0;34m,\u001b[0m \u001b[0;34m'fp16_enabled'\u001b[0m\u001b[0;34m)\u001b[0m \u001b[0;32mand\u001b[0m \u001b[0margs\u001b[0m\u001b[0;34m[\u001b[0m\u001b[0;36m0\u001b[0m\u001b[0;34m]\u001b[0m\u001b[0;34m.\u001b[0m\u001b[0mfp16_enabled\u001b[0m\u001b[0;34m)\u001b[0m\u001b[0;34m:\u001b[0m\u001b[0;34m\u001b[0m\u001b[0;34m\u001b[0m\u001b[0m\n\u001b[0;32m--> 182\u001b[0;31m                 \u001b[0;32mreturn\u001b[0m \u001b[0mold_func\u001b[0m\u001b[0;34m(\u001b[0m\u001b[0;34m*\u001b[0m\u001b[0margs\u001b[0m\u001b[0;34m,\u001b[0m \u001b[0;34m**\u001b[0m\u001b[0mkwargs\u001b[0m\u001b[0;34m)\u001b[0m\u001b[0;34m\u001b[0m\u001b[0;34m\u001b[0m\u001b[0m\n\u001b[0m\u001b[1;32m    183\u001b[0m             \u001b[0;31m# get the arg spec of the decorated method\u001b[0m\u001b[0;34m\u001b[0m\u001b[0;34m\u001b[0m\u001b[0;34m\u001b[0m\u001b[0m\n\u001b[1;32m    184\u001b[0m             \u001b[0margs_info\u001b[0m \u001b[0;34m=\u001b[0m \u001b[0mgetfullargspec\u001b[0m\u001b[0;34m(\u001b[0m\u001b[0mold_func\u001b[0m\u001b[0;34m)\u001b[0m\u001b[0;34m\u001b[0m\u001b[0;34m\u001b[0m\u001b[0m\n",
      "\u001b[0;32m~/code/mmdetection_trash/mmdet/models/roi_heads/bbox_heads/bbox_head.py\u001b[0m in \u001b[0;36mloss\u001b[0;34m(self, cls_score, bbox_pred, rois, labels, label_weights, bbox_targets, bbox_weights, reduction_override)\u001b[0m\n\u001b[1;32m    228\u001b[0m         \u001b[0mlosses\u001b[0m \u001b[0;34m=\u001b[0m \u001b[0mdict\u001b[0m\u001b[0;34m(\u001b[0m\u001b[0;34m)\u001b[0m\u001b[0;34m\u001b[0m\u001b[0;34m\u001b[0m\u001b[0m\n\u001b[1;32m    229\u001b[0m         \u001b[0;32mif\u001b[0m \u001b[0mcls_score\u001b[0m \u001b[0;32mis\u001b[0m \u001b[0;32mnot\u001b[0m \u001b[0;32mNone\u001b[0m\u001b[0;34m:\u001b[0m\u001b[0;34m\u001b[0m\u001b[0;34m\u001b[0m\u001b[0m\n\u001b[0;32m--> 230\u001b[0;31m             \u001b[0mavg_factor\u001b[0m \u001b[0;34m=\u001b[0m \u001b[0mmax\u001b[0m\u001b[0;34m(\u001b[0m\u001b[0mtorch\u001b[0m\u001b[0;34m.\u001b[0m\u001b[0msum\u001b[0m\u001b[0;34m(\u001b[0m\u001b[0mlabel_weights\u001b[0m \u001b[0;34m>\u001b[0m \u001b[0;36m0\u001b[0m\u001b[0;34m)\u001b[0m\u001b[0;34m.\u001b[0m\u001b[0mfloat\u001b[0m\u001b[0;34m(\u001b[0m\u001b[0;34m)\u001b[0m\u001b[0;34m.\u001b[0m\u001b[0mitem\u001b[0m\u001b[0;34m(\u001b[0m\u001b[0;34m)\u001b[0m\u001b[0;34m,\u001b[0m \u001b[0;36m1.\u001b[0m\u001b[0;34m)\u001b[0m\u001b[0;34m\u001b[0m\u001b[0;34m\u001b[0m\u001b[0m\n\u001b[0m\u001b[1;32m    231\u001b[0m             \u001b[0;32mif\u001b[0m \u001b[0mcls_score\u001b[0m\u001b[0;34m.\u001b[0m\u001b[0mnumel\u001b[0m\u001b[0;34m(\u001b[0m\u001b[0;34m)\u001b[0m \u001b[0;34m>\u001b[0m \u001b[0;36m0\u001b[0m\u001b[0;34m:\u001b[0m\u001b[0;34m\u001b[0m\u001b[0;34m\u001b[0m\u001b[0m\n\u001b[1;32m    232\u001b[0m                 losses['loss_cls'] = self.loss_cls(\n",
      "\u001b[0;31mKeyboardInterrupt\u001b[0m: "
     ]
    }
   ],
   "source": [
    "train_detector(model, datasets[0], cfg, distributed=False, validate=True)"
   ]
  },
  {
   "cell_type": "code",
   "execution_count": null,
   "metadata": {},
   "outputs": [],
   "source": []
  },
  {
   "cell_type": "code",
   "execution_count": null,
   "metadata": {},
   "outputs": [],
   "source": []
  }
 ],
 "metadata": {
  "kernelspec": {
   "display_name": "Python 3",
   "language": "python",
   "name": "python3"
  },
  "language_info": {
   "codemirror_mode": {
    "name": "ipython",
    "version": 3
   },
   "file_extension": ".py",
   "mimetype": "text/x-python",
   "name": "python",
   "nbconvert_exporter": "python",
   "pygments_lexer": "ipython3",
   "version": "3.7.7"
  },
  "pycharm": {
   "stem_cell": {
    "cell_type": "raw",
    "metadata": {
     "collapsed": false
    },
    "source": []
   }
  }
 },
 "nbformat": 4,
 "nbformat_minor": 4
}
