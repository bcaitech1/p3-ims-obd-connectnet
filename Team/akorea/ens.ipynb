{
 "cells": [
  {
   "cell_type": "code",
   "execution_count": 1,
   "id": "8834edf3-0e36-4e9c-8ad1-d13a0343036a",
   "metadata": {},
   "outputs": [],
   "source": [
    "import pandas as pd\n",
    "import numpy as np\n",
    "import time\n"
   ]
  },
  {
   "cell_type": "code",
   "execution_count": 2,
   "id": "920837c7-3396-4488-85b3-1e152308139f",
   "metadata": {},
   "outputs": [
    {
     "name": "stdout",
     "output_type": "stream",
     "text": [
      "time : 161.23835802078247\n",
      "done\n"
     ]
    }
   ],
   "source": [
    "df = {}\n",
    "data ={}\n",
    "\n",
    "number =5\n",
    "\n",
    "start = time.time() \n",
    "\n",
    "df[0] = pd.read_csv('./output/resilient-FPNt-b3-2_23.csv')\n",
    "df[1] = pd.read_csv('./output/resilient-FPNt-b3-2_15.csv')\n",
    "df[2] = pd.read_csv('./output/resilient-FPNt-b3-2_25.csv')\n",
    "df[3] = pd.read_csv('./output/drawn-FPNt-b0-5_26.csv')\n",
    "\n",
    "\n",
    "number =len(df)\n",
    "\n",
    "pred_df = df[0].copy()\n",
    "\n",
    "\n",
    "for n in range(len(pred_df)):\n",
    "    pred=\"\"\n",
    "   \n",
    "    for i in range(number):\n",
    "        data[i] = np.fromstring(df[i][\"PredictionString\"][n], dtype=int, sep=' ')\n",
    "        data[i]= data[i].reshape(-1,1)\n",
    "        \n",
    "        \n",
    "        if i ==0:\n",
    "            x = data[0]\n",
    "        else:\n",
    "            x= np.hstack((x, data[i]))\n",
    "\n",
    "\n",
    "    for i in range (x.shape[0]):\n",
    "        pred+=str(np.bincount(x[i]).argmax())+\" \"\n",
    "    pred_df['PredictionString'][n] =pred.strip()\n",
    "\n",
    "pred_df.to_csv(\"./output/test.csv\", index=False)\n",
    "print(\"time :\", time.time() - start)\n",
    "print('done')"
   ]
  }
 ],
 "metadata": {
  "kernelspec": {
   "display_name": "Python 3",
   "language": "python",
   "name": "python3"
  },
  "language_info": {
   "codemirror_mode": {
    "name": "ipython",
    "version": 3
   },
   "file_extension": ".py",
   "mimetype": "text/x-python",
   "name": "python",
   "nbconvert_exporter": "python",
   "pygments_lexer": "ipython3",
   "version": "3.7.7"
  }
 },
 "nbformat": 4,
 "nbformat_minor": 5
}
