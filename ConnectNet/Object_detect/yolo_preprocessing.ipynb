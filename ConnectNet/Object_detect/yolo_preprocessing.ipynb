{
 "cells": [
  {
   "cell_type": "code",
   "execution_count": 1,
   "id": "52a739e4-617f-45b8-a946-bd74c3401b90",
   "metadata": {},
   "outputs": [],
   "source": [
    "from pycocotools.coco import COCO\n",
    "from pycocotools.cocoeval import COCOeval\n",
    "import numpy as np\n",
    "import cv2\n",
    "import os\n",
    "\n",
    "import albumentations as A\n",
    "from albumentations.pytorch.transforms import ToTensorV2\n",
    "\n",
    "import torch\n",
    "# faster rcnn model이 포함된 library\n",
    "import torchvision\n",
    "from torchvision import transforms\n",
    "from torchvision.models.detection.faster_rcnn import FastRCNNPredictor\n",
    "\n",
    "from torch.utils.data import DataLoader, Dataset\n",
    "import pandas as pd\n",
    "from tqdm import tqdm\n",
    "from PIL import Image\n",
    "import matplotlib.pyplot as plt\n",
    "import shutil"
   ]
  },
  {
   "cell_type": "code",
   "execution_count": 2,
   "id": "2a6ff9b3-61fe-49e0-9e12-1dd92dbe4936",
   "metadata": {},
   "outputs": [],
   "source": [
    "class CustomDataset(Dataset):\n",
    "    '''\n",
    "      data_dir: data가 존재하는 폴더 경로\n",
    "      transforms: data transform (resize, crop, Totensor, etc,,,)\n",
    "    '''\n",
    "\n",
    "    def __init__(self, annotation, data_dir, mode, transforms=None):\n",
    "        super().__init__()\n",
    "        self.data_dir = data_dir\n",
    "        # coco annotation 불러오기 (coco API)\n",
    "        self.coco = COCO(annotation)\n",
    "        self.predictions = {\n",
    "            \"images\": self.coco.dataset[\"images\"].copy(),\n",
    "            \"categories\": self.coco.dataset[\"categories\"].copy(),\n",
    "            \"annotations\": None\n",
    "        }\n",
    "        self.transforms = transforms\n",
    "        self.mode = mode\n",
    "\n",
    "    def __getitem__(self, index):\n",
    "        image_id = self.coco.getImgIds(imgIds=index)\n",
    "\n",
    "        image_info = self.coco.loadImgs(image_id)[0]\n",
    "        \n",
    "        image = cv2.imread(os.path.join(self.data_dir, image_info['file_name']))\n",
    "        image = cv2.cvtColor(image, cv2.COLOR_BGR2RGB)\n",
    "        \n",
    "        if self.mode != 'test':\n",
    "            ann_ids = self.coco.getAnnIds(imgIds=image_info['id'])\n",
    "            anns = self.coco.loadAnns(ann_ids)\n",
    "\n",
    "\n",
    "            boxes = np.array([x['bbox'] for x in anns])\n",
    "\n",
    "            labels = np.array([x['category_id'] for x in anns])\n",
    "\n",
    "            boxes[:,0] = boxes[:,0] + boxes[:,2] / 2\n",
    "            boxes[:,1] = boxes[:,1] + boxes[:,3] / 2\n",
    "\n",
    "            boxes /= 512\n",
    "\n",
    "            target = {'boxes': boxes, 'labels': labels, 'image_id': torch.tensor([index])}\n",
    "\n",
    "            # transform\n",
    "            if self.transforms:\n",
    "                sample = {\n",
    "                    'image': image,\n",
    "                    'bboxes': target['boxes'],\n",
    "                    'labels': labels\n",
    "                }\n",
    "                sample = self.transforms(**sample)\n",
    "                image = sample['image']\n",
    "                target['boxes'] = sample['bboxes']\n",
    "\n",
    "            data = []\n",
    "            for i,j in zip(target['boxes'], target['labels']):\n",
    "                x,y,w,h = i\n",
    "                data.append([j, x, y, w, h])\n",
    "\n",
    "            filename = image_info['file_name'][:-4].replace('/', '_')\n",
    "            data = np.array(data)\n",
    "\n",
    "            np.savetxt(os.path.join('../../yolov5/trash_data/labels/' + f'{self.mode}/{filename}.txt'),\n",
    "                          data,\n",
    "                          fmt = ['%d', '%f', '%f', '%f', '%f'])\n",
    "\n",
    "            new_img = Image.fromarray(image)\n",
    "            new_img.save('../../yolov5/trash_data/images/' + f'{self.mode}/{filename}.jpg')\n",
    "            \n",
    "#             return image, data, filename\n",
    "            \n",
    "        else:\n",
    "            filename = image_info['file_name'].replace('/', '_')\n",
    "            shutil.copyfile(os.path.join(self.data_dir, image_info['file_name']),\n",
    "                            os.path.join('../../yolov5/trash_data/images/test', filename))\n",
    "    \n",
    "    def __len__(self):\n",
    "        return len(self.coco.getImgIds())"
   ]
  },
  {
   "cell_type": "code",
   "execution_count": 3,
   "id": "3a5e1a68-36f4-4d52-8808-bcad164d0fda",
   "metadata": {},
   "outputs": [],
   "source": [
    "def get_train_transform():\n",
    "    return A.Compose([\n",
    "#                       A.HueSaturationValue(hue_shift_limit = 10, sat_shift_limit = 35, val_shift_limit = 25, p = 1),\n",
    "                      A.RandomGamma((100,150), p = 0.6),\n",
    "                      A.CLAHE(7,p=0.6),\n",
    "                      A.RandomBrightnessContrast(brightness_limit=(0.0,0.15), contrast_limit=(0.1,0.3), p = 0.6)],\n",
    "                     bbox_params={'format': 'yolo','label_fields': ['labels']})\n",
    "\n",
    "\n",
    "def get_valid_transform():\n",
    "    return A.Compose([\n",
    "#                       A.HueSaturationValue(hue_shift_limit = 10, sat_shift_limit = 35, val_shift_limit = 25, p = 1),\n",
    "                      A.RandomGamma((100,150), p = 0.6),\n",
    "                      A.CLAHE(7,p=0.6),\n",
    "                      A.RandomBrightnessContrast(brightness_limit=(0.0,0.15), contrast_limit=(0.1,0.3), p = 0.6)],\n",
    "                     bbox_params={'format': 'yolo','label_fields': ['labels']})"
   ]
  },
  {
   "cell_type": "code",
   "execution_count": 4,
   "id": "8bf3942b-d73d-4f38-9e71-a12ed0953d35",
   "metadata": {},
   "outputs": [
    {
     "name": "stdout",
     "output_type": "stream",
     "text": [
      "loading annotations into memory...\n",
      "Done (t=3.33s)\n",
      "creating index...\n",
      "index created!\n"
     ]
    }
   ],
   "source": [
    "data_dir = '../../input/data'\n",
    "annotation = data_dir + '/train_data1.json'\n",
    "\n",
    "temp = CustomDataset(annotation, data_dir, 'train', get_train_transform())"
   ]
  },
  {
   "cell_type": "code",
   "execution_count": 5,
   "id": "61f9c5c2-99aa-4b11-858c-f00523d9b002",
   "metadata": {},
   "outputs": [],
   "source": [
    "for i in range(len(temp)):\n",
    "    temp[i]"
   ]
  },
  {
   "cell_type": "code",
   "execution_count": 6,
   "id": "c9e17582-e827-4981-a3b9-fef037c8ab9c",
   "metadata": {},
   "outputs": [
    {
     "name": "stdout",
     "output_type": "stream",
     "text": [
      "loading annotations into memory...\n",
      "Done (t=1.16s)\n",
      "creating index...\n",
      "index created!\n"
     ]
    }
   ],
   "source": [
    "data_dir = '../../input/data'\n",
    "annotation = data_dir + '/valid_data1.json'\n",
    "\n",
    "temp = CustomDataset(annotation, data_dir, 'validation', get_valid_transform())"
   ]
  },
  {
   "cell_type": "code",
   "execution_count": 7,
   "id": "3a362ef7-e544-4434-9022-57d2edeae824",
   "metadata": {},
   "outputs": [],
   "source": [
    "for i in range(len(temp)):\n",
    "    temp[i]"
   ]
  },
  {
   "cell_type": "code",
   "execution_count": 8,
   "id": "b9d15039-5337-4380-a846-c26629dc6b29",
   "metadata": {},
   "outputs": [
    {
     "name": "stdout",
     "output_type": "stream",
     "text": [
      "loading annotations into memory...\n",
      "Done (t=0.01s)\n",
      "creating index...\n",
      "index created!\n"
     ]
    }
   ],
   "source": [
    "data_dir = '../../input/data'\n",
    "annotation = data_dir + '/test.json'\n",
    "\n",
    "temp = CustomDataset(annotation, data_dir, 'test')"
   ]
  },
  {
   "cell_type": "code",
   "execution_count": 9,
   "id": "72e58347-3707-4052-bbe4-3cfa1f75cdef",
   "metadata": {},
   "outputs": [],
   "source": [
    "for i in range(len(temp)):\n",
    "    temp[i]"
   ]
  }
 ],
 "metadata": {
  "kernelspec": {
   "display_name": "Python 3",
   "language": "python",
   "name": "python3"
  },
  "language_info": {
   "codemirror_mode": {
    "name": "ipython",
    "version": 3
   },
   "file_extension": ".py",
   "mimetype": "text/x-python",
   "name": "python",
   "nbconvert_exporter": "python",
   "pygments_lexer": "ipython3",
   "version": "3.7.7"
  }
 },
 "nbformat": 4,
 "nbformat_minor": 5
}
