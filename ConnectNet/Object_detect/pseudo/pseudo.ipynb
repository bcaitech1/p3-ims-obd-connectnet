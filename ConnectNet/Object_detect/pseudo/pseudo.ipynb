{
 "cells": [
  {
   "cell_type": "code",
   "execution_count": 7,
   "id": "19cae3a0-37d9-445c-8dfe-807cb23641e8",
   "metadata": {},
   "outputs": [
    {
     "data": {
      "text/html": [
       "<div>\n",
       "<style scoped>\n",
       "    .dataframe tbody tr th:only-of-type {\n",
       "        vertical-align: middle;\n",
       "    }\n",
       "\n",
       "    .dataframe tbody tr th {\n",
       "        vertical-align: top;\n",
       "    }\n",
       "\n",
       "    .dataframe thead th {\n",
       "        text-align: right;\n",
       "    }\n",
       "</style>\n",
       "<table border=\"1\" class=\"dataframe\">\n",
       "  <thead>\n",
       "    <tr style=\"text-align: right;\">\n",
       "      <th></th>\n",
       "      <th>PredictionString</th>\n",
       "      <th>image_id</th>\n",
       "    </tr>\n",
       "  </thead>\n",
       "  <tbody>\n",
       "    <tr>\n",
       "      <th>0</th>\n",
       "      <td>8 0.9396691918373108 172.986572265625 235.0530...</td>\n",
       "      <td>batch_01_vt/0021.jpg</td>\n",
       "    </tr>\n",
       "    <tr>\n",
       "      <th>1</th>\n",
       "      <td>8 0.9135417342185974 158.7433319091797 57.3150...</td>\n",
       "      <td>batch_01_vt/0028.jpg</td>\n",
       "    </tr>\n",
       "    <tr>\n",
       "      <th>2</th>\n",
       "      <td>1 0.8247161507606506 71.08919525146484 169.160...</td>\n",
       "      <td>batch_01_vt/0031.jpg</td>\n",
       "    </tr>\n",
       "    <tr>\n",
       "      <th>3</th>\n",
       "      <td>8 0.8648725152015686 32.01179885864258 125.683...</td>\n",
       "      <td>batch_01_vt/0032.jpg</td>\n",
       "    </tr>\n",
       "    <tr>\n",
       "      <th>4</th>\n",
       "      <td>8 0.940662682056427 149.37664794921875 0.19925...</td>\n",
       "      <td>batch_01_vt/0070.jpg</td>\n",
       "    </tr>\n",
       "  </tbody>\n",
       "</table>\n",
       "</div>"
      ],
      "text/plain": [
       "                                    PredictionString              image_id\n",
       "0  8 0.9396691918373108 172.986572265625 235.0530...  batch_01_vt/0021.jpg\n",
       "1  8 0.9135417342185974 158.7433319091797 57.3150...  batch_01_vt/0028.jpg\n",
       "2  1 0.8247161507606506 71.08919525146484 169.160...  batch_01_vt/0031.jpg\n",
       "3  8 0.8648725152015686 32.01179885864258 125.683...  batch_01_vt/0032.jpg\n",
       "4  8 0.940662682056427 149.37664794921875 0.19925...  batch_01_vt/0070.jpg"
      ]
     },
     "execution_count": 7,
     "metadata": {},
     "output_type": "execute_result"
    }
   ],
   "source": [
    "import pandas as pd\n",
    "import json \n",
    "\n",
    "\n",
    "df = pd.read_csv('final.csv')\n",
    "\n",
    "df.head()"
   ]
  },
  {
   "cell_type": "code",
   "execution_count": 8,
   "id": "07f15683-7f13-4d34-b045-e34ee9ed7f31",
   "metadata": {},
   "outputs": [
    {
     "name": "stdout",
     "output_type": "stream",
     "text": [
      "837\n"
     ]
    }
   ],
   "source": [
    "print(len(df['image_id']))"
   ]
  },
  {
   "cell_type": "code",
   "execution_count": 9,
   "id": "3331b301-ad8b-47b5-9c49-b3a00a0b521d",
   "metadata": {},
   "outputs": [
    {
     "name": "stdout",
     "output_type": "stream",
     "text": [
      "[8.00000000e+00 9.39669192e-01 1.72986572e+02 2.35053085e+02\n",
      " 4.61859467e+02 4.70989594e+02 2.00000000e+00 1.54796854e-01\n",
      " 1.51095032e+02 6.31322746e+01]\n",
      "[2.55048859e+02 1.65999908e+02 1.00000000e+00 7.37537146e-02\n",
      " 1.51673416e+02 6.31665154e+01 2.55493103e+02 1.65492981e+02\n",
      " 6.00000000e+00 4.77585718e-02]\n",
      "[3.94999817e+02 3.65999878e+02 4.40999878e+02 4.30999786e+02\n",
      " 8.00000000e+00 3.65048572e-02 2.41999893e+02 2.56000244e+02\n",
      " 4.00000031e+02 4.42000153e+02]\n",
      "[4.43000092e+02 4.31999725e+02 1.00000000e+00 2.52760015e-02\n",
      " 1.84798874e+02 3.63593475e+02 2.08691330e+02 3.98619141e+02\n",
      " 1.00000000e+00 1.73583795e-02]\n",
      "[2.27533800e+02 1.54430050e+02 2.51068950e+02 2.40088670e+02\n",
      " 1.00000000e+00 1.38099748e-02 5.17362000e-01 3.33989350e+02\n",
      " 8.11788000e+01 4.49212650e+02]\n"
     ]
    }
   ],
   "source": [
    "import numpy \n",
    "\n",
    "pred= df['PredictionString'][0]\n",
    "\n",
    "\n",
    "test= pred.split()\n",
    "test = map(float, test)\n",
    "test = list(test)\n",
    "test = numpy.array(test).reshape(6,-1)\n",
    "for d in test:\n",
    "    if d[1] > 0.75:\n",
    "        print(d)\n",
    "#print(test[0, 1])"
   ]
  },
  {
   "cell_type": "code",
   "execution_count": 10,
   "id": "ed31cf9a-bc43-4c20-8706-521c3a50d9e4",
   "metadata": {},
   "outputs": [],
   "source": [
    "from collections import OrderedDict\n",
    "\n",
    "data = OrderedDict()\n",
    "\n",
    "\n",
    "pseudo_images=[]\n",
    "size = len(df['image_id'])\n",
    "\n",
    "for i in range(size):\n",
    "    pseudo_images.append(\n",
    "        {\n",
    "            \"license\": \"\",\n",
    "            \"url\": \"\",\n",
    "            \"file_name\": df['image_id'][i],\n",
    "            \"height\": 512,\n",
    "            \"width\": 512,\n",
    "            \"date_captured\": 0,\n",
    "            \"id\": i\n",
    "            \n",
    "        }\n",
    "    )\n",
    "data[\"images\"] = pseudo_images"
   ]
  },
  {
   "cell_type": "code",
   "execution_count": 11,
   "id": "4826ad87-3f88-43e3-831a-834e678cefb9",
   "metadata": {},
   "outputs": [
    {
     "name": "stdout",
     "output_type": "stream",
     "text": [
      "[8.0, 0.8713299632072449, 157.2597198486328, 230.3306884765625, 378.59722900390625, 393.18499755859375, 6.0, 0.06721837818622589, 157.3400115966797, 231.5853729248047, 378.0379638671875, 394.86767578125, 8.0, 0.015433830952380953, 100.00061, 117.00389, 420.63608, 412.1353]\n",
      "(3, 6)\n"
     ]
    }
   ],
   "source": [
    "pseudo_annotations =[]\n",
    "pred= df['PredictionString'][11]\n",
    "\n",
    "\n",
    "bbox = pred.split()\n",
    "bbox = map(float, bbox)\n",
    "bbox = list(bbox)\n",
    "print(bbox)\n",
    "bbox = numpy.array(bbox).reshape(-1,6)\n",
    "print(bbox.shape)\n",
    "for d in bbox:\n",
    "    if d[1] > 0.75:        \n",
    "        x, y, w, h = tuple(d[2:])\n",
    "        id = int(d[0])\n",
    "        pseudo_annotations.append(\n",
    "            {\n",
    "                \"segmentation\": \"\",\n",
    "                \"area\": w * h,\n",
    "                \"image_id\": i,\n",
    "                \"category_id\": id,\n",
    "                \"bbox\": [x, y, w, h],\n",
    "                \"iscrowd\": 0\n",
    "            }\n",
    "        )\n",
    "#print(pseudo_annotations)\n",
    "data[\"annotations\"] = pseudo_annotations"
   ]
  },
  {
   "cell_type": "code",
   "execution_count": 154,
   "id": "1360a538-2987-46d9-958f-87ad4c08919d",
   "metadata": {},
   "outputs": [
    {
     "data": {
      "text/plain": [
       "'8 0.8713299632072449 157.2597198486328 230.3306884765625 378.59722900390625 393.18499755859375 6 0.06721837818622589 157.3400115966797 231.5853729248047 378.0379638671875 394.86767578125 8 0.015433830952380953 100.00061 117.00389 420.63608 412.1353 '"
      ]
     },
     "execution_count": 154,
     "metadata": {},
     "output_type": "execute_result"
    }
   ],
   "source": [
    "df['PredictionString'][11]"
   ]
  },
  {
   "cell_type": "code",
   "execution_count": 15,
   "id": "cab098b7-ddc9-46d3-a69d-1d43424cf04b",
   "metadata": {},
   "outputs": [],
   "source": [
    "from collections import OrderedDict\n",
    "import numpy\n",
    "\n",
    "data = OrderedDict()\n",
    "\n",
    "pseudo_annotations =[]\n",
    "pseudo_images=[]\n",
    "size = len(df['image_id'])\n",
    "\n",
    "#size =11\n",
    "cnt = 0\n",
    "for i in range(size):\n",
    "    pseudo_images.append(\n",
    "        {\n",
    "            \"license\": \"\",\n",
    "            \"url\": \"\",\n",
    "            \"file_name\": df['image_id'][i],\n",
    "            \"height\": 512,\n",
    "            \"width\": 512,\n",
    "            \"date_captured\": 0,\n",
    "            \"id\": i\n",
    "            \n",
    "        }\n",
    "    )\n",
    "    pred= df['PredictionString'][i]\n",
    "    bbox = pred.split()\n",
    "    bbox = map(float, bbox)\n",
    "    bbox = list(bbox)\n",
    "    bbox = numpy.array(bbox).reshape(-1,6)\n",
    "   \n",
    " #   cnt =0\n",
    "    for d in bbox:\n",
    "        if d[1] > 0.75:\n",
    "            x_min, y_min, x_max, y_max = tuple(d[2:6])\n",
    "            w = x_max-x_min\n",
    "            h  = y_max - y_min\n",
    "            #id = int(d[0])\n",
    "            pseudo_annotations.append(\n",
    "                {\n",
    "                    \"id\": cnt,\n",
    "                    \"segmentation\": 0,\n",
    "                    \"area\": w * h,\n",
    "                    \"image_id\": i,\n",
    "                    \"category_id\": id,\n",
    "                    \"bbox\": [x_min, y_min, w, h],\n",
    "                    \"iscrowd\": 0\n",
    "                }\n",
    "            )\n",
    "\n",
    "            cnt +=1\n",
    "    \n",
    "data[\"images\"] = pseudo_images\n",
    "data[\"annotations\"] = pseudo_annotations\n"
   ]
  },
  {
   "cell_type": "code",
   "execution_count": 16,
   "id": "4b7ddebe-857a-4bd6-88e0-73de8123e487",
   "metadata": {},
   "outputs": [],
   "source": [
    "cls = [\n",
    "    'UNKNOWN',\n",
    "    'General trash',\n",
    "    'Paper',\n",
    "    'Paper pack',\n",
    "    'Metal',\n",
    "    'Glass',\n",
    "    'Plastic',\n",
    "    'Styrofoam',\n",
    "    'Plastic bag',\n",
    "    'Battery',\n",
    "    'Clothing'\n",
    "]\n",
    "\n",
    "pseudo_categories =[]\n",
    "for i in range(len(cls)):\n",
    "\n",
    "    pseudo_categories.append(\n",
    "        {\n",
    "            \"id\": i,\n",
    "            \"name\": cls[i],\n",
    "            \"supercategory\": cls[i]\n",
    "        }\n",
    "    )\n",
    "\n",
    "data[\"categories\"] = pseudo_categories\n"
   ]
  },
  {
   "cell_type": "code",
   "execution_count": 17,
   "id": "641555a7-5902-4528-8cd7-4181b1ce797e",
   "metadata": {},
   "outputs": [],
   "source": [
    "with open('pseudo5.json', 'w', encoding=\"utf-8\") as make_file:\n",
    "    json.dump(data, make_file, ensure_ascii=False, indent=\"\\t\")"
   ]
  },
  {
   "cell_type": "code",
   "execution_count": null,
   "id": "1464af23-e019-4636-9373-6fef4dbd1bcb",
   "metadata": {},
   "outputs": [],
   "source": []
  }
 ],
 "metadata": {
  "kernelspec": {
   "display_name": "Python 3",
   "language": "python",
   "name": "python3"
  },
  "language_info": {
   "codemirror_mode": {
    "name": "ipython",
    "version": 3
   },
   "file_extension": ".py",
   "mimetype": "text/x-python",
   "name": "python",
   "nbconvert_exporter": "python",
   "pygments_lexer": "ipython3",
   "version": "3.7.7"
  }
 },
 "nbformat": 4,
 "nbformat_minor": 5
}
