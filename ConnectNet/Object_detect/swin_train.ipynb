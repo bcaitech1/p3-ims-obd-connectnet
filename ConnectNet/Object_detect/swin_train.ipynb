{
 "cells": [
  {
   "cell_type": "code",
   "execution_count": 1,
   "metadata": {
    "pycharm": {
     "name": "#%%\n"
    }
   },
   "outputs": [],
   "source": [
    "from mmcv import Config\n",
    "from mmdet.datasets import build_dataset\n",
    "from mmdet.models import build_detector\n",
    "from mmdet.apis import train_detector\n",
    "from mmdet.datasets import (build_dataloader, build_dataset,\n",
    "                            replace_ImageToTensor)"
   ]
  },
  {
   "cell_type": "code",
   "execution_count": 11,
   "metadata": {
    "pycharm": {
     "name": "#%%\n"
    }
   },
   "outputs": [],
   "source": [
    "classes = (\"UNKNOWN\", \"General trash\", \"Paper\", \"Paper pack\", \"Metal\", \"Glass\", \n",
    "           \"Plastic\", \"Styrofoam\", \"Plastic bag\", \"Battery\", \"Clothing\")\n",
    "\n",
    "# config file 들고오기\n",
    "cfg = Config.fromfile('trash/trash/swin.py')\n",
    "\n",
    "PREFIX = '../../input/data/'\n",
    "\n",
    "\n",
    "# dataset 바꾸기\n",
    "cfg.data.train.classes = classes\n",
    "cfg.data.train.img_prefix = PREFIX\n",
    "cfg.data.train.ann_file = PREFIX + 'train_data2.json'\n",
    "# cfg.data.train.pipeline[2]['img_scale'] = (512, 512)\n",
    "\n",
    "cfg.data.val.classes = classes\n",
    "cfg.data.val.img_prefix = PREFIX\n",
    "cfg.data.val.ann_file = PREFIX + 'valid_data2.json'\n",
    "cfg.data.val.pipeline[1]['img_scale'] = (512, 512)\n",
    "\n",
    "cfg.data.test.classes = classes\n",
    "cfg.data.test.img_prefix = PREFIX\n",
    "cfg.data.test.ann_file = PREFIX + 'test.json'\n",
    "cfg.data.test.pipeline[1]['img_scale'] = (512, 512)\n",
    "\n",
    "cfg.data.samples_per_gpu = 3\n",
    "cfg.data.workers_per_gpu = 4\n",
    "\n",
    "cfg.seed=2020\n",
    "cfg.gpu_ids = [0]\n",
    "cfg.work_dir = './work_dirs/swin'\n",
    "cfg.checkpoint_config = dict(max_keep_ckpts=10, interval=3)\n",
    "cfg.load_from = \"faster_rcnn_r50_fpn_1x_trash/epoch_21.pth\"\n",
    "\n",
    "cfg.optimizer_config.grad_clip = dict(max_norm=35, norm_type=2)"
   ]
  },
  {
   "cell_type": "code",
   "execution_count": 12,
   "metadata": {
    "pycharm": {
     "name": "#%%\n"
    }
   },
   "outputs": [],
   "source": [
    "model = build_detector(cfg.model)"
   ]
  },
  {
   "cell_type": "code",
   "execution_count": 13,
   "metadata": {
    "pycharm": {
     "name": "#%%\n"
    }
   },
   "outputs": [
    {
     "name": "stdout",
     "output_type": "stream",
     "text": [
      "loading annotations into memory...\n",
      "Done (t=3.84s)\n",
      "creating index...\n",
      "index created!\n"
     ]
    }
   ],
   "source": [
    "datasets = [build_dataset(cfg.data.train)]"
   ]
  },
  {
   "cell_type": "code",
   "execution_count": 14,
   "metadata": {
    "pycharm": {
     "name": "#%%\n"
    }
   },
   "outputs": [
    {
     "name": "stdout",
     "output_type": "stream",
     "text": [
      "loading annotations into memory...\n"
     ]
    },
    {
     "name": "stderr",
     "output_type": "stream",
     "text": [
      "2021-05-20 01:55:44,628 - mmdet - INFO - load checkpoint from faster_rcnn_r50_fpn_1x_trash/epoch_21.pth\n",
      "2021-05-20 01:55:44,630 - mmdet - INFO - Use load_from_local loader\n"
     ]
    },
    {
     "name": "stdout",
     "output_type": "stream",
     "text": [
      "Done (t=0.77s)\n",
      "creating index...\n",
      "index created!\n"
     ]
    },
    {
     "name": "stderr",
     "output_type": "stream",
     "text": [
      "2021-05-20 01:55:45,736 - mmdet - INFO - Start running, host: root@4e9f59ef4173, work_dir: /opt/ml/code/mmdetection_trash/work_dirs/swin\n",
      "2021-05-20 01:55:45,737 - mmdet - INFO - workflow: [('train', 1)], max: 40 epochs\n",
      "2021-05-20 01:57:32,480 - mmdet - INFO - Epoch [1][50/871]\tlr: 9.890e-07, eta: 20:37:47, time: 2.135, data_time: 0.094, memory: 18580, loss_rpn_cls: 0.1758, loss_rpn_bbox: 0.0310, s0.loss_cls: 0.3479, s0.acc: 92.7135, s0.loss_bbox: 0.2346, s0.loss_mask: 2.8044, s1.loss_cls: 0.1709, s1.acc: 92.5374, s1.loss_bbox: 0.0959, s1.loss_mask: 1.7086, s2.loss_cls: 0.0874, s2.acc: 92.1461, s2.loss_bbox: 0.0360, s2.loss_mask: 0.9326, loss: 6.6250, grad_norm: 48.6310\n",
      "2021-05-20 01:59:16,622 - mmdet - INFO - Epoch [1][100/871]\tlr: 1.988e-06, eta: 20:20:59, time: 2.083, data_time: 0.033, memory: 18879, loss_rpn_cls: 0.1712, loss_rpn_bbox: 0.0330, s0.loss_cls: 0.3391, s0.acc: 92.3893, s0.loss_bbox: 0.2450, s0.loss_mask: 2.1889, s1.loss_cls: 0.1749, s1.acc: 92.0346, s1.loss_bbox: 0.1010, s1.loss_mask: 1.3638, s2.loss_cls: 0.0906, s2.acc: 91.7006, s2.loss_bbox: 0.0379, s2.loss_mask: 0.7584, loss: 5.5038, grad_norm: 44.0352\n",
      "2021-05-20 02:01:02,336 - mmdet - INFO - Epoch [1][150/871]\tlr: 2.987e-06, eta: 20:20:17, time: 2.114, data_time: 0.048, memory: 18879, loss_rpn_cls: 0.1390, loss_rpn_bbox: 0.0410, s0.loss_cls: 0.3572, s0.acc: 90.6172, s0.loss_bbox: 0.2984, s0.loss_mask: 1.3400, s1.loss_cls: 0.1825, s1.acc: 90.5534, s1.loss_bbox: 0.1128, s1.loss_mask: 0.8521, s2.loss_cls: 0.0892, s2.acc: 90.5923, s2.loss_bbox: 0.0391, s2.loss_mask: 0.4778, loss: 3.9291, grad_norm: 29.3258\n",
      "2021-05-20 02:02:47,203 - mmdet - INFO - Epoch [1][200/871]\tlr: 3.986e-06, eta: 20:16:36, time: 2.097, data_time: 0.038, memory: 18879, loss_rpn_cls: 0.1186, loss_rpn_bbox: 0.0386, s0.loss_cls: 0.3556, s0.acc: 90.0156, s0.loss_bbox: 0.2791, s0.loss_mask: 0.8509, s1.loss_cls: 0.1808, s1.acc: 89.9509, s1.loss_bbox: 0.1053, s1.loss_mask: 0.5355, s2.loss_cls: 0.0854, s2.acc: 90.4061, s2.loss_bbox: 0.0358, s2.loss_mask: 0.2985, loss: 2.8841, grad_norm: 20.8152\n",
      "2021-05-20 02:04:31,723 - mmdet - INFO - Epoch [1][250/871]\tlr: 4.985e-06, eta: 20:12:54, time: 2.090, data_time: 0.037, memory: 18879, loss_rpn_cls: 0.0754, loss_rpn_bbox: 0.0327, s0.loss_cls: 0.3033, s0.acc: 90.9987, s0.loss_bbox: 0.2753, s0.loss_mask: 0.5859, s1.loss_cls: 0.1510, s1.acc: 91.1510, s1.loss_bbox: 0.1108, s1.loss_mask: 0.3405, s2.loss_cls: 0.0693, s2.acc: 91.7269, s2.loss_bbox: 0.0380, s2.loss_mask: 0.1796, loss: 2.1617, grad_norm: 16.2445\n",
      "2021-05-20 02:06:18,433 - mmdet - INFO - Epoch [1][300/871]\tlr: 5.984e-06, eta: 20:14:03, time: 2.134, data_time: 0.034, memory: 18879, loss_rpn_cls: 0.0818, loss_rpn_bbox: 0.0325, s0.loss_cls: 0.3220, s0.acc: 90.4609, s0.loss_bbox: 0.3016, s0.loss_mask: 0.4892, s1.loss_cls: 0.1536, s1.acc: 90.8223, s1.loss_bbox: 0.1183, s1.loss_mask: 0.2739, s2.loss_cls: 0.0717, s2.acc: 91.4280, s2.loss_bbox: 0.0411, s2.loss_mask: 0.1427, loss: 2.0283, grad_norm: 13.1648\n",
      "2021-05-20 02:08:01,333 - mmdet - INFO - Epoch [1][350/871]\tlr: 6.983e-06, eta: 20:08:06, time: 2.058, data_time: 0.033, memory: 18879, loss_rpn_cls: 0.0670, loss_rpn_bbox: 0.0333, s0.loss_cls: 0.3065, s0.acc: 91.0273, s0.loss_bbox: 0.2832, s0.loss_mask: 0.4783, s1.loss_cls: 0.1552, s1.acc: 91.0615, s1.loss_bbox: 0.1134, s1.loss_mask: 0.2579, s2.loss_cls: 0.0734, s2.acc: 91.4226, s2.loss_bbox: 0.0387, s2.loss_mask: 0.1345, loss: 1.9413, grad_norm: 11.7298\n",
      "2021-05-20 02:09:46,166 - mmdet - INFO - Epoch [1][400/871]\tlr: 7.982e-06, eta: 20:06:00, time: 2.097, data_time: 0.033, memory: 18879, loss_rpn_cls: 0.0761, loss_rpn_bbox: 0.0371, s0.loss_cls: 0.3362, s0.acc: 90.0885, s0.loss_bbox: 0.3089, s0.loss_mask: 0.4157, s1.loss_cls: 0.1709, s1.acc: 90.0081, s1.loss_bbox: 0.1223, s1.loss_mask: 0.2321, s2.loss_cls: 0.0807, s2.acc: 90.5370, s2.loss_bbox: 0.0424, s2.loss_mask: 0.1189, loss: 1.9415, grad_norm: 14.1284\n",
      "2021-05-20 02:11:31,508 - mmdet - INFO - Epoch [1][450/871]\tlr: 8.981e-06, eta: 20:04:37, time: 2.107, data_time: 0.036, memory: 18879, loss_rpn_cls: 0.0622, loss_rpn_bbox: 0.0313, s0.loss_cls: 0.2897, s0.acc: 91.4062, s0.loss_bbox: 0.2738, s0.loss_mask: 0.3856, s1.loss_cls: 0.1457, s1.acc: 91.3561, s1.loss_bbox: 0.1106, s1.loss_mask: 0.2063, s2.loss_cls: 0.0691, s2.acc: 91.8442, s2.loss_bbox: 0.0376, s2.loss_mask: 0.1104, loss: 1.7221, grad_norm: 10.5791\n",
      "2021-05-20 02:13:15,142 - mmdet - INFO - Epoch [1][500/871]\tlr: 9.980e-06, eta: 20:01:12, time: 2.073, data_time: 0.030, memory: 18879, loss_rpn_cls: 0.0463, loss_rpn_bbox: 0.0276, s0.loss_cls: 0.2669, s0.acc: 91.8854, s0.loss_bbox: 0.2556, s0.loss_mask: 0.3827, s1.loss_cls: 0.1348, s1.acc: 91.8605, s1.loss_bbox: 0.1055, s1.loss_mask: 0.2043, s2.loss_cls: 0.0655, s2.acc: 92.4201, s2.loss_bbox: 0.0382, s2.loss_mask: 0.1066, loss: 1.6339, grad_norm: 12.0356\n",
      "2021-05-20 02:15:01,151 - mmdet - INFO - Epoch [1][550/871]\tlr: 1.000e-05, eta: 20:00:34, time: 2.120, data_time: 0.040, memory: 18879, loss_rpn_cls: 0.0582, loss_rpn_bbox: 0.0393, s0.loss_cls: 0.2816, s0.acc: 91.2005, s0.loss_bbox: 0.2885, s0.loss_mask: 0.4063, s1.loss_cls: 0.1399, s1.acc: 91.3656, s1.loss_bbox: 0.1142, s1.loss_mask: 0.2155, s2.loss_cls: 0.0686, s2.acc: 91.4068, s2.loss_bbox: 0.0399, s2.loss_mask: 0.1125, loss: 1.7646, grad_norm: 9.7376\n",
      "2021-05-20 02:16:42,476 - mmdet - INFO - Epoch [1][600/871]\tlr: 1.000e-05, eta: 19:55:17, time: 2.027, data_time: 0.031, memory: 18879, loss_rpn_cls: 0.0541, loss_rpn_bbox: 0.0309, s0.loss_cls: 0.2855, s0.acc: 91.2878, s0.loss_bbox: 0.2851, s0.loss_mask: 0.3552, s1.loss_cls: 0.1406, s1.acc: 91.3619, s1.loss_bbox: 0.1173, s1.loss_mask: 0.1922, s2.loss_cls: 0.0657, s2.acc: 91.8628, s2.loss_bbox: 0.0420, s2.loss_mask: 0.1009, loss: 1.6696, grad_norm: 9.5232\n",
      "2021-05-20 02:18:26,992 - mmdet - INFO - Epoch [1][650/871]\tlr: 1.000e-05, eta: 19:53:21, time: 2.090, data_time: 0.033, memory: 18879, loss_rpn_cls: 0.0497, loss_rpn_bbox: 0.0286, s0.loss_cls: 0.2546, s0.acc: 92.1133, s0.loss_bbox: 0.2617, s0.loss_mask: 0.4065, s1.loss_cls: 0.1301, s1.acc: 92.0760, s1.loss_bbox: 0.1092, s1.loss_mask: 0.2159, s2.loss_cls: 0.0623, s2.acc: 92.3701, s2.loss_bbox: 0.0387, s2.loss_mask: 0.1137, loss: 1.6710, grad_norm: 10.3300\n",
      "2021-05-20 02:20:10,714 - mmdet - INFO - Epoch [1][700/871]\tlr: 1.000e-05, eta: 19:50:48, time: 2.074, data_time: 0.033, memory: 18879, loss_rpn_cls: 0.0472, loss_rpn_bbox: 0.0288, s0.loss_cls: 0.2629, s0.acc: 92.0169, s0.loss_bbox: 0.2506, s0.loss_mask: 0.3759, s1.loss_cls: 0.1316, s1.acc: 91.7775, s1.loss_bbox: 0.1031, s1.loss_mask: 0.1999, s2.loss_cls: 0.0644, s2.acc: 92.0742, s2.loss_bbox: 0.0373, s2.loss_mask: 0.1042, loss: 1.6060, grad_norm: 10.8215\n",
      "2021-05-20 02:21:55,684 - mmdet - INFO - Epoch [1][750/871]\tlr: 1.000e-05, eta: 19:49:18, time: 2.099, data_time: 0.033, memory: 18879, loss_rpn_cls: 0.0517, loss_rpn_bbox: 0.0317, s0.loss_cls: 0.2631, s0.acc: 92.0299, s0.loss_bbox: 0.2662, s0.loss_mask: 0.3663, s1.loss_cls: 0.1344, s1.acc: 91.8838, s1.loss_bbox: 0.1080, s1.loss_mask: 0.1963, s2.loss_cls: 0.0645, s2.acc: 92.0466, s2.loss_bbox: 0.0384, s2.loss_mask: 0.1006, loss: 1.6213, grad_norm: 9.0865\n",
      "2021-05-20 02:23:38,429 - mmdet - INFO - Epoch [1][800/871]\tlr: 1.000e-05, eta: 19:46:12, time: 2.055, data_time: 0.028, memory: 18879, loss_rpn_cls: 0.0467, loss_rpn_bbox: 0.0265, s0.loss_cls: 0.2307, s0.acc: 93.0039, s0.loss_bbox: 0.2278, s0.loss_mask: 0.4027, s1.loss_cls: 0.1158, s1.acc: 92.9252, s1.loss_bbox: 0.0953, s1.loss_mask: 0.2148, s2.loss_cls: 0.0557, s2.acc: 93.0960, s2.loss_bbox: 0.0342, s2.loss_mask: 0.1114, loss: 1.5616, grad_norm: 9.2259\n",
      "2021-05-20 02:25:23,570 - mmdet - INFO - Epoch [1][850/871]\tlr: 1.000e-05, eta: 19:44:51, time: 2.103, data_time: 0.034, memory: 18879, loss_rpn_cls: 0.0451, loss_rpn_bbox: 0.0315, s0.loss_cls: 0.2579, s0.acc: 92.3932, s0.loss_bbox: 0.2475, s0.loss_mask: 0.3845, s1.loss_cls: 0.1236, s1.acc: 92.6721, s1.loss_bbox: 0.1012, s1.loss_mask: 0.2047, s2.loss_cls: 0.0591, s2.acc: 92.9039, s2.loss_bbox: 0.0382, s2.loss_mask: 0.1057, loss: 1.5991, grad_norm: 9.5019\n",
      "2021-05-20 02:27:58,450 - mmdet - INFO - Epoch [2][50/871]\tlr: 1.000e-05, eta: 19:18:41, time: 2.198, data_time: 0.093, memory: 18893, loss_rpn_cls: 0.0522, loss_rpn_bbox: 0.0320, s0.loss_cls: 0.2918, s0.acc: 91.2852, s0.loss_bbox: 0.2894, s0.loss_mask: 0.3456, s1.loss_cls: 0.1469, s1.acc: 91.1679, s1.loss_bbox: 0.1183, s1.loss_mask: 0.1866, s2.loss_cls: 0.0709, s2.acc: 91.3696, s2.loss_bbox: 0.0432, s2.loss_mask: 0.0961, loss: 1.6730, grad_norm: 9.2197\n",
      "2021-05-20 02:29:44,393 - mmdet - INFO - Epoch [2][100/871]\tlr: 1.000e-05, eta: 19:18:59, time: 2.119, data_time: 0.037, memory: 18899, loss_rpn_cls: 0.0568, loss_rpn_bbox: 0.0285, s0.loss_cls: 0.2734, s0.acc: 91.7122, s0.loss_bbox: 0.2750, s0.loss_mask: 0.3482, s1.loss_cls: 0.1351, s1.acc: 91.6356, s1.loss_bbox: 0.1129, s1.loss_mask: 0.1847, s2.loss_cls: 0.0629, s2.acc: 92.1534, s2.loss_bbox: 0.0393, s2.loss_mask: 0.0964, loss: 1.6131, grad_norm: 8.7625\n",
      "2021-05-20 02:31:30,142 - mmdet - INFO - Epoch [2][150/871]\tlr: 1.000e-05, eta: 19:18:59, time: 2.115, data_time: 0.032, memory: 18899, loss_rpn_cls: 0.0490, loss_rpn_bbox: 0.0337, s0.loss_cls: 0.2637, s0.acc: 91.8203, s0.loss_bbox: 0.2732, s0.loss_mask: 0.3834, s1.loss_cls: 0.1320, s1.acc: 91.6690, s1.loss_bbox: 0.1137, s1.loss_mask: 0.2049, s2.loss_cls: 0.0631, s2.acc: 91.9901, s2.loss_bbox: 0.0423, s2.loss_mask: 0.1058, loss: 1.6648, grad_norm: 10.2900\n",
      "2021-05-20 02:33:17,039 - mmdet - INFO - Epoch [2][200/871]\tlr: 1.000e-05, eta: 19:19:25, time: 2.138, data_time: 0.039, memory: 18899, loss_rpn_cls: 0.0536, loss_rpn_bbox: 0.0334, s0.loss_cls: 0.2595, s0.acc: 91.8997, s0.loss_bbox: 0.2677, s0.loss_mask: 0.3139, s1.loss_cls: 0.1318, s1.acc: 91.6557, s1.loss_bbox: 0.1094, s1.loss_mask: 0.1680, s2.loss_cls: 0.0655, s2.acc: 91.5243, s2.loss_bbox: 0.0396, s2.loss_mask: 0.0864, loss: 1.5288, grad_norm: 8.1875\n",
      "2021-05-20 02:35:03,586 - mmdet - INFO - Epoch [2][250/871]\tlr: 1.000e-05, eta: 19:19:29, time: 2.131, data_time: 0.034, memory: 18899, loss_rpn_cls: 0.0431, loss_rpn_bbox: 0.0297, s0.loss_cls: 0.2805, s0.acc: 91.1276, s0.loss_bbox: 0.2895, s0.loss_mask: 0.3089, s1.loss_cls: 0.1383, s1.acc: 91.4574, s1.loss_bbox: 0.1198, s1.loss_mask: 0.1642, s2.loss_cls: 0.0667, s2.acc: 91.6400, s2.loss_bbox: 0.0430, s2.loss_mask: 0.0840, loss: 1.5678, grad_norm: 9.5001\n",
      "2021-05-20 02:36:51,098 - mmdet - INFO - Epoch [2][300/871]\tlr: 1.000e-05, eta: 19:19:51, time: 2.150, data_time: 0.034, memory: 18899, loss_rpn_cls: 0.0517, loss_rpn_bbox: 0.0308, s0.loss_cls: 0.2551, s0.acc: 92.2591, s0.loss_bbox: 0.2708, s0.loss_mask: 0.3647, s1.loss_cls: 0.1274, s1.acc: 92.1207, s1.loss_bbox: 0.1096, s1.loss_mask: 0.1915, s2.loss_cls: 0.0610, s2.acc: 92.5291, s2.loss_bbox: 0.0407, s2.loss_mask: 0.0987, loss: 1.6020, grad_norm: 10.1950\n",
      "2021-05-20 02:38:35,839 - mmdet - INFO - Epoch [2][350/871]\tlr: 1.000e-05, eta: 19:18:46, time: 2.095, data_time: 0.037, memory: 18899, loss_rpn_cls: 0.0486, loss_rpn_bbox: 0.0332, s0.loss_cls: 0.2582, s0.acc: 91.9883, s0.loss_bbox: 0.2645, s0.loss_mask: 0.3697, s1.loss_cls: 0.1288, s1.acc: 91.9389, s1.loss_bbox: 0.1078, s1.loss_mask: 0.1965, s2.loss_cls: 0.0628, s2.acc: 92.1286, s2.loss_bbox: 0.0400, s2.loss_mask: 0.1020, loss: 1.6122, grad_norm: 8.7645\n",
      "2021-05-20 02:40:20,578 - mmdet - INFO - Epoch [2][400/871]\tlr: 1.000e-05, eta: 19:17:37, time: 2.095, data_time: 0.037, memory: 18899, loss_rpn_cls: 0.0553, loss_rpn_bbox: 0.0319, s0.loss_cls: 0.2489, s0.acc: 92.3997, s0.loss_bbox: 0.2607, s0.loss_mask: 0.3661, s1.loss_cls: 0.1260, s1.acc: 92.2513, s1.loss_bbox: 0.1085, s1.loss_mask: 0.1950, s2.loss_cls: 0.0620, s2.acc: 92.0431, s2.loss_bbox: 0.0392, s2.loss_mask: 0.1007, loss: 1.5944, grad_norm: 9.6905\n",
      "2021-05-20 02:42:07,572 - mmdet - INFO - Epoch [2][450/871]\tlr: 1.000e-05, eta: 19:17:24, time: 2.140, data_time: 0.038, memory: 18899, loss_rpn_cls: 0.0510, loss_rpn_bbox: 0.0332, s0.loss_cls: 0.2559, s0.acc: 92.3620, s0.loss_bbox: 0.2580, s0.loss_mask: 0.3157, s1.loss_cls: 0.1240, s1.acc: 92.4438, s1.loss_bbox: 0.1049, s1.loss_mask: 0.1698, s2.loss_cls: 0.0599, s2.acc: 92.6559, s2.loss_bbox: 0.0395, s2.loss_mask: 0.0877, loss: 1.4995, grad_norm: 8.5299\n",
      "2021-05-20 02:43:52,391 - mmdet - INFO - Epoch [2][500/871]\tlr: 1.000e-05, eta: 19:16:10, time: 2.096, data_time: 0.038, memory: 18899, loss_rpn_cls: 0.0381, loss_rpn_bbox: 0.0270, s0.loss_cls: 0.2381, s0.acc: 92.5872, s0.loss_bbox: 0.2516, s0.loss_mask: 0.3379, s1.loss_cls: 0.1211, s1.acc: 92.3400, s1.loss_bbox: 0.1039, s1.loss_mask: 0.1759, s2.loss_cls: 0.0583, s2.acc: 92.3109, s2.loss_bbox: 0.0372, s2.loss_mask: 0.0908, loss: 1.4798, grad_norm: 8.5267\n",
      "2021-05-20 02:45:37,847 - mmdet - INFO - Epoch [2][550/871]\tlr: 1.000e-05, eta: 19:15:09, time: 2.109, data_time: 0.029, memory: 18899, loss_rpn_cls: 0.0428, loss_rpn_bbox: 0.0277, s0.loss_cls: 0.2575, s0.acc: 92.3216, s0.loss_bbox: 0.2489, s0.loss_mask: 0.3642, s1.loss_cls: 0.1278, s1.acc: 92.3658, s1.loss_bbox: 0.1045, s1.loss_mask: 0.1933, s2.loss_cls: 0.0613, s2.acc: 92.6970, s2.loss_bbox: 0.0388, s2.loss_mask: 0.0986, loss: 1.5653, grad_norm: 9.3413\n",
      "2021-05-20 02:47:19,397 - mmdet - INFO - Epoch [2][600/871]\tlr: 1.000e-05, eta: 19:12:37, time: 2.031, data_time: 0.029, memory: 18899, loss_rpn_cls: 0.0325, loss_rpn_bbox: 0.0246, s0.loss_cls: 0.2341, s0.acc: 92.7305, s0.loss_bbox: 0.2439, s0.loss_mask: 0.3561, s1.loss_cls: 0.1157, s1.acc: 92.8149, s1.loss_bbox: 0.1002, s1.loss_mask: 0.1922, s2.loss_cls: 0.0550, s2.acc: 93.0280, s2.loss_bbox: 0.0377, s2.loss_mask: 0.1001, loss: 1.4921, grad_norm: 8.2680\n",
      "2021-05-20 02:49:04,186 - mmdet - INFO - Epoch [2][650/871]\tlr: 1.000e-05, eta: 19:11:19, time: 2.096, data_time: 0.033, memory: 18899, loss_rpn_cls: 0.0349, loss_rpn_bbox: 0.0274, s0.loss_cls: 0.2173, s0.acc: 93.2487, s0.loss_bbox: 0.2343, s0.loss_mask: 0.3478, s1.loss_cls: 0.1099, s1.acc: 93.1203, s1.loss_bbox: 0.1000, s1.loss_mask: 0.1857, s2.loss_cls: 0.0533, s2.acc: 93.2532, s2.loss_bbox: 0.0367, s2.loss_mask: 0.0954, loss: 1.4425, grad_norm: 8.5758\n",
      "2021-05-20 02:50:49,152 - mmdet - INFO - Epoch [2][700/871]\tlr: 1.000e-05, eta: 19:10:03, time: 2.099, data_time: 0.040, memory: 18899, loss_rpn_cls: 0.0455, loss_rpn_bbox: 0.0315, s0.loss_cls: 0.2562, s0.acc: 92.1927, s0.loss_bbox: 0.2617, s0.loss_mask: 0.3694, s1.loss_cls: 0.1244, s1.acc: 92.4436, s1.loss_bbox: 0.1058, s1.loss_mask: 0.1954, s2.loss_cls: 0.0597, s2.acc: 92.4892, s2.loss_bbox: 0.0370, s2.loss_mask: 0.1017, loss: 1.5882, grad_norm: 9.4169\n",
      "2021-05-20 02:52:35,429 - mmdet - INFO - Epoch [2][750/871]\tlr: 1.000e-05, eta: 19:09:12, time: 2.126, data_time: 0.036, memory: 18899, loss_rpn_cls: 0.0478, loss_rpn_bbox: 0.0290, s0.loss_cls: 0.2790, s0.acc: 91.5104, s0.loss_bbox: 0.2755, s0.loss_mask: 0.3378, s1.loss_cls: 0.1387, s1.acc: 91.5831, s1.loss_bbox: 0.1135, s1.loss_mask: 0.1774, s2.loss_cls: 0.0657, s2.acc: 91.8422, s2.loss_bbox: 0.0415, s2.loss_mask: 0.0923, loss: 1.5983, grad_norm: 9.4001\n",
      "2021-05-20 02:54:22,171 - mmdet - INFO - Epoch [2][800/871]\tlr: 1.000e-05, eta: 19:08:27, time: 2.135, data_time: 0.035, memory: 18899, loss_rpn_cls: 0.0452, loss_rpn_bbox: 0.0309, s0.loss_cls: 0.2630, s0.acc: 92.2253, s0.loss_bbox: 0.2741, s0.loss_mask: 0.3376, s1.loss_cls: 0.1272, s1.acc: 92.3882, s1.loss_bbox: 0.1113, s1.loss_mask: 0.1793, s2.loss_cls: 0.0613, s2.acc: 92.5217, s2.loss_bbox: 0.0418, s2.loss_mask: 0.0928, loss: 1.5646, grad_norm: 8.3680\n",
      "2021-05-20 02:56:08,943 - mmdet - INFO - Epoch [2][850/871]\tlr: 1.000e-05, eta: 19:07:39, time: 2.135, data_time: 0.037, memory: 18899, loss_rpn_cls: 0.0572, loss_rpn_bbox: 0.0321, s0.loss_cls: 0.2571, s0.acc: 91.9544, s0.loss_bbox: 0.2645, s0.loss_mask: 0.3385, s1.loss_cls: 0.1295, s1.acc: 91.9803, s1.loss_bbox: 0.1113, s1.loss_mask: 0.1826, s2.loss_cls: 0.0626, s2.acc: 92.1742, s2.loss_bbox: 0.0411, s2.loss_mask: 0.0950, loss: 1.5716, grad_norm: 8.5666\n",
      "2021-05-20 02:58:43,267 - mmdet - INFO - Epoch [3][50/871]\tlr: 1.000e-05, eta: 18:53:31, time: 2.193, data_time: 0.088, memory: 18899, loss_rpn_cls: 0.0367, loss_rpn_bbox: 0.0268, s0.loss_cls: 0.2587, s0.acc: 91.8854, s0.loss_bbox: 0.2643, s0.loss_mask: 0.3474, s1.loss_cls: 0.1310, s1.acc: 91.5609, s1.loss_bbox: 0.1078, s1.loss_mask: 0.1823, s2.loss_cls: 0.0645, s2.acc: 91.6546, s2.loss_bbox: 0.0405, s2.loss_mask: 0.0943, loss: 1.5542, grad_norm: 8.8459\n",
      "2021-05-20 03:00:29,610 - mmdet - INFO - Epoch [3][100/871]\tlr: 1.000e-05, eta: 18:52:50, time: 2.127, data_time: 0.037, memory: 18899, loss_rpn_cls: 0.0428, loss_rpn_bbox: 0.0294, s0.loss_cls: 0.2582, s0.acc: 91.8346, s0.loss_bbox: 0.2710, s0.loss_mask: 0.3206, s1.loss_cls: 0.1301, s1.acc: 91.6697, s1.loss_bbox: 0.1112, s1.loss_mask: 0.1711, s2.loss_cls: 0.0627, s2.acc: 91.8306, s2.loss_bbox: 0.0407, s2.loss_mask: 0.0885, loss: 1.5263, grad_norm: 8.9519\n",
      "2021-05-20 03:02:16,624 - mmdet - INFO - Epoch [3][150/871]\tlr: 1.000e-05, eta: 18:52:17, time: 2.140, data_time: 0.036, memory: 18899, loss_rpn_cls: 0.0485, loss_rpn_bbox: 0.0311, s0.loss_cls: 0.2790, s0.acc: 91.4622, s0.loss_bbox: 0.2927, s0.loss_mask: 0.3524, s1.loss_cls: 0.1392, s1.acc: 91.2344, s1.loss_bbox: 0.1220, s1.loss_mask: 0.1867, s2.loss_cls: 0.0658, s2.acc: 91.6048, s2.loss_bbox: 0.0443, s2.loss_mask: 0.0965, loss: 1.6581, grad_norm: 9.0728\n",
      "2021-05-20 03:04:03,953 - mmdet - INFO - Epoch [3][200/871]\tlr: 1.000e-05, eta: 18:51:45, time: 2.147, data_time: 0.032, memory: 18899, loss_rpn_cls: 0.0419, loss_rpn_bbox: 0.0266, s0.loss_cls: 0.2529, s0.acc: 92.4961, s0.loss_bbox: 0.2477, s0.loss_mask: 0.2982, s1.loss_cls: 0.1246, s1.acc: 92.3778, s1.loss_bbox: 0.1030, s1.loss_mask: 0.1589, s2.loss_cls: 0.0596, s2.acc: 92.8117, s2.loss_bbox: 0.0376, s2.loss_mask: 0.0818, loss: 1.4329, grad_norm: 9.3067\n",
      "2021-05-20 03:05:49,098 - mmdet - INFO - Epoch [3][250/871]\tlr: 1.000e-05, eta: 18:50:34, time: 2.103, data_time: 0.031, memory: 18899, loss_rpn_cls: 0.0398, loss_rpn_bbox: 0.0254, s0.loss_cls: 0.2476, s0.acc: 92.7956, s0.loss_bbox: 0.2469, s0.loss_mask: 0.3154, s1.loss_cls: 0.1227, s1.acc: 92.6923, s1.loss_bbox: 0.1019, s1.loss_mask: 0.1701, s2.loss_cls: 0.0582, s2.acc: 92.8253, s2.loss_bbox: 0.0377, s2.loss_mask: 0.0890, loss: 1.4549, grad_norm: 8.3377\n",
      "2021-05-20 03:07:37,087 - mmdet - INFO - Epoch [3][300/871]\tlr: 1.000e-05, eta: 18:50:07, time: 2.160, data_time: 0.035, memory: 18899, loss_rpn_cls: 0.0479, loss_rpn_bbox: 0.0303, s0.loss_cls: 0.2440, s0.acc: 92.3971, s0.loss_bbox: 0.2640, s0.loss_mask: 0.3162, s1.loss_cls: 0.1217, s1.acc: 92.4094, s1.loss_bbox: 0.1131, s1.loss_mask: 0.1662, s2.loss_cls: 0.0584, s2.acc: 92.7889, s2.loss_bbox: 0.0414, s2.loss_mask: 0.0860, loss: 1.4892, grad_norm: 8.6652\n",
      "2021-05-20 03:09:22,921 - mmdet - INFO - Epoch [3][350/871]\tlr: 1.000e-05, eta: 18:49:02, time: 2.117, data_time: 0.037, memory: 18899, loss_rpn_cls: 0.0402, loss_rpn_bbox: 0.0323, s0.loss_cls: 0.2403, s0.acc: 92.2331, s0.loss_bbox: 0.2629, s0.loss_mask: 0.3161, s1.loss_cls: 0.1222, s1.acc: 92.1802, s1.loss_bbox: 0.1089, s1.loss_mask: 0.1714, s2.loss_cls: 0.0590, s2.acc: 92.2596, s2.loss_bbox: 0.0389, s2.loss_mask: 0.0879, loss: 1.4802, grad_norm: 8.5480\n",
      "2021-05-20 03:11:07,201 - mmdet - INFO - Epoch [3][400/871]\tlr: 1.000e-05, eta: 18:47:32, time: 2.086, data_time: 0.033, memory: 18899, loss_rpn_cls: 0.0432, loss_rpn_bbox: 0.0288, s0.loss_cls: 0.2412, s0.acc: 92.7630, s0.loss_bbox: 0.2472, s0.loss_mask: 0.3076, s1.loss_cls: 0.1186, s1.acc: 92.8275, s1.loss_bbox: 0.1000, s1.loss_mask: 0.1651, s2.loss_cls: 0.0568, s2.acc: 93.2509, s2.loss_bbox: 0.0366, s2.loss_mask: 0.0850, loss: 1.4301, grad_norm: 8.7185\n",
      "2021-05-20 03:12:55,047 - mmdet - INFO - Epoch [3][450/871]\tlr: 1.000e-05, eta: 18:46:54, time: 2.157, data_time: 0.040, memory: 18900, loss_rpn_cls: 0.0489, loss_rpn_bbox: 0.0325, s0.loss_cls: 0.2747, s0.acc: 91.5508, s0.loss_bbox: 0.2902, s0.loss_mask: 0.3181, s1.loss_cls: 0.1350, s1.acc: 91.6132, s1.loss_bbox: 0.1200, s1.loss_mask: 0.1659, s2.loss_cls: 0.0637, s2.acc: 91.9202, s2.loss_bbox: 0.0432, s2.loss_mask: 0.0844, loss: 1.5766, grad_norm: 9.5919\n",
      "2021-05-20 03:14:41,053 - mmdet - INFO - Epoch [3][500/871]\tlr: 1.000e-05, eta: 18:45:46, time: 2.120, data_time: 0.037, memory: 18900, loss_rpn_cls: 0.0430, loss_rpn_bbox: 0.0317, s0.loss_cls: 0.2483, s0.acc: 92.1211, s0.loss_bbox: 0.2721, s0.loss_mask: 0.2867, s1.loss_cls: 0.1216, s1.acc: 92.2139, s1.loss_bbox: 0.1123, s1.loss_mask: 0.1512, s2.loss_cls: 0.0593, s2.acc: 92.2217, s2.loss_bbox: 0.0419, s2.loss_mask: 0.0796, loss: 1.4477, grad_norm: 8.4794\n",
      "2021-05-20 03:16:28,319 - mmdet - INFO - Epoch [3][550/871]\tlr: 1.000e-05, eta: 18:44:54, time: 2.145, data_time: 0.038, memory: 18925, loss_rpn_cls: 0.0411, loss_rpn_bbox: 0.0309, s0.loss_cls: 0.2542, s0.acc: 92.1393, s0.loss_bbox: 0.2685, s0.loss_mask: 0.3361, s1.loss_cls: 0.1253, s1.acc: 92.0697, s1.loss_bbox: 0.1103, s1.loss_mask: 0.1797, s2.loss_cls: 0.0604, s2.acc: 92.3906, s2.loss_bbox: 0.0401, s2.loss_mask: 0.0935, loss: 1.5402, grad_norm: 8.5787\n",
      "2021-05-20 03:18:12,120 - mmdet - INFO - Epoch [3][600/871]\tlr: 1.000e-05, eta: 18:43:12, time: 2.076, data_time: 0.033, memory: 18925, loss_rpn_cls: 0.0438, loss_rpn_bbox: 0.0291, s0.loss_cls: 0.2703, s0.acc: 91.6497, s0.loss_bbox: 0.2927, s0.loss_mask: 0.3406, s1.loss_cls: 0.1343, s1.acc: 91.8203, s1.loss_bbox: 0.1203, s1.loss_mask: 0.1763, s2.loss_cls: 0.0646, s2.acc: 92.0172, s2.loss_bbox: 0.0454, s2.loss_mask: 0.0905, loss: 1.6079, grad_norm: 8.5351\n",
      "2021-05-20 03:19:58,300 - mmdet - INFO - Epoch [3][650/871]\tlr: 1.000e-05, eta: 18:42:02, time: 2.124, data_time: 0.036, memory: 18925, loss_rpn_cls: 0.0361, loss_rpn_bbox: 0.0263, s0.loss_cls: 0.2112, s0.acc: 93.1393, s0.loss_bbox: 0.2481, s0.loss_mask: 0.3457, s1.loss_cls: 0.1035, s1.acc: 93.1717, s1.loss_bbox: 0.1043, s1.loss_mask: 0.1827, s2.loss_cls: 0.0519, s2.acc: 93.1539, s2.loss_bbox: 0.0388, s2.loss_mask: 0.0949, loss: 1.4435, grad_norm: 8.8810\n",
      "2021-05-20 03:21:43,242 - mmdet - INFO - Epoch [3][700/871]\tlr: 1.000e-05, eta: 18:40:34, time: 2.099, data_time: 0.037, memory: 18925, loss_rpn_cls: 0.0373, loss_rpn_bbox: 0.0279, s0.loss_cls: 0.2365, s0.acc: 92.6745, s0.loss_bbox: 0.2436, s0.loss_mask: 0.3591, s1.loss_cls: 0.1154, s1.acc: 92.8313, s1.loss_bbox: 0.1009, s1.loss_mask: 0.1828, s2.loss_cls: 0.0562, s2.acc: 92.7734, s2.loss_bbox: 0.0380, s2.loss_mask: 0.0933, loss: 1.4909, grad_norm: 8.9364\n",
      "2021-05-20 03:23:28,856 - mmdet - INFO - Epoch [3][750/871]\tlr: 1.000e-05, eta: 18:39:15, time: 2.112, data_time: 0.034, memory: 18925, loss_rpn_cls: 0.0388, loss_rpn_bbox: 0.0269, s0.loss_cls: 0.2324, s0.acc: 92.7591, s0.loss_bbox: 0.2503, s0.loss_mask: 0.3128, s1.loss_cls: 0.1180, s1.acc: 92.7517, s1.loss_bbox: 0.1043, s1.loss_mask: 0.1649, s2.loss_cls: 0.0569, s2.acc: 92.8476, s2.loss_bbox: 0.0381, s2.loss_mask: 0.0847, loss: 1.4283, grad_norm: 8.7561\n",
      "2021-05-20 03:25:14,838 - mmdet - INFO - Epoch [3][800/871]\tlr: 1.000e-05, eta: 18:37:59, time: 2.120, data_time: 0.033, memory: 18925, loss_rpn_cls: 0.0467, loss_rpn_bbox: 0.0281, s0.loss_cls: 0.2486, s0.acc: 92.2396, s0.loss_bbox: 0.2674, s0.loss_mask: 0.3265, s1.loss_cls: 0.1201, s1.acc: 92.3019, s1.loss_bbox: 0.1111, s1.loss_mask: 0.1692, s2.loss_cls: 0.0575, s2.acc: 92.5858, s2.loss_bbox: 0.0417, s2.loss_mask: 0.0866, loss: 1.5036, grad_norm: 8.6153\n",
      "2021-05-20 03:26:59,985 - mmdet - INFO - Epoch [3][850/871]\tlr: 1.000e-05, eta: 18:36:31, time: 2.103, data_time: 0.032, memory: 18925, loss_rpn_cls: 0.0411, loss_rpn_bbox: 0.0287, s0.loss_cls: 0.2233, s0.acc: 93.0872, s0.loss_bbox: 0.2352, s0.loss_mask: 0.3632, s1.loss_cls: 0.1100, s1.acc: 93.2204, s1.loss_bbox: 0.0979, s1.loss_mask: 0.1920, s2.loss_cls: 0.0546, s2.acc: 93.2082, s2.loss_bbox: 0.0372, s2.loss_mask: 0.0971, loss: 1.4802, grad_norm: 9.0380\n",
      "2021-05-20 03:27:44,611 - mmdet - INFO - Saving checkpoint at 3 epochs\n"
     ]
    },
    {
     "name": "stdout",
     "output_type": "stream",
     "text": [
      "[>>>>>>>>>>>>>>>>>>>>>>>>>>>>>] 659/659, 1.7 task/s, elapsed: 385s, ETA:     0s"
     ]
    },
    {
     "name": "stderr",
     "output_type": "stream",
     "text": [
      "2021-05-20 03:34:14,746 - mmdet - INFO - Evaluating bbox...\n"
     ]
    },
    {
     "name": "stdout",
     "output_type": "stream",
     "text": [
      "Loading and preparing results...\n",
      "DONE (t=0.72s)\n",
      "creating index...\n",
      "index created!\n",
      "Running per image evaluation...\n",
      "Evaluate annotation type *bbox*\n",
      "DONE (t=5.50s).\n",
      "Accumulating evaluation results...\n"
     ]
    },
    {
     "name": "stderr",
     "output_type": "stream",
     "text": [
      "2021-05-20 03:34:21,782 - mmdet - INFO - Epoch(val) [3][871]\tbbox_mAP: 0.3370, bbox_mAP_50: 0.4490, bbox_mAP_75: 0.3540, bbox_mAP_s: 0.0830, bbox_mAP_m: 0.3350, bbox_mAP_l: 0.5570, bbox_mAP_copypaste: 0.337 0.449 0.354 0.083 0.335 0.557\n"
     ]
    },
    {
     "name": "stdout",
     "output_type": "stream",
     "text": [
      "DONE (t=0.74s).\n",
      "Average Precision  (AP) @[ IoU=0.50:0.95 | area=   all | maxDets=100 ] = 0.337\n",
      "Average Precision  (AP) @[ IoU=0.50      | area=   all | maxDets=1000 ] = 0.449\n",
      "Average Precision  (AP) @[ IoU=0.75      | area=   all | maxDets=1000 ] = 0.354\n",
      "Average Precision  (AP) @[ IoU=0.50:0.95 | area= small | maxDets=1000 ] = 0.083\n",
      "Average Precision  (AP) @[ IoU=0.50:0.95 | area=medium | maxDets=1000 ] = 0.335\n",
      "Average Precision  (AP) @[ IoU=0.50:0.95 | area= large | maxDets=1000 ] = 0.557\n",
      "Average Recall     (AR) @[ IoU=0.50:0.95 | area=   all | maxDets=100 ] = 0.455\n",
      "Average Recall     (AR) @[ IoU=0.50:0.95 | area=   all | maxDets=300 ] = 0.455\n",
      "Average Recall     (AR) @[ IoU=0.50:0.95 | area=   all | maxDets=1000 ] = 0.455\n",
      "Average Recall     (AR) @[ IoU=0.50:0.95 | area= small | maxDets=1000 ] = 0.163\n",
      "Average Recall     (AR) @[ IoU=0.50:0.95 | area=medium | maxDets=1000 ] = 0.462\n",
      "Average Recall     (AR) @[ IoU=0.50:0.95 | area= large | maxDets=1000 ] = 0.672\n"
     ]
    },
    {
     "name": "stderr",
     "output_type": "stream",
     "text": [
      "2021-05-20 03:36:10,949 - mmdet - INFO - Epoch [4][50/871]\tlr: 1.000e-05, eta: 18:26:20, time: 2.183, data_time: 0.089, memory: 18925, loss_rpn_cls: 0.0427, loss_rpn_bbox: 0.0283, s0.loss_cls: 0.2262, s0.acc: 92.7956, s0.loss_bbox: 0.2426, s0.loss_mask: 0.3129, s1.loss_cls: 0.1108, s1.acc: 92.8470, s1.loss_bbox: 0.1031, s1.loss_mask: 0.1657, s2.loss_cls: 0.0539, s2.acc: 93.1319, s2.loss_bbox: 0.0381, s2.loss_mask: 0.0850, loss: 1.4094, grad_norm: 8.3168\n",
      "2021-05-20 03:37:57,996 - mmdet - INFO - Epoch [4][100/871]\tlr: 1.000e-05, eta: 18:25:23, time: 2.141, data_time: 0.039, memory: 18925, loss_rpn_cls: 0.0455, loss_rpn_bbox: 0.0268, s0.loss_cls: 0.2387, s0.acc: 92.1146, s0.loss_bbox: 0.2623, s0.loss_mask: 0.3078, s1.loss_cls: 0.1177, s1.acc: 92.2224, s1.loss_bbox: 0.1103, s1.loss_mask: 0.1623, s2.loss_cls: 0.0572, s2.acc: 92.3372, s2.loss_bbox: 0.0418, s2.loss_mask: 0.0844, loss: 1.4548, grad_norm: 10.1231\n",
      "2021-05-20 03:39:44,086 - mmdet - INFO - Epoch [4][150/871]\tlr: 1.000e-05, eta: 18:24:13, time: 2.122, data_time: 0.030, memory: 18925, loss_rpn_cls: 0.0319, loss_rpn_bbox: 0.0215, s0.loss_cls: 0.2245, s0.acc: 92.8424, s0.loss_bbox: 0.2513, s0.loss_mask: 0.3534, s1.loss_cls: 0.1069, s1.acc: 92.8045, s1.loss_bbox: 0.1064, s1.loss_mask: 0.1841, s2.loss_cls: 0.0524, s2.acc: 93.0180, s2.loss_bbox: 0.0392, s2.loss_mask: 0.0927, loss: 1.4642, grad_norm: 9.0827\n",
      "2021-05-20 03:41:30,659 - mmdet - INFO - Epoch [4][200/871]\tlr: 1.000e-05, eta: 18:23:08, time: 2.131, data_time: 0.041, memory: 18925, loss_rpn_cls: 0.0436, loss_rpn_bbox: 0.0368, s0.loss_cls: 0.2379, s0.acc: 92.8099, s0.loss_bbox: 0.2409, s0.loss_mask: 0.2911, s1.loss_cls: 0.1166, s1.acc: 92.9722, s1.loss_bbox: 0.0959, s1.loss_mask: 0.1545, s2.loss_cls: 0.0565, s2.acc: 93.1601, s2.loss_bbox: 0.0348, s2.loss_mask: 0.0788, loss: 1.3873, grad_norm: 8.2604\n",
      "2021-05-20 03:43:17,169 - mmdet - INFO - Epoch [4][250/871]\tlr: 1.000e-05, eta: 18:22:00, time: 2.130, data_time: 0.033, memory: 18925, loss_rpn_cls: 0.0495, loss_rpn_bbox: 0.0308, s0.loss_cls: 0.2439, s0.acc: 92.2630, s0.loss_bbox: 0.2760, s0.loss_mask: 0.3269, s1.loss_cls: 0.1209, s1.acc: 92.1469, s1.loss_bbox: 0.1171, s1.loss_mask: 0.1743, s2.loss_cls: 0.0587, s2.acc: 92.3336, s2.loss_bbox: 0.0413, s2.loss_mask: 0.0882, loss: 1.5276, grad_norm: 9.0751\n",
      "2021-05-20 03:45:04,521 - mmdet - INFO - Epoch [4][300/871]\tlr: 1.000e-05, eta: 18:21:00, time: 2.147, data_time: 0.037, memory: 18925, loss_rpn_cls: 0.0369, loss_rpn_bbox: 0.0260, s0.loss_cls: 0.2303, s0.acc: 92.8919, s0.loss_bbox: 0.2434, s0.loss_mask: 0.3555, s1.loss_cls: 0.1145, s1.acc: 92.9436, s1.loss_bbox: 0.1000, s1.loss_mask: 0.1880, s2.loss_cls: 0.0548, s2.acc: 93.0814, s2.loss_bbox: 0.0375, s2.loss_mask: 0.0951, loss: 1.4820, grad_norm: 8.8980\n",
      "2021-05-20 03:46:49,127 - mmdet - INFO - Epoch [4][350/871]\tlr: 1.000e-05, eta: 18:19:29, time: 2.092, data_time: 0.033, memory: 18925, loss_rpn_cls: 0.0382, loss_rpn_bbox: 0.0257, s0.loss_cls: 0.2370, s0.acc: 92.5924, s0.loss_bbox: 0.2608, s0.loss_mask: 0.3254, s1.loss_cls: 0.1154, s1.acc: 92.6511, s1.loss_bbox: 0.1089, s1.loss_mask: 0.1673, s2.loss_cls: 0.0546, s2.acc: 93.1836, s2.loss_bbox: 0.0393, s2.loss_mask: 0.0874, loss: 1.4601, grad_norm: 8.5449\n",
      "2021-05-20 03:48:34,269 - mmdet - INFO - Epoch [4][400/871]\tlr: 1.000e-05, eta: 18:18:03, time: 2.103, data_time: 0.035, memory: 18925, loss_rpn_cls: 0.0480, loss_rpn_bbox: 0.0298, s0.loss_cls: 0.2354, s0.acc: 92.6602, s0.loss_bbox: 0.2544, s0.loss_mask: 0.3143, s1.loss_cls: 0.1154, s1.acc: 92.6389, s1.loss_bbox: 0.1061, s1.loss_mask: 0.1638, s2.loss_cls: 0.0557, s2.acc: 92.8393, s2.loss_bbox: 0.0401, s2.loss_mask: 0.0836, loss: 1.4466, grad_norm: 8.7339\n",
      "2021-05-20 03:50:22,851 - mmdet - INFO - Epoch [4][450/871]\tlr: 1.000e-05, eta: 18:17:12, time: 2.172, data_time: 0.047, memory: 18925, loss_rpn_cls: 0.0370, loss_rpn_bbox: 0.0290, s0.loss_cls: 0.2503, s0.acc: 91.9427, s0.loss_bbox: 0.2815, s0.loss_mask: 0.2626, s1.loss_cls: 0.1236, s1.acc: 91.9647, s1.loss_bbox: 0.1189, s1.loss_mask: 0.1405, s2.loss_cls: 0.0597, s2.acc: 92.0933, s2.loss_bbox: 0.0441, s2.loss_mask: 0.0716, loss: 1.4189, grad_norm: 8.4747\n",
      "2021-05-20 03:52:08,663 - mmdet - INFO - Epoch [4][500/871]\tlr: 1.000e-05, eta: 18:15:51, time: 2.116, data_time: 0.038, memory: 18925, loss_rpn_cls: 0.0396, loss_rpn_bbox: 0.0290, s0.loss_cls: 0.2334, s0.acc: 92.4375, s0.loss_bbox: 0.2601, s0.loss_mask: 0.3340, s1.loss_cls: 0.1171, s1.acc: 92.4096, s1.loss_bbox: 0.1062, s1.loss_mask: 0.1718, s2.loss_cls: 0.0560, s2.acc: 92.5473, s2.loss_bbox: 0.0380, s2.loss_mask: 0.0877, loss: 1.4729, grad_norm: 8.7527\n",
      "2021-05-20 03:53:55,689 - mmdet - INFO - Epoch [4][550/871]\tlr: 1.000e-05, eta: 18:14:42, time: 2.140, data_time: 0.035, memory: 18925, loss_rpn_cls: 0.0361, loss_rpn_bbox: 0.0251, s0.loss_cls: 0.2514, s0.acc: 92.2279, s0.loss_bbox: 0.2578, s0.loss_mask: 0.3303, s1.loss_cls: 0.1259, s1.acc: 92.1384, s1.loss_bbox: 0.1088, s1.loss_mask: 0.1749, s2.loss_cls: 0.0609, s2.acc: 92.5673, s2.loss_bbox: 0.0415, s2.loss_mask: 0.0890, loss: 1.5017, grad_norm: 8.4698\n",
      "2021-05-20 03:55:38,318 - mmdet - INFO - Epoch [4][600/871]\tlr: 1.000e-05, eta: 18:12:48, time: 2.053, data_time: 0.033, memory: 18925, loss_rpn_cls: 0.0376, loss_rpn_bbox: 0.0272, s0.loss_cls: 0.2385, s0.acc: 92.5430, s0.loss_bbox: 0.2606, s0.loss_mask: 0.3195, s1.loss_cls: 0.1192, s1.acc: 92.3150, s1.loss_bbox: 0.1103, s1.loss_mask: 0.1710, s2.loss_cls: 0.0572, s2.acc: 92.5189, s2.loss_bbox: 0.0405, s2.loss_mask: 0.0875, loss: 1.4692, grad_norm: 8.6201\n",
      "2021-05-20 03:57:25,307 - mmdet - INFO - Epoch [4][650/871]\tlr: 1.000e-05, eta: 18:11:36, time: 2.140, data_time: 0.038, memory: 18925, loss_rpn_cls: 0.0410, loss_rpn_bbox: 0.0301, s0.loss_cls: 0.2550, s0.acc: 91.8125, s0.loss_bbox: 0.2815, s0.loss_mask: 0.2989, s1.loss_cls: 0.1260, s1.acc: 91.8355, s1.loss_bbox: 0.1153, s1.loss_mask: 0.1602, s2.loss_cls: 0.0600, s2.acc: 92.1863, s2.loss_bbox: 0.0438, s2.loss_mask: 0.0836, loss: 1.4954, grad_norm: 8.7800\n",
      "2021-05-20 03:59:11,188 - mmdet - INFO - Epoch [4][700/871]\tlr: 1.000e-05, eta: 18:10:13, time: 2.118, data_time: 0.037, memory: 18925, loss_rpn_cls: 0.0350, loss_rpn_bbox: 0.0277, s0.loss_cls: 0.2412, s0.acc: 92.4102, s0.loss_bbox: 0.2618, s0.loss_mask: 0.2739, s1.loss_cls: 0.1187, s1.acc: 92.4008, s1.loss_bbox: 0.1093, s1.loss_mask: 0.1446, s2.loss_cls: 0.0566, s2.acc: 92.7344, s2.loss_bbox: 0.0398, s2.loss_mask: 0.0757, loss: 1.3843, grad_norm: 8.2492\n",
      "2021-05-20 04:00:58,144 - mmdet - INFO - Epoch [4][750/871]\tlr: 1.000e-05, eta: 18:08:59, time: 2.139, data_time: 0.034, memory: 18925, loss_rpn_cls: 0.0396, loss_rpn_bbox: 0.0263, s0.loss_cls: 0.2533, s0.acc: 92.0534, s0.loss_bbox: 0.2728, s0.loss_mask: 0.2760, s1.loss_cls: 0.1257, s1.acc: 92.1823, s1.loss_bbox: 0.1143, s1.loss_mask: 0.1462, s2.loss_cls: 0.0609, s2.acc: 92.3846, s2.loss_bbox: 0.0429, s2.loss_mask: 0.0758, loss: 1.4338, grad_norm: 9.0005\n",
      "2021-05-20 04:02:45,058 - mmdet - INFO - Epoch [4][800/871]\tlr: 1.000e-05, eta: 18:07:44, time: 2.138, data_time: 0.034, memory: 18925, loss_rpn_cls: 0.0357, loss_rpn_bbox: 0.0269, s0.loss_cls: 0.2470, s0.acc: 92.1380, s0.loss_bbox: 0.2765, s0.loss_mask: 0.3093, s1.loss_cls: 0.1226, s1.acc: 92.0865, s1.loss_bbox: 0.1145, s1.loss_mask: 0.1596, s2.loss_cls: 0.0595, s2.acc: 92.0966, s2.loss_bbox: 0.0434, s2.loss_mask: 0.0816, loss: 1.4766, grad_norm: 8.7832\n",
      "2021-05-20 04:04:30,397 - mmdet - INFO - Epoch [4][850/871]\tlr: 1.000e-05, eta: 18:06:14, time: 2.107, data_time: 0.030, memory: 18925, loss_rpn_cls: 0.0317, loss_rpn_bbox: 0.0242, s0.loss_cls: 0.2162, s0.acc: 93.3307, s0.loss_bbox: 0.2285, s0.loss_mask: 0.3558, s1.loss_cls: 0.1065, s1.acc: 93.4242, s1.loss_bbox: 0.0941, s1.loss_mask: 0.1853, s2.loss_cls: 0.0526, s2.acc: 93.5243, s2.loss_bbox: 0.0354, s2.loss_mask: 0.0937, loss: 1.4240, grad_norm: 8.4337\n",
      "2021-05-20 04:07:07,964 - mmdet - INFO - Epoch [5][50/871]\tlr: 1.000e-05, eta: 17:58:32, time: 2.240, data_time: 0.104, memory: 18925, loss_rpn_cls: 0.0504, loss_rpn_bbox: 0.0340, s0.loss_cls: 0.2872, s0.acc: 91.1055, s0.loss_bbox: 0.3164, s0.loss_mask: 0.2711, s1.loss_cls: 0.1413, s1.acc: 91.0463, s1.loss_bbox: 0.1303, s1.loss_mask: 0.1449, s2.loss_cls: 0.0678, s2.acc: 91.2610, s2.loss_bbox: 0.0476, s2.loss_mask: 0.0748, loss: 1.5659, grad_norm: 8.7974\n",
      "2021-05-20 04:08:53,253 - mmdet - INFO - Epoch [5][100/871]\tlr: 1.000e-05, eta: 17:57:06, time: 2.106, data_time: 0.031, memory: 18925, loss_rpn_cls: 0.0309, loss_rpn_bbox: 0.0236, s0.loss_cls: 0.2112, s0.acc: 93.3138, s0.loss_bbox: 0.2253, s0.loss_mask: 0.3439, s1.loss_cls: 0.1060, s1.acc: 93.2983, s1.loss_bbox: 0.0941, s1.loss_mask: 0.1825, s2.loss_cls: 0.0506, s2.acc: 93.4708, s2.loss_bbox: 0.0357, s2.loss_mask: 0.0920, loss: 1.3956, grad_norm: 8.6960\n",
      "2021-05-20 04:10:39,354 - mmdet - INFO - Epoch [5][150/871]\tlr: 1.000e-05, eta: 17:55:46, time: 2.122, data_time: 0.034, memory: 18925, loss_rpn_cls: 0.0323, loss_rpn_bbox: 0.0263, s0.loss_cls: 0.2393, s0.acc: 92.5286, s0.loss_bbox: 0.2542, s0.loss_mask: 0.3434, s1.loss_cls: 0.1204, s1.acc: 92.3692, s1.loss_bbox: 0.1087, s1.loss_mask: 0.1822, s2.loss_cls: 0.0588, s2.acc: 92.4568, s2.loss_bbox: 0.0417, s2.loss_mask: 0.0924, loss: 1.4996, grad_norm: 9.6079\n",
      "2021-05-20 04:12:26,187 - mmdet - INFO - Epoch [5][200/871]\tlr: 1.000e-05, eta: 17:54:31, time: 2.137, data_time: 0.031, memory: 18925, loss_rpn_cls: 0.0346, loss_rpn_bbox: 0.0273, s0.loss_cls: 0.2131, s0.acc: 93.0990, s0.loss_bbox: 0.2440, s0.loss_mask: 0.2873, s1.loss_cls: 0.1078, s1.acc: 93.1277, s1.loss_bbox: 0.1012, s1.loss_mask: 0.1533, s2.loss_cls: 0.0516, s2.acc: 93.2240, s2.loss_bbox: 0.0373, s2.loss_mask: 0.0806, loss: 1.3382, grad_norm: 8.2332\n",
      "2021-05-20 04:14:13,408 - mmdet - INFO - Epoch [5][250/871]\tlr: 1.000e-05, eta: 17:53:19, time: 2.144, data_time: 0.036, memory: 18925, loss_rpn_cls: 0.0432, loss_rpn_bbox: 0.0340, s0.loss_cls: 0.2599, s0.acc: 91.8255, s0.loss_bbox: 0.2934, s0.loss_mask: 0.2902, s1.loss_cls: 0.1252, s1.acc: 92.0165, s1.loss_bbox: 0.1202, s1.loss_mask: 0.1499, s2.loss_cls: 0.0585, s2.acc: 92.4287, s2.loss_bbox: 0.0440, s2.loss_mask: 0.0769, loss: 1.4953, grad_norm: 8.7464\n",
      "2021-05-20 04:15:59,943 - mmdet - INFO - Epoch [5][300/871]\tlr: 1.000e-05, eta: 17:52:00, time: 2.131, data_time: 0.028, memory: 18925, loss_rpn_cls: 0.0307, loss_rpn_bbox: 0.0219, s0.loss_cls: 0.2150, s0.acc: 93.0299, s0.loss_bbox: 0.2250, s0.loss_mask: 0.3304, s1.loss_cls: 0.1066, s1.acc: 93.0525, s1.loss_bbox: 0.0978, s1.loss_mask: 0.1750, s2.loss_cls: 0.0512, s2.acc: 93.1408, s2.loss_bbox: 0.0370, s2.loss_mask: 0.0892, loss: 1.3796, grad_norm: 8.9918\n",
      "2021-05-20 04:17:45,193 - mmdet - INFO - Epoch [5][350/871]\tlr: 1.000e-05, eta: 17:50:30, time: 2.105, data_time: 0.037, memory: 18925, loss_rpn_cls: 0.0431, loss_rpn_bbox: 0.0290, s0.loss_cls: 0.2620, s0.acc: 91.7565, s0.loss_bbox: 0.2831, s0.loss_mask: 0.3014, s1.loss_cls: 0.1313, s1.acc: 91.6891, s1.loss_bbox: 0.1177, s1.loss_mask: 0.1594, s2.loss_cls: 0.0630, s2.acc: 91.9502, s2.loss_bbox: 0.0416, s2.loss_mask: 0.0826, loss: 1.5141, grad_norm: 9.3122\n",
      "2021-05-20 04:19:29,259 - mmdet - INFO - Epoch [5][400/871]\tlr: 1.000e-05, eta: 17:48:51, time: 2.081, data_time: 0.031, memory: 18925, loss_rpn_cls: 0.0368, loss_rpn_bbox: 0.0263, s0.loss_cls: 0.2293, s0.acc: 92.9701, s0.loss_bbox: 0.2451, s0.loss_mask: 0.3252, s1.loss_cls: 0.1112, s1.acc: 93.0757, s1.loss_bbox: 0.1017, s1.loss_mask: 0.1711, s2.loss_cls: 0.0518, s2.acc: 93.3662, s2.loss_bbox: 0.0377, s2.loss_mask: 0.0877, loss: 1.4239, grad_norm: 8.6219\n",
      "2021-05-20 04:21:15,220 - mmdet - INFO - Epoch [5][450/871]\tlr: 1.000e-05, eta: 17:47:26, time: 2.119, data_time: 0.035, memory: 18925, loss_rpn_cls: 0.0368, loss_rpn_bbox: 0.0264, s0.loss_cls: 0.2263, s0.acc: 93.0924, s0.loss_bbox: 0.2365, s0.loss_mask: 0.3024, s1.loss_cls: 0.1108, s1.acc: 93.1309, s1.loss_bbox: 0.1029, s1.loss_mask: 0.1579, s2.loss_cls: 0.0531, s2.acc: 93.1538, s2.loss_bbox: 0.0376, s2.loss_mask: 0.0814, loss: 1.3720, grad_norm: 9.0770\n",
      "2021-05-20 04:22:59,790 - mmdet - INFO - Epoch [5][500/871]\tlr: 1.000e-05, eta: 17:45:50, time: 2.091, data_time: 0.032, memory: 18925, loss_rpn_cls: 0.0400, loss_rpn_bbox: 0.0270, s0.loss_cls: 0.2277, s0.acc: 93.1185, s0.loss_bbox: 0.2471, s0.loss_mask: 0.3143, s1.loss_cls: 0.1126, s1.acc: 93.2134, s1.loss_bbox: 0.1003, s1.loss_mask: 0.1671, s2.loss_cls: 0.0526, s2.acc: 93.5210, s2.loss_bbox: 0.0370, s2.loss_mask: 0.0858, loss: 1.4116, grad_norm: 8.2187\n",
      "2021-05-20 04:24:47,279 - mmdet - INFO - Epoch [5][550/871]\tlr: 1.000e-05, eta: 17:44:35, time: 2.150, data_time: 0.039, memory: 18925, loss_rpn_cls: 0.0387, loss_rpn_bbox: 0.0271, s0.loss_cls: 0.2480, s0.acc: 92.2383, s0.loss_bbox: 0.2623, s0.loss_mask: 0.3265, s1.loss_cls: 0.1216, s1.acc: 92.0502, s1.loss_bbox: 0.1102, s1.loss_mask: 0.1713, s2.loss_cls: 0.0589, s2.acc: 92.4870, s2.loss_bbox: 0.0414, s2.loss_mask: 0.0860, loss: 1.4921, grad_norm: 8.8958\n",
      "2021-05-20 04:26:29,520 - mmdet - INFO - Epoch [5][600/871]\tlr: 1.000e-05, eta: 17:42:41, time: 2.045, data_time: 0.031, memory: 18925, loss_rpn_cls: 0.0373, loss_rpn_bbox: 0.0241, s0.loss_cls: 0.2095, s0.acc: 93.0911, s0.loss_bbox: 0.2541, s0.loss_mask: 0.2753, s1.loss_cls: 0.1011, s1.acc: 93.1494, s1.loss_bbox: 0.1066, s1.loss_mask: 0.1495, s2.loss_cls: 0.0496, s2.acc: 93.3760, s2.loss_bbox: 0.0394, s2.loss_mask: 0.0783, loss: 1.3248, grad_norm: 9.5109\n",
      "2021-05-20 04:28:17,635 - mmdet - INFO - Epoch [5][650/871]\tlr: 1.000e-05, eta: 17:41:30, time: 2.162, data_time: 0.040, memory: 18925, loss_rpn_cls: 0.0421, loss_rpn_bbox: 0.0292, s0.loss_cls: 0.2490, s0.acc: 92.1888, s0.loss_bbox: 0.2798, s0.loss_mask: 0.3267, s1.loss_cls: 0.1247, s1.acc: 92.3243, s1.loss_bbox: 0.1197, s1.loss_mask: 0.1708, s2.loss_cls: 0.0590, s2.acc: 92.5656, s2.loss_bbox: 0.0439, s2.loss_mask: 0.0888, loss: 1.5336, grad_norm: 8.4627\n",
      "2021-05-20 04:30:03,880 - mmdet - INFO - Epoch [5][700/871]\tlr: 1.000e-05, eta: 17:40:05, time: 2.125, data_time: 0.039, memory: 18925, loss_rpn_cls: 0.0511, loss_rpn_bbox: 0.0342, s0.loss_cls: 0.2408, s0.acc: 92.1667, s0.loss_bbox: 0.2799, s0.loss_mask: 0.3011, s1.loss_cls: 0.1178, s1.acc: 92.3100, s1.loss_bbox: 0.1147, s1.loss_mask: 0.1592, s2.loss_cls: 0.0564, s2.acc: 92.3232, s2.loss_bbox: 0.0409, s2.loss_mask: 0.0836, loss: 1.4798, grad_norm: 7.9109\n",
      "2021-05-20 04:31:49,619 - mmdet - INFO - Epoch [5][750/871]\tlr: 1.000e-05, eta: 17:38:36, time: 2.115, data_time: 0.031, memory: 18925, loss_rpn_cls: 0.0408, loss_rpn_bbox: 0.0245, s0.loss_cls: 0.2289, s0.acc: 92.8880, s0.loss_bbox: 0.2443, s0.loss_mask: 0.3156, s1.loss_cls: 0.1117, s1.acc: 92.9378, s1.loss_bbox: 0.1009, s1.loss_mask: 0.1676, s2.loss_cls: 0.0549, s2.acc: 92.9884, s2.loss_bbox: 0.0378, s2.loss_mask: 0.0869, loss: 1.4139, grad_norm: 8.7295\n",
      "2021-05-20 04:33:34,617 - mmdet - INFO - Epoch [5][800/871]\tlr: 1.000e-05, eta: 17:37:01, time: 2.100, data_time: 0.033, memory: 18925, loss_rpn_cls: 0.0395, loss_rpn_bbox: 0.0242, s0.loss_cls: 0.2101, s0.acc: 93.2357, s0.loss_bbox: 0.2469, s0.loss_mask: 0.2806, s1.loss_cls: 0.1021, s1.acc: 93.3174, s1.loss_bbox: 0.1035, s1.loss_mask: 0.1466, s2.loss_cls: 0.0489, s2.acc: 93.3576, s2.loss_bbox: 0.0383, s2.loss_mask: 0.0752, loss: 1.3159, grad_norm: 8.0775\n",
      "2021-05-20 04:35:19,347 - mmdet - INFO - Epoch [5][850/871]\tlr: 1.000e-05, eta: 17:35:24, time: 2.095, data_time: 0.037, memory: 18925, loss_rpn_cls: 0.0307, loss_rpn_bbox: 0.0268, s0.loss_cls: 0.2078, s0.acc: 93.4792, s0.loss_bbox: 0.2238, s0.loss_mask: 0.3427, s1.loss_cls: 0.1004, s1.acc: 93.6791, s1.loss_bbox: 0.0930, s1.loss_mask: 0.1766, s2.loss_cls: 0.0481, s2.acc: 93.8108, s2.loss_bbox: 0.0339, s2.loss_mask: 0.0878, loss: 1.3716, grad_norm: 8.2897\n",
      "2021-05-20 04:37:55,466 - mmdet - INFO - Epoch [6][50/871]\tlr: 1.000e-05, eta: 17:28:48, time: 2.229, data_time: 0.095, memory: 18925, loss_rpn_cls: 0.0398, loss_rpn_bbox: 0.0273, s0.loss_cls: 0.2464, s0.acc: 92.2253, s0.loss_bbox: 0.2724, s0.loss_mask: 0.2789, s1.loss_cls: 0.1176, s1.acc: 92.4074, s1.loss_bbox: 0.1151, s1.loss_mask: 0.1448, s2.loss_cls: 0.0555, s2.acc: 92.6824, s2.loss_bbox: 0.0440, s2.loss_mask: 0.0752, loss: 1.4170, grad_norm: 8.2996\n",
      "2021-05-20 04:39:41,257 - mmdet - INFO - Epoch [6][100/871]\tlr: 1.000e-05, eta: 17:27:21, time: 2.116, data_time: 0.029, memory: 18925, loss_rpn_cls: 0.0360, loss_rpn_bbox: 0.0243, s0.loss_cls: 0.2275, s0.acc: 92.9375, s0.loss_bbox: 0.2410, s0.loss_mask: 0.3216, s1.loss_cls: 0.1129, s1.acc: 92.9239, s1.loss_bbox: 0.1015, s1.loss_mask: 0.1691, s2.loss_cls: 0.0535, s2.acc: 93.0152, s2.loss_bbox: 0.0371, s2.loss_mask: 0.0892, loss: 1.4137, grad_norm: 8.6118\n",
      "2021-05-20 04:41:28,513 - mmdet - INFO - Epoch [6][150/871]\tlr: 1.000e-05, eta: 17:26:04, time: 2.145, data_time: 0.036, memory: 18925, loss_rpn_cls: 0.0365, loss_rpn_bbox: 0.0281, s0.loss_cls: 0.2257, s0.acc: 92.6263, s0.loss_bbox: 0.2624, s0.loss_mask: 0.3186, s1.loss_cls: 0.1129, s1.acc: 92.6306, s1.loss_bbox: 0.1094, s1.loss_mask: 0.1687, s2.loss_cls: 0.0546, s2.acc: 92.6743, s2.loss_bbox: 0.0418, s2.loss_mask: 0.0865, loss: 1.4452, grad_norm: 9.1791\n",
      "2021-05-20 04:43:16,051 - mmdet - INFO - Epoch [6][200/871]\tlr: 1.000e-05, eta: 17:24:48, time: 2.151, data_time: 0.035, memory: 18925, loss_rpn_cls: 0.0428, loss_rpn_bbox: 0.0314, s0.loss_cls: 0.2369, s0.acc: 92.5156, s0.loss_bbox: 0.2579, s0.loss_mask: 0.2863, s1.loss_cls: 0.1192, s1.acc: 92.2529, s1.loss_bbox: 0.1095, s1.loss_mask: 0.1489, s2.loss_cls: 0.0577, s2.acc: 92.4077, s2.loss_bbox: 0.0402, s2.loss_mask: 0.0773, loss: 1.4081, grad_norm: 8.6961\n",
      "2021-05-20 04:45:02,019 - mmdet - INFO - Epoch [6][250/871]\tlr: 1.000e-05, eta: 17:23:20, time: 2.119, data_time: 0.031, memory: 18925, loss_rpn_cls: 0.0340, loss_rpn_bbox: 0.0255, s0.loss_cls: 0.2109, s0.acc: 93.2695, s0.loss_bbox: 0.2354, s0.loss_mask: 0.3057, s1.loss_cls: 0.1056, s1.acc: 93.3419, s1.loss_bbox: 0.0994, s1.loss_mask: 0.1590, s2.loss_cls: 0.0515, s2.acc: 93.5395, s2.loss_bbox: 0.0368, s2.loss_mask: 0.0811, loss: 1.3449, grad_norm: 9.1703\n",
      "2021-05-20 04:46:50,099 - mmdet - INFO - Epoch [6][300/871]\tlr: 1.000e-05, eta: 17:22:06, time: 2.162, data_time: 0.034, memory: 18925, loss_rpn_cls: 0.0381, loss_rpn_bbox: 0.0278, s0.loss_cls: 0.2294, s0.acc: 92.8724, s0.loss_bbox: 0.2560, s0.loss_mask: 0.3227, s1.loss_cls: 0.1106, s1.acc: 93.0496, s1.loss_bbox: 0.1056, s1.loss_mask: 0.1657, s2.loss_cls: 0.0535, s2.acc: 93.1992, s2.loss_bbox: 0.0397, s2.loss_mask: 0.0849, loss: 1.4341, grad_norm: 8.3377\n",
      "2021-05-20 04:48:34,535 - mmdet - INFO - Epoch [6][350/871]\tlr: 1.000e-05, eta: 17:20:28, time: 2.089, data_time: 0.037, memory: 18925, loss_rpn_cls: 0.0481, loss_rpn_bbox: 0.0295, s0.loss_cls: 0.2155, s0.acc: 93.2630, s0.loss_bbox: 0.2397, s0.loss_mask: 0.2971, s1.loss_cls: 0.1045, s1.acc: 93.4362, s1.loss_bbox: 0.0985, s1.loss_mask: 0.1609, s2.loss_cls: 0.0502, s2.acc: 93.7451, s2.loss_bbox: 0.0364, s2.loss_mask: 0.0817, loss: 1.3621, grad_norm: 10.4077\n",
      "2021-05-20 04:50:19,722 - mmdet - INFO - Epoch [6][400/871]\tlr: 1.000e-05, eta: 17:18:55, time: 2.104, data_time: 0.031, memory: 18925, loss_rpn_cls: 0.0360, loss_rpn_bbox: 0.0262, s0.loss_cls: 0.2331, s0.acc: 92.5352, s0.loss_bbox: 0.2505, s0.loss_mask: 0.2699, s1.loss_cls: 0.1145, s1.acc: 92.5498, s1.loss_bbox: 0.1047, s1.loss_mask: 0.1403, s2.loss_cls: 0.0551, s2.acc: 92.4571, s2.loss_bbox: 0.0393, s2.loss_mask: 0.0732, loss: 1.3429, grad_norm: 7.9356\n",
      "2021-05-20 04:52:06,982 - mmdet - INFO - Epoch [6][450/871]\tlr: 1.000e-05, eta: 17:17:34, time: 2.145, data_time: 0.039, memory: 18925, loss_rpn_cls: 0.0359, loss_rpn_bbox: 0.0287, s0.loss_cls: 0.2350, s0.acc: 92.5325, s0.loss_bbox: 0.2584, s0.loss_mask: 0.2886, s1.loss_cls: 0.1153, s1.acc: 92.6507, s1.loss_bbox: 0.1088, s1.loss_mask: 0.1511, s2.loss_cls: 0.0551, s2.acc: 92.8841, s2.loss_bbox: 0.0393, s2.loss_mask: 0.0793, loss: 1.3953, grad_norm: 8.3216\n",
      "2021-05-20 04:53:53,359 - mmdet - INFO - Epoch [6][500/871]\tlr: 1.000e-05, eta: 17:16:07, time: 2.128, data_time: 0.037, memory: 18925, loss_rpn_cls: 0.0423, loss_rpn_bbox: 0.0319, s0.loss_cls: 0.2492, s0.acc: 92.0247, s0.loss_bbox: 0.2646, s0.loss_mask: 0.3162, s1.loss_cls: 0.1233, s1.acc: 92.1606, s1.loss_bbox: 0.1093, s1.loss_mask: 0.1686, s2.loss_cls: 0.0602, s2.acc: 92.1589, s2.loss_bbox: 0.0409, s2.loss_mask: 0.0861, loss: 1.4924, grad_norm: 9.2611\n",
      "2021-05-20 04:55:40,106 - mmdet - INFO - Epoch [6][550/871]\tlr: 1.000e-05, eta: 17:14:42, time: 2.135, data_time: 0.030, memory: 18925, loss_rpn_cls: 0.0381, loss_rpn_bbox: 0.0249, s0.loss_cls: 0.2101, s0.acc: 93.3750, s0.loss_bbox: 0.2365, s0.loss_mask: 0.3208, s1.loss_cls: 0.1026, s1.acc: 93.4835, s1.loss_bbox: 0.0983, s1.loss_mask: 0.1674, s2.loss_cls: 0.0500, s2.acc: 93.6666, s2.loss_bbox: 0.0369, s2.loss_mask: 0.0856, loss: 1.3711, grad_norm: 8.8580\n",
      "2021-05-20 04:57:22,767 - mmdet - INFO - Epoch [6][600/871]\tlr: 1.000e-05, eta: 17:12:53, time: 2.053, data_time: 0.032, memory: 18925, loss_rpn_cls: 0.0367, loss_rpn_bbox: 0.0253, s0.loss_cls: 0.2172, s0.acc: 93.0104, s0.loss_bbox: 0.2609, s0.loss_mask: 0.3004, s1.loss_cls: 0.1061, s1.acc: 93.1044, s1.loss_bbox: 0.1108, s1.loss_mask: 0.1576, s2.loss_cls: 0.0516, s2.acc: 92.9636, s2.loss_bbox: 0.0415, s2.loss_mask: 0.0811, loss: 1.3893, grad_norm: 8.6977\n",
      "2021-05-20 04:59:09,182 - mmdet - INFO - Epoch [6][650/871]\tlr: 1.000e-05, eta: 17:11:25, time: 2.128, data_time: 0.040, memory: 18925, loss_rpn_cls: 0.0351, loss_rpn_bbox: 0.0249, s0.loss_cls: 0.2269, s0.acc: 92.9284, s0.loss_bbox: 0.2556, s0.loss_mask: 0.3152, s1.loss_cls: 0.1092, s1.acc: 93.0870, s1.loss_bbox: 0.1063, s1.loss_mask: 0.1676, s2.loss_cls: 0.0518, s2.acc: 93.0796, s2.loss_bbox: 0.0391, s2.loss_mask: 0.0859, loss: 1.4174, grad_norm: 9.4550\n",
      "2021-05-20 05:00:53,601 - mmdet - INFO - Epoch [6][700/871]\tlr: 1.000e-05, eta: 17:09:46, time: 2.088, data_time: 0.031, memory: 18925, loss_rpn_cls: 0.0295, loss_rpn_bbox: 0.0251, s0.loss_cls: 0.2255, s0.acc: 93.0143, s0.loss_bbox: 0.2422, s0.loss_mask: 0.2888, s1.loss_cls: 0.1086, s1.acc: 93.2042, s1.loss_bbox: 0.0985, s1.loss_mask: 0.1561, s2.loss_cls: 0.0520, s2.acc: 93.3464, s2.loss_bbox: 0.0369, s2.loss_mask: 0.0799, loss: 1.3430, grad_norm: 8.9820\n",
      "2021-05-20 05:02:39,618 - mmdet - INFO - Epoch [6][750/871]\tlr: 1.000e-05, eta: 17:08:15, time: 2.120, data_time: 0.045, memory: 18925, loss_rpn_cls: 0.0384, loss_rpn_bbox: 0.0307, s0.loss_cls: 0.2294, s0.acc: 92.7174, s0.loss_bbox: 0.2508, s0.loss_mask: 0.2834, s1.loss_cls: 0.1145, s1.acc: 92.7417, s1.loss_bbox: 0.1035, s1.loss_mask: 0.1496, s2.loss_cls: 0.0550, s2.acc: 93.0229, s2.loss_bbox: 0.0380, s2.loss_mask: 0.0780, loss: 1.3714, grad_norm: 8.7657\n",
      "2021-05-20 05:04:25,603 - mmdet - INFO - Epoch [6][800/871]\tlr: 1.000e-05, eta: 17:06:44, time: 2.120, data_time: 0.035, memory: 18925, loss_rpn_cls: 0.0403, loss_rpn_bbox: 0.0273, s0.loss_cls: 0.2440, s0.acc: 92.0794, s0.loss_bbox: 0.2654, s0.loss_mask: 0.3149, s1.loss_cls: 0.1213, s1.acc: 92.0675, s1.loss_bbox: 0.1126, s1.loss_mask: 0.1645, s2.loss_cls: 0.0583, s2.acc: 92.2129, s2.loss_bbox: 0.0413, s2.loss_mask: 0.0844, loss: 1.4743, grad_norm: 9.0931\n",
      "2021-05-20 05:06:11,713 - mmdet - INFO - Epoch [6][850/871]\tlr: 1.000e-05, eta: 17:05:14, time: 2.122, data_time: 0.038, memory: 18925, loss_rpn_cls: 0.0335, loss_rpn_bbox: 0.0265, s0.loss_cls: 0.1938, s0.acc: 93.6146, s0.loss_bbox: 0.2409, s0.loss_mask: 0.3413, s1.loss_cls: 0.0971, s1.acc: 93.5122, s1.loss_bbox: 0.1024, s1.loss_mask: 0.1761, s2.loss_cls: 0.0487, s2.acc: 93.4823, s2.loss_bbox: 0.0388, s2.loss_mask: 0.0894, loss: 1.3885, grad_norm: 8.2308\n",
      "2021-05-20 05:06:56,975 - mmdet - INFO - Saving checkpoint at 6 epochs\n"
     ]
    },
    {
     "name": "stdout",
     "output_type": "stream",
     "text": [
      "[>>>>>>>>>>>>>>>>>>>>>>>>>>>>>] 659/659, 1.7 task/s, elapsed: 381s, ETA:     0s"
     ]
    },
    {
     "name": "stderr",
     "output_type": "stream",
     "text": [
      "2021-05-20 05:13:22,522 - mmdet - INFO - Evaluating bbox...\n"
     ]
    },
    {
     "name": "stdout",
     "output_type": "stream",
     "text": [
      "Loading and preparing results...\n",
      "DONE (t=0.68s)\n",
      "creating index...\n",
      "index created!\n",
      "Running per image evaluation...\n",
      "Evaluate annotation type *bbox*\n",
      "DONE (t=4.96s).\n",
      "Accumulating evaluation results...\n"
     ]
    },
    {
     "name": "stderr",
     "output_type": "stream",
     "text": [
      "2021-05-20 05:13:28,919 - mmdet - INFO - Epoch(val) [6][871]\tbbox_mAP: 0.3390, bbox_mAP_50: 0.4500, bbox_mAP_75: 0.3540, bbox_mAP_s: 0.0870, bbox_mAP_m: 0.3340, bbox_mAP_l: 0.5510, bbox_mAP_copypaste: 0.339 0.450 0.354 0.087 0.334 0.551\n"
     ]
    },
    {
     "name": "stdout",
     "output_type": "stream",
     "text": [
      "DONE (t=0.68s).\n",
      "Average Precision  (AP) @[ IoU=0.50:0.95 | area=   all | maxDets=100 ] = 0.339\n",
      "Average Precision  (AP) @[ IoU=0.50      | area=   all | maxDets=1000 ] = 0.450\n",
      "Average Precision  (AP) @[ IoU=0.75      | area=   all | maxDets=1000 ] = 0.354\n",
      "Average Precision  (AP) @[ IoU=0.50:0.95 | area= small | maxDets=1000 ] = 0.087\n",
      "Average Precision  (AP) @[ IoU=0.50:0.95 | area=medium | maxDets=1000 ] = 0.334\n",
      "Average Precision  (AP) @[ IoU=0.50:0.95 | area= large | maxDets=1000 ] = 0.551\n",
      "Average Recall     (AR) @[ IoU=0.50:0.95 | area=   all | maxDets=100 ] = 0.457\n",
      "Average Recall     (AR) @[ IoU=0.50:0.95 | area=   all | maxDets=300 ] = 0.457\n",
      "Average Recall     (AR) @[ IoU=0.50:0.95 | area=   all | maxDets=1000 ] = 0.457\n",
      "Average Recall     (AR) @[ IoU=0.50:0.95 | area= small | maxDets=1000 ] = 0.166\n",
      "Average Recall     (AR) @[ IoU=0.50:0.95 | area=medium | maxDets=1000 ] = 0.469\n",
      "Average Recall     (AR) @[ IoU=0.50:0.95 | area= large | maxDets=1000 ] = 0.667\n"
     ]
    },
    {
     "name": "stderr",
     "output_type": "stream",
     "text": [
      "2021-05-20 05:15:18,831 - mmdet - INFO - Epoch [7][50/871]\tlr: 1.000e-05, eta: 16:59:17, time: 2.198, data_time: 0.092, memory: 18925, loss_rpn_cls: 0.0335, loss_rpn_bbox: 0.0258, s0.loss_cls: 0.2169, s0.acc: 93.1471, s0.loss_bbox: 0.2431, s0.loss_mask: 0.2971, s1.loss_cls: 0.1051, s1.acc: 93.3708, s1.loss_bbox: 0.1032, s1.loss_mask: 0.1551, s2.loss_cls: 0.0505, s2.acc: 93.5203, s2.loss_bbox: 0.0390, s2.loss_mask: 0.0800, loss: 1.3494, grad_norm: 7.8488\n",
      "2021-05-20 05:17:03,991 - mmdet - INFO - Epoch [7][100/871]\tlr: 1.000e-05, eta: 16:57:43, time: 2.103, data_time: 0.026, memory: 18925, loss_rpn_cls: 0.0294, loss_rpn_bbox: 0.0213, s0.loss_cls: 0.2084, s0.acc: 93.4362, s0.loss_bbox: 0.2279, s0.loss_mask: 0.3333, s1.loss_cls: 0.1028, s1.acc: 93.4501, s1.loss_bbox: 0.0934, s1.loss_mask: 0.1729, s2.loss_cls: 0.0496, s2.acc: 93.6385, s2.loss_bbox: 0.0359, s2.loss_mask: 0.0881, loss: 1.3629, grad_norm: 8.8957\n",
      "2021-05-20 05:18:51,228 - mmdet - INFO - Epoch [7][150/871]\tlr: 1.000e-05, eta: 16:56:20, time: 2.145, data_time: 0.035, memory: 18925, loss_rpn_cls: 0.0417, loss_rpn_bbox: 0.0280, s0.loss_cls: 0.2363, s0.acc: 92.6276, s0.loss_bbox: 0.2669, s0.loss_mask: 0.3370, s1.loss_cls: 0.1142, s1.acc: 92.6068, s1.loss_bbox: 0.1117, s1.loss_mask: 0.1694, s2.loss_cls: 0.0544, s2.acc: 92.8879, s2.loss_bbox: 0.0407, s2.loss_mask: 0.0858, loss: 1.4860, grad_norm: 9.3272\n",
      "2021-05-20 05:20:38,437 - mmdet - INFO - Epoch [7][200/871]\tlr: 1.000e-05, eta: 16:54:57, time: 2.144, data_time: 0.034, memory: 18925, loss_rpn_cls: 0.0418, loss_rpn_bbox: 0.0292, s0.loss_cls: 0.2414, s0.acc: 92.4062, s0.loss_bbox: 0.2503, s0.loss_mask: 0.2614, s1.loss_cls: 0.1177, s1.acc: 92.7237, s1.loss_bbox: 0.1033, s1.loss_mask: 0.1386, s2.loss_cls: 0.0567, s2.acc: 92.9310, s2.loss_bbox: 0.0385, s2.loss_mask: 0.0720, loss: 1.3509, grad_norm: 7.9262\n",
      "2021-05-20 05:22:24,157 - mmdet - INFO - Epoch [7][250/871]\tlr: 1.000e-05, eta: 16:53:25, time: 2.114, data_time: 0.031, memory: 18925, loss_rpn_cls: 0.0350, loss_rpn_bbox: 0.0209, s0.loss_cls: 0.2008, s0.acc: 93.8008, s0.loss_bbox: 0.2260, s0.loss_mask: 0.3344, s1.loss_cls: 0.0975, s1.acc: 93.9795, s1.loss_bbox: 0.0949, s1.loss_mask: 0.1717, s2.loss_cls: 0.0474, s2.acc: 94.0679, s2.loss_bbox: 0.0364, s2.loss_mask: 0.0864, loss: 1.3515, grad_norm: 8.4920\n",
      "2021-05-20 05:24:12,080 - mmdet - INFO - Epoch [7][300/871]\tlr: 1.000e-05, eta: 16:52:05, time: 2.158, data_time: 0.033, memory: 18925, loss_rpn_cls: 0.0361, loss_rpn_bbox: 0.0278, s0.loss_cls: 0.2210, s0.acc: 92.7786, s0.loss_bbox: 0.2658, s0.loss_mask: 0.2994, s1.loss_cls: 0.1101, s1.acc: 92.8313, s1.loss_bbox: 0.1129, s1.loss_mask: 0.1597, s2.loss_cls: 0.0539, s2.acc: 92.7045, s2.loss_bbox: 0.0409, s2.loss_mask: 0.0798, loss: 1.4076, grad_norm: 7.9690\n",
      "2021-05-20 05:25:56,339 - mmdet - INFO - Epoch [7][350/871]\tlr: 1.000e-05, eta: 16:50:25, time: 2.085, data_time: 0.034, memory: 18925, loss_rpn_cls: 0.0310, loss_rpn_bbox: 0.0259, s0.loss_cls: 0.2214, s0.acc: 92.9883, s0.loss_bbox: 0.2424, s0.loss_mask: 0.2859, s1.loss_cls: 0.1101, s1.acc: 92.9070, s1.loss_bbox: 0.0997, s1.loss_mask: 0.1521, s2.loss_cls: 0.0535, s2.acc: 93.0166, s2.loss_bbox: 0.0361, s2.loss_mask: 0.0782, loss: 1.3362, grad_norm: 8.2168\n",
      "2021-05-20 05:27:41,816 - mmdet - INFO - Epoch [7][400/871]\tlr: 1.000e-05, eta: 16:48:51, time: 2.110, data_time: 0.031, memory: 18925, loss_rpn_cls: 0.0332, loss_rpn_bbox: 0.0220, s0.loss_cls: 0.2184, s0.acc: 92.9648, s0.loss_bbox: 0.2490, s0.loss_mask: 0.2930, s1.loss_cls: 0.1047, s1.acc: 93.1861, s1.loss_bbox: 0.1061, s1.loss_mask: 0.1526, s2.loss_cls: 0.0505, s2.acc: 93.2286, s2.loss_bbox: 0.0399, s2.loss_mask: 0.0782, loss: 1.3476, grad_norm: 9.1119\n",
      "2021-05-20 05:29:28,140 - mmdet - INFO - Epoch [7][450/871]\tlr: 1.000e-05, eta: 16:47:21, time: 2.126, data_time: 0.035, memory: 18925, loss_rpn_cls: 0.0412, loss_rpn_bbox: 0.0276, s0.loss_cls: 0.2077, s0.acc: 93.3268, s0.loss_bbox: 0.2432, s0.loss_mask: 0.2939, s1.loss_cls: 0.1037, s1.acc: 93.3875, s1.loss_bbox: 0.1028, s1.loss_mask: 0.1533, s2.loss_cls: 0.0490, s2.acc: 93.6509, s2.loss_bbox: 0.0373, s2.loss_mask: 0.0778, loss: 1.3375, grad_norm: 8.3769\n",
      "2021-05-20 05:31:13,208 - mmdet - INFO - Epoch [7][500/871]\tlr: 1.000e-05, eta: 16:45:45, time: 2.101, data_time: 0.031, memory: 18925, loss_rpn_cls: 0.0340, loss_rpn_bbox: 0.0237, s0.loss_cls: 0.2319, s0.acc: 92.6367, s0.loss_bbox: 0.2468, s0.loss_mask: 0.2848, s1.loss_cls: 0.1115, s1.acc: 92.8913, s1.loss_bbox: 0.1041, s1.loss_mask: 0.1472, s2.loss_cls: 0.0542, s2.acc: 92.9030, s2.loss_bbox: 0.0383, s2.loss_mask: 0.0755, loss: 1.3520, grad_norm: 8.1754\n",
      "2021-05-20 05:32:59,482 - mmdet - INFO - Epoch [7][550/871]\tlr: 1.000e-05, eta: 16:44:15, time: 2.125, data_time: 0.037, memory: 18925, loss_rpn_cls: 0.0363, loss_rpn_bbox: 0.0253, s0.loss_cls: 0.2173, s0.acc: 93.1484, s0.loss_bbox: 0.2335, s0.loss_mask: 0.3115, s1.loss_cls: 0.1090, s1.acc: 93.1465, s1.loss_bbox: 0.0991, s1.loss_mask: 0.1609, s2.loss_cls: 0.0536, s2.acc: 92.9988, s2.loss_bbox: 0.0372, s2.loss_mask: 0.0813, loss: 1.3649, grad_norm: 8.5274\n",
      "2021-05-20 05:34:41,982 - mmdet - INFO - Epoch [7][600/871]\tlr: 1.000e-05, eta: 16:42:25, time: 2.050, data_time: 0.031, memory: 18925, loss_rpn_cls: 0.0371, loss_rpn_bbox: 0.0274, s0.loss_cls: 0.2297, s0.acc: 92.8411, s0.loss_bbox: 0.2535, s0.loss_mask: 0.3532, s1.loss_cls: 0.1134, s1.acc: 92.7559, s1.loss_bbox: 0.1063, s1.loss_mask: 0.1814, s2.loss_cls: 0.0551, s2.acc: 92.6636, s2.loss_bbox: 0.0389, s2.loss_mask: 0.0932, loss: 1.4891, grad_norm: 9.1386\n",
      "2021-05-20 05:36:30,551 - mmdet - INFO - Epoch [7][650/871]\tlr: 1.000e-05, eta: 16:41:06, time: 2.171, data_time: 0.042, memory: 18925, loss_rpn_cls: 0.0371, loss_rpn_bbox: 0.0290, s0.loss_cls: 0.2501, s0.acc: 92.0833, s0.loss_bbox: 0.2876, s0.loss_mask: 0.3094, s1.loss_cls: 0.1213, s1.acc: 92.0990, s1.loss_bbox: 0.1196, s1.loss_mask: 0.1624, s2.loss_cls: 0.0584, s2.acc: 92.3273, s2.loss_bbox: 0.0445, s2.loss_mask: 0.0837, loss: 1.5031, grad_norm: 8.7789\n",
      "2021-05-20 05:38:17,457 - mmdet - INFO - Epoch [7][700/871]\tlr: 1.000e-05, eta: 16:39:38, time: 2.138, data_time: 0.041, memory: 18925, loss_rpn_cls: 0.0462, loss_rpn_bbox: 0.0323, s0.loss_cls: 0.2493, s0.acc: 92.1068, s0.loss_bbox: 0.2819, s0.loss_mask: 0.2735, s1.loss_cls: 0.1251, s1.acc: 91.8785, s1.loss_bbox: 0.1173, s1.loss_mask: 0.1413, s2.loss_cls: 0.0596, s2.acc: 92.2844, s2.loss_bbox: 0.0429, s2.loss_mask: 0.0737, loss: 1.4430, grad_norm: 8.7234\n",
      "2021-05-20 05:40:03,662 - mmdet - INFO - Epoch [7][750/871]\tlr: 1.000e-05, eta: 16:38:06, time: 2.124, data_time: 0.037, memory: 18925, loss_rpn_cls: 0.0382, loss_rpn_bbox: 0.0267, s0.loss_cls: 0.2091, s0.acc: 93.1992, s0.loss_bbox: 0.2481, s0.loss_mask: 0.2720, s1.loss_cls: 0.1012, s1.acc: 93.3870, s1.loss_bbox: 0.1021, s1.loss_mask: 0.1440, s2.loss_cls: 0.0499, s2.acc: 93.1773, s2.loss_bbox: 0.0393, s2.loss_mask: 0.0737, loss: 1.3042, grad_norm: 8.9467\n",
      "2021-05-20 05:41:49,298 - mmdet - INFO - Epoch [7][800/871]\tlr: 1.000e-05, eta: 16:36:32, time: 2.113, data_time: 0.034, memory: 18925, loss_rpn_cls: 0.0428, loss_rpn_bbox: 0.0285, s0.loss_cls: 0.2186, s0.acc: 92.8021, s0.loss_bbox: 0.2621, s0.loss_mask: 0.3018, s1.loss_cls: 0.1097, s1.acc: 92.6688, s1.loss_bbox: 0.1103, s1.loss_mask: 0.1547, s2.loss_cls: 0.0537, s2.acc: 92.7780, s2.loss_bbox: 0.0412, s2.loss_mask: 0.0787, loss: 1.4021, grad_norm: 9.7133\n",
      "2021-05-20 05:43:36,615 - mmdet - INFO - Epoch [7][850/871]\tlr: 1.000e-05, eta: 16:35:05, time: 2.146, data_time: 0.040, memory: 18925, loss_rpn_cls: 0.0350, loss_rpn_bbox: 0.0260, s0.loss_cls: 0.2375, s0.acc: 92.3594, s0.loss_bbox: 0.2726, s0.loss_mask: 0.2865, s1.loss_cls: 0.1140, s1.acc: 92.5567, s1.loss_bbox: 0.1129, s1.loss_mask: 0.1491, s2.loss_cls: 0.0571, s2.acc: 92.6532, s2.loss_bbox: 0.0413, s2.loss_mask: 0.0763, loss: 1.4085, grad_norm: 9.2768\n",
      "2021-05-20 05:46:11,312 - mmdet - INFO - Epoch [8][50/871]\tlr: 1.000e-05, eta: 16:29:45, time: 2.208, data_time: 0.094, memory: 18925, loss_rpn_cls: 0.0314, loss_rpn_bbox: 0.0231, s0.loss_cls: 0.2258, s0.acc: 92.7786, s0.loss_bbox: 0.2514, s0.loss_mask: 0.3011, s1.loss_cls: 0.1130, s1.acc: 92.7435, s1.loss_bbox: 0.1074, s1.loss_mask: 0.1601, s2.loss_cls: 0.0535, s2.acc: 92.9733, s2.loss_bbox: 0.0401, s2.loss_mask: 0.0821, loss: 1.3891, grad_norm: 9.1227\n",
      "2021-05-20 05:47:56,875 - mmdet - INFO - Epoch [8][100/871]\tlr: 1.000e-05, eta: 16:28:11, time: 2.111, data_time: 0.031, memory: 18925, loss_rpn_cls: 0.0344, loss_rpn_bbox: 0.0228, s0.loss_cls: 0.1955, s0.acc: 93.6406, s0.loss_bbox: 0.2226, s0.loss_mask: 0.3424, s1.loss_cls: 0.0935, s1.acc: 93.8932, s1.loss_bbox: 0.0960, s1.loss_mask: 0.1794, s2.loss_cls: 0.0453, s2.acc: 93.8121, s2.loss_bbox: 0.0370, s2.loss_mask: 0.0910, loss: 1.3600, grad_norm: 8.7568\n",
      "2021-05-20 05:49:43,959 - mmdet - INFO - Epoch [8][150/871]\tlr: 1.000e-05, eta: 16:26:44, time: 2.142, data_time: 0.033, memory: 18925, loss_rpn_cls: 0.0374, loss_rpn_bbox: 0.0266, s0.loss_cls: 0.2451, s0.acc: 92.3620, s0.loss_bbox: 0.2760, s0.loss_mask: 0.3059, s1.loss_cls: 0.1193, s1.acc: 92.4898, s1.loss_bbox: 0.1145, s1.loss_mask: 0.1628, s2.loss_cls: 0.0572, s2.acc: 92.5874, s2.loss_bbox: 0.0419, s2.loss_mask: 0.0831, loss: 1.4698, grad_norm: 8.6519\n",
      "2021-05-20 05:51:30,011 - mmdet - INFO - Epoch [8][200/871]\tlr: 1.000e-05, eta: 16:25:12, time: 2.121, data_time: 0.029, memory: 18925, loss_rpn_cls: 0.0319, loss_rpn_bbox: 0.0243, s0.loss_cls: 0.2019, s0.acc: 93.7096, s0.loss_bbox: 0.2189, s0.loss_mask: 0.2738, s1.loss_cls: 0.0990, s1.acc: 93.8277, s1.loss_bbox: 0.0944, s1.loss_mask: 0.1455, s2.loss_cls: 0.0477, s2.acc: 94.0364, s2.loss_bbox: 0.0357, s2.loss_mask: 0.0749, loss: 1.2480, grad_norm: 8.1013\n",
      "2021-05-20 05:53:16,249 - mmdet - INFO - Epoch [8][250/871]\tlr: 1.000e-05, eta: 16:23:40, time: 2.125, data_time: 0.035, memory: 18925, loss_rpn_cls: 0.0352, loss_rpn_bbox: 0.0256, s0.loss_cls: 0.2218, s0.acc: 92.9062, s0.loss_bbox: 0.2579, s0.loss_mask: 0.2904, s1.loss_cls: 0.1096, s1.acc: 92.9912, s1.loss_bbox: 0.1062, s1.loss_mask: 0.1554, s2.loss_cls: 0.0529, s2.acc: 93.0297, s2.loss_bbox: 0.0394, s2.loss_mask: 0.0800, loss: 1.3745, grad_norm: 8.3427\n",
      "2021-05-20 05:55:04,600 - mmdet - INFO - Epoch [8][300/871]\tlr: 1.000e-05, eta: 16:22:18, time: 2.167, data_time: 0.039, memory: 18925, loss_rpn_cls: 0.0437, loss_rpn_bbox: 0.0288, s0.loss_cls: 0.2434, s0.acc: 92.2799, s0.loss_bbox: 0.2652, s0.loss_mask: 0.2935, s1.loss_cls: 0.1166, s1.acc: 92.4436, s1.loss_bbox: 0.1097, s1.loss_mask: 0.1551, s2.loss_cls: 0.0567, s2.acc: 92.5798, s2.loss_bbox: 0.0401, s2.loss_mask: 0.0786, loss: 1.4314, grad_norm: 9.2674\n",
      "2021-05-20 05:56:49,856 - mmdet - INFO - Epoch [8][350/871]\tlr: 1.000e-05, eta: 16:20:41, time: 2.105, data_time: 0.038, memory: 18925, loss_rpn_cls: 0.0392, loss_rpn_bbox: 0.0269, s0.loss_cls: 0.2223, s0.acc: 92.9362, s0.loss_bbox: 0.2506, s0.loss_mask: 0.2636, s1.loss_cls: 0.1074, s1.acc: 93.1575, s1.loss_bbox: 0.1060, s1.loss_mask: 0.1418, s2.loss_cls: 0.0514, s2.acc: 93.3262, s2.loss_bbox: 0.0403, s2.loss_mask: 0.0724, loss: 1.3220, grad_norm: 9.1873\n",
      "2021-05-20 05:58:35,183 - mmdet - INFO - Epoch [8][400/871]\tlr: 1.000e-05, eta: 16:19:05, time: 2.107, data_time: 0.034, memory: 18925, loss_rpn_cls: 0.0389, loss_rpn_bbox: 0.0290, s0.loss_cls: 0.2197, s0.acc: 92.8581, s0.loss_bbox: 0.2600, s0.loss_mask: 0.2982, s1.loss_cls: 0.1062, s1.acc: 93.2098, s1.loss_bbox: 0.1092, s1.loss_mask: 0.1535, s2.loss_cls: 0.0507, s2.acc: 93.3820, s2.loss_bbox: 0.0415, s2.loss_mask: 0.0797, loss: 1.3865, grad_norm: 8.8479\n",
      "2021-05-20 06:00:20,640 - mmdet - INFO - Epoch [8][450/871]\tlr: 1.000e-05, eta: 16:17:29, time: 2.109, data_time: 0.033, memory: 18925, loss_rpn_cls: 0.0284, loss_rpn_bbox: 0.0200, s0.loss_cls: 0.1730, s0.acc: 94.4193, s0.loss_bbox: 0.1973, s0.loss_mask: 0.3191, s1.loss_cls: 0.0846, s1.acc: 94.6060, s1.loss_bbox: 0.0874, s1.loss_mask: 0.1616, s2.loss_cls: 0.0414, s2.acc: 94.6696, s2.loss_bbox: 0.0345, s2.loss_mask: 0.0825, loss: 1.2298, grad_norm: 8.3102\n",
      "2021-05-20 06:02:06,062 - mmdet - INFO - Epoch [8][500/871]\tlr: 1.000e-05, eta: 16:15:53, time: 2.108, data_time: 0.036, memory: 18925, loss_rpn_cls: 0.0359, loss_rpn_bbox: 0.0230, s0.loss_cls: 0.2079, s0.acc: 93.1263, s0.loss_bbox: 0.2390, s0.loss_mask: 0.2982, s1.loss_cls: 0.1006, s1.acc: 93.2071, s1.loss_bbox: 0.1000, s1.loss_mask: 0.1565, s2.loss_cls: 0.0479, s2.acc: 93.5019, s2.loss_bbox: 0.0377, s2.loss_mask: 0.0801, loss: 1.3269, grad_norm: 9.5847\n",
      "2021-05-20 06:03:52,297 - mmdet - INFO - Epoch [8][550/871]\tlr: 1.000e-05, eta: 16:14:21, time: 2.125, data_time: 0.034, memory: 18925, loss_rpn_cls: 0.0331, loss_rpn_bbox: 0.0243, s0.loss_cls: 0.2165, s0.acc: 93.1615, s0.loss_bbox: 0.2485, s0.loss_mask: 0.3108, s1.loss_cls: 0.1052, s1.acc: 93.2751, s1.loss_bbox: 0.1032, s1.loss_mask: 0.1644, s2.loss_cls: 0.0507, s2.acc: 93.5198, s2.loss_bbox: 0.0374, s2.loss_mask: 0.0851, loss: 1.3791, grad_norm: 8.2819\n",
      "2021-05-20 06:05:35,955 - mmdet - INFO - Epoch [8][600/871]\tlr: 1.000e-05, eta: 16:12:37, time: 2.073, data_time: 0.038, memory: 18925, loss_rpn_cls: 0.0400, loss_rpn_bbox: 0.0281, s0.loss_cls: 0.2409, s0.acc: 92.0482, s0.loss_bbox: 0.2750, s0.loss_mask: 0.2787, s1.loss_cls: 0.1168, s1.acc: 92.4132, s1.loss_bbox: 0.1147, s1.loss_mask: 0.1454, s2.loss_cls: 0.0575, s2.acc: 92.3581, s2.loss_bbox: 0.0415, s2.loss_mask: 0.0741, loss: 1.4128, grad_norm: 9.0313\n",
      "2021-05-20 06:07:22,332 - mmdet - INFO - Epoch [8][650/871]\tlr: 1.000e-05, eta: 16:11:04, time: 2.128, data_time: 0.038, memory: 18925, loss_rpn_cls: 0.0340, loss_rpn_bbox: 0.0257, s0.loss_cls: 0.2136, s0.acc: 93.1458, s0.loss_bbox: 0.2446, s0.loss_mask: 0.3028, s1.loss_cls: 0.1044, s1.acc: 93.2791, s1.loss_bbox: 0.1031, s1.loss_mask: 0.1597, s2.loss_cls: 0.0500, s2.acc: 93.3328, s2.loss_bbox: 0.0379, s2.loss_mask: 0.0816, loss: 1.3575, grad_norm: 8.8024\n",
      "2021-05-20 06:09:09,361 - mmdet - INFO - Epoch [8][700/871]\tlr: 1.000e-05, eta: 16:09:34, time: 2.141, data_time: 0.038, memory: 18925, loss_rpn_cls: 0.0438, loss_rpn_bbox: 0.0347, s0.loss_cls: 0.2486, s0.acc: 91.8125, s0.loss_bbox: 0.2938, s0.loss_mask: 0.2425, s1.loss_cls: 0.1204, s1.acc: 91.8004, s1.loss_bbox: 0.1214, s1.loss_mask: 0.1283, s2.loss_cls: 0.0590, s2.acc: 92.0461, s2.loss_bbox: 0.0425, s2.loss_mask: 0.0669, loss: 1.4019, grad_norm: 8.2189\n",
      "2021-05-20 06:10:56,552 - mmdet - INFO - Epoch [8][750/871]\tlr: 1.000e-05, eta: 16:08:05, time: 2.144, data_time: 0.042, memory: 18925, loss_rpn_cls: 0.0377, loss_rpn_bbox: 0.0275, s0.loss_cls: 0.2294, s0.acc: 92.7227, s0.loss_bbox: 0.2710, s0.loss_mask: 0.3137, s1.loss_cls: 0.1098, s1.acc: 92.9894, s1.loss_bbox: 0.1124, s1.loss_mask: 0.1674, s2.loss_cls: 0.0525, s2.acc: 93.0904, s2.loss_bbox: 0.0420, s2.loss_mask: 0.0866, loss: 1.4500, grad_norm: 8.5933\n",
      "2021-05-20 06:12:42,049 - mmdet - INFO - Epoch [8][800/871]\tlr: 1.000e-05, eta: 16:06:28, time: 2.110, data_time: 0.034, memory: 18925, loss_rpn_cls: 0.0353, loss_rpn_bbox: 0.0280, s0.loss_cls: 0.2272, s0.acc: 92.7982, s0.loss_bbox: 0.2401, s0.loss_mask: 0.3161, s1.loss_cls: 0.1122, s1.acc: 92.9243, s1.loss_bbox: 0.1010, s1.loss_mask: 0.1663, s2.loss_cls: 0.0544, s2.acc: 92.7529, s2.loss_bbox: 0.0382, s2.loss_mask: 0.0845, loss: 1.4032, grad_norm: 8.6959\n",
      "2021-05-20 06:14:29,316 - mmdet - INFO - Epoch [8][850/871]\tlr: 1.000e-05, eta: 16:04:59, time: 2.145, data_time: 0.037, memory: 18925, loss_rpn_cls: 0.0321, loss_rpn_bbox: 0.0302, s0.loss_cls: 0.2352, s0.acc: 92.3034, s0.loss_bbox: 0.2829, s0.loss_mask: 0.2995, s1.loss_cls: 0.1144, s1.acc: 92.2168, s1.loss_bbox: 0.1147, s1.loss_mask: 0.1598, s2.loss_cls: 0.0552, s2.acc: 92.3513, s2.loss_bbox: 0.0416, s2.loss_mask: 0.0813, loss: 1.4469, grad_norm: 9.2494\n",
      "2021-05-20 06:17:04,205 - mmdet - INFO - Epoch [9][50/871]\tlr: 1.000e-05, eta: 16:00:00, time: 2.187, data_time: 0.094, memory: 18925, loss_rpn_cls: 0.0323, loss_rpn_bbox: 0.0278, s0.loss_cls: 0.2127, s0.acc: 93.0937, s0.loss_bbox: 0.2459, s0.loss_mask: 0.2952, s1.loss_cls: 0.1029, s1.acc: 93.2016, s1.loss_bbox: 0.1012, s1.loss_mask: 0.1572, s2.loss_cls: 0.0497, s2.acc: 93.3000, s2.loss_bbox: 0.0361, s2.loss_mask: 0.0803, loss: 1.3412, grad_norm: 7.9817\n",
      "2021-05-20 06:18:49,553 - mmdet - INFO - Epoch [9][100/871]\tlr: 1.000e-05, eta: 15:58:24, time: 2.107, data_time: 0.032, memory: 18925, loss_rpn_cls: 0.0364, loss_rpn_bbox: 0.0260, s0.loss_cls: 0.2165, s0.acc: 93.0130, s0.loss_bbox: 0.2419, s0.loss_mask: 0.2961, s1.loss_cls: 0.1063, s1.acc: 93.2000, s1.loss_bbox: 0.1011, s1.loss_mask: 0.1573, s2.loss_cls: 0.0507, s2.acc: 93.6180, s2.loss_bbox: 0.0367, s2.loss_mask: 0.0816, loss: 1.3505, grad_norm: 8.0558\n",
      "2021-05-20 06:20:35,700 - mmdet - INFO - Epoch [9][150/871]\tlr: 1.000e-05, eta: 15:56:51, time: 2.123, data_time: 0.032, memory: 18925, loss_rpn_cls: 0.0309, loss_rpn_bbox: 0.0211, s0.loss_cls: 0.1970, s0.acc: 93.5924, s0.loss_bbox: 0.2258, s0.loss_mask: 0.3192, s1.loss_cls: 0.0985, s1.acc: 93.3936, s1.loss_bbox: 0.0981, s1.loss_mask: 0.1643, s2.loss_cls: 0.0483, s2.acc: 93.3382, s2.loss_bbox: 0.0376, s2.loss_mask: 0.0821, loss: 1.3228, grad_norm: 8.7931\n",
      "2021-05-20 06:22:23,367 - mmdet - INFO - Epoch [9][200/871]\tlr: 1.000e-05, eta: 15:55:23, time: 2.153, data_time: 0.031, memory: 18925, loss_rpn_cls: 0.0332, loss_rpn_bbox: 0.0244, s0.loss_cls: 0.2186, s0.acc: 93.0625, s0.loss_bbox: 0.2479, s0.loss_mask: 0.2531, s1.loss_cls: 0.1071, s1.acc: 93.2871, s1.loss_bbox: 0.1065, s1.loss_mask: 0.1329, s2.loss_cls: 0.0522, s2.acc: 93.4283, s2.loss_bbox: 0.0391, s2.loss_mask: 0.0696, loss: 1.2846, grad_norm: 8.6390\n",
      "2021-05-20 06:24:11,388 - mmdet - INFO - Epoch [9][250/871]\tlr: 1.000e-05, eta: 15:53:56, time: 2.160, data_time: 0.039, memory: 18925, loss_rpn_cls: 0.0416, loss_rpn_bbox: 0.0335, s0.loss_cls: 0.2343, s0.acc: 92.2448, s0.loss_bbox: 0.2806, s0.loss_mask: 0.2688, s1.loss_cls: 0.1158, s1.acc: 92.0570, s1.loss_bbox: 0.1170, s1.loss_mask: 0.1451, s2.loss_cls: 0.0562, s2.acc: 92.4143, s2.loss_bbox: 0.0427, s2.loss_mask: 0.0754, loss: 1.4110, grad_norm: 8.2864\n",
      "2021-05-20 06:25:59,642 - mmdet - INFO - Epoch [9][300/871]\tlr: 1.000e-05, eta: 15:52:30, time: 2.165, data_time: 0.034, memory: 18925, loss_rpn_cls: 0.0396, loss_rpn_bbox: 0.0268, s0.loss_cls: 0.2192, s0.acc: 93.1602, s0.loss_bbox: 0.2508, s0.loss_mask: 0.2756, s1.loss_cls: 0.1064, s1.acc: 93.3669, s1.loss_bbox: 0.1059, s1.loss_mask: 0.1440, s2.loss_cls: 0.0520, s2.acc: 93.2359, s2.loss_bbox: 0.0405, s2.loss_mask: 0.0728, loss: 1.3338, grad_norm: 8.0652\n",
      "2021-05-20 06:27:45,093 - mmdet - INFO - Epoch [9][350/871]\tlr: 1.000e-05, eta: 15:50:54, time: 2.109, data_time: 0.033, memory: 18925, loss_rpn_cls: 0.0328, loss_rpn_bbox: 0.0252, s0.loss_cls: 0.2327, s0.acc: 92.4128, s0.loss_bbox: 0.2668, s0.loss_mask: 0.2702, s1.loss_cls: 0.1146, s1.acc: 92.6703, s1.loss_bbox: 0.1110, s1.loss_mask: 0.1430, s2.loss_cls: 0.0552, s2.acc: 92.6431, s2.loss_bbox: 0.0400, s2.loss_mask: 0.0740, loss: 1.3654, grad_norm: 7.8933\n",
      "2021-05-20 06:29:29,661 - mmdet - INFO - Epoch [9][400/871]\tlr: 1.000e-05, eta: 15:49:13, time: 2.091, data_time: 0.031, memory: 18925, loss_rpn_cls: 0.0355, loss_rpn_bbox: 0.0271, s0.loss_cls: 0.2248, s0.acc: 92.9258, s0.loss_bbox: 0.2338, s0.loss_mask: 0.3092, s1.loss_cls: 0.1117, s1.acc: 92.8051, s1.loss_bbox: 0.0972, s1.loss_mask: 0.1589, s2.loss_cls: 0.0525, s2.acc: 92.8826, s2.loss_bbox: 0.0364, s2.loss_mask: 0.0806, loss: 1.3676, grad_norm: 8.5673\n",
      "2021-05-20 06:31:17,050 - mmdet - INFO - Epoch [9][450/871]\tlr: 1.000e-05, eta: 15:47:44, time: 2.148, data_time: 0.030, memory: 18925, loss_rpn_cls: 0.0307, loss_rpn_bbox: 0.0225, s0.loss_cls: 0.2108, s0.acc: 93.2422, s0.loss_bbox: 0.2481, s0.loss_mask: 0.2922, s1.loss_cls: 0.1053, s1.acc: 93.2784, s1.loss_bbox: 0.1058, s1.loss_mask: 0.1520, s2.loss_cls: 0.0523, s2.acc: 92.9697, s2.loss_bbox: 0.0398, s2.loss_mask: 0.0779, loss: 1.3372, grad_norm: 9.0576\n",
      "2021-05-20 06:33:02,864 - mmdet - INFO - Epoch [9][500/871]\tlr: 1.000e-05, eta: 15:46:08, time: 2.116, data_time: 0.035, memory: 18925, loss_rpn_cls: 0.0339, loss_rpn_bbox: 0.0251, s0.loss_cls: 0.2263, s0.acc: 92.7799, s0.loss_bbox: 0.2613, s0.loss_mask: 0.3056, s1.loss_cls: 0.1102, s1.acc: 92.6962, s1.loss_bbox: 0.1093, s1.loss_mask: 0.1646, s2.loss_cls: 0.0533, s2.acc: 92.7922, s2.loss_bbox: 0.0415, s2.loss_mask: 0.0838, loss: 1.4150, grad_norm: 8.8909\n",
      "2021-05-20 06:34:51,641 - mmdet - INFO - Epoch [9][550/871]\tlr: 1.000e-05, eta: 15:44:42, time: 2.176, data_time: 0.040, memory: 18925, loss_rpn_cls: 0.0353, loss_rpn_bbox: 0.0286, s0.loss_cls: 0.2289, s0.acc: 92.6198, s0.loss_bbox: 0.2681, s0.loss_mask: 0.2794, s1.loss_cls: 0.1118, s1.acc: 92.9122, s1.loss_bbox: 0.1099, s1.loss_mask: 0.1482, s2.loss_cls: 0.0548, s2.acc: 93.0293, s2.loss_bbox: 0.0410, s2.loss_mask: 0.0761, loss: 1.3821, grad_norm: 8.2142\n",
      "2021-05-20 06:36:34,481 - mmdet - INFO - Epoch [9][600/871]\tlr: 1.000e-05, eta: 15:42:55, time: 2.057, data_time: 0.034, memory: 18925, loss_rpn_cls: 0.0356, loss_rpn_bbox: 0.0273, s0.loss_cls: 0.2195, s0.acc: 93.0599, s0.loss_bbox: 0.2531, s0.loss_mask: 0.2987, s1.loss_cls: 0.1079, s1.acc: 93.0081, s1.loss_bbox: 0.1091, s1.loss_mask: 0.1549, s2.loss_cls: 0.0524, s2.acc: 92.9716, s2.loss_bbox: 0.0404, s2.loss_mask: 0.0800, loss: 1.3789, grad_norm: 8.7295\n",
      "2021-05-20 06:38:21,514 - mmdet - INFO - Epoch [9][650/871]\tlr: 1.000e-05, eta: 15:41:24, time: 2.141, data_time: 0.035, memory: 18925, loss_rpn_cls: 0.0300, loss_rpn_bbox: 0.0270, s0.loss_cls: 0.2209, s0.acc: 92.9232, s0.loss_bbox: 0.2600, s0.loss_mask: 0.3299, s1.loss_cls: 0.1075, s1.acc: 92.9891, s1.loss_bbox: 0.1091, s1.loss_mask: 0.1721, s2.loss_cls: 0.0516, s2.acc: 93.0174, s2.loss_bbox: 0.0389, s2.loss_mask: 0.0874, loss: 1.4345, grad_norm: 9.9936\n",
      "2021-05-20 06:40:07,446 - mmdet - INFO - Epoch [9][700/871]\tlr: 1.000e-05, eta: 15:39:48, time: 2.119, data_time: 0.030, memory: 18925, loss_rpn_cls: 0.0333, loss_rpn_bbox: 0.0274, s0.loss_cls: 0.2329, s0.acc: 92.5742, s0.loss_bbox: 0.2588, s0.loss_mask: 0.3092, s1.loss_cls: 0.1141, s1.acc: 92.6083, s1.loss_bbox: 0.1072, s1.loss_mask: 0.1611, s2.loss_cls: 0.0553, s2.acc: 92.7659, s2.loss_bbox: 0.0387, s2.loss_mask: 0.0817, loss: 1.4199, grad_norm: 9.1120\n",
      "2021-05-20 06:41:52,991 - mmdet - INFO - Epoch [9][750/871]\tlr: 1.000e-05, eta: 15:38:10, time: 2.111, data_time: 0.037, memory: 18925, loss_rpn_cls: 0.0286, loss_rpn_bbox: 0.0240, s0.loss_cls: 0.1921, s0.acc: 93.7214, s0.loss_bbox: 0.2147, s0.loss_mask: 0.3076, s1.loss_cls: 0.0953, s1.acc: 93.9155, s1.loss_bbox: 0.0930, s1.loss_mask: 0.1621, s2.loss_cls: 0.0461, s2.acc: 94.1380, s2.loss_bbox: 0.0348, s2.loss_mask: 0.0835, loss: 1.2818, grad_norm: 8.3038\n",
      "2021-05-20 06:43:39,362 - mmdet - INFO - Epoch [9][800/871]\tlr: 1.000e-05, eta: 15:36:35, time: 2.127, data_time: 0.035, memory: 18925, loss_rpn_cls: 0.0376, loss_rpn_bbox: 0.0273, s0.loss_cls: 0.2261, s0.acc: 92.8086, s0.loss_bbox: 0.2512, s0.loss_mask: 0.2981, s1.loss_cls: 0.1105, s1.acc: 92.9604, s1.loss_bbox: 0.1078, s1.loss_mask: 0.1578, s2.loss_cls: 0.0543, s2.acc: 92.9845, s2.loss_bbox: 0.0416, s2.loss_mask: 0.0802, loss: 1.3924, grad_norm: 8.7044\n",
      "2021-05-20 06:45:24,656 - mmdet - INFO - Epoch [9][850/871]\tlr: 1.000e-05, eta: 15:34:57, time: 2.106, data_time: 0.034, memory: 18925, loss_rpn_cls: 0.0384, loss_rpn_bbox: 0.0273, s0.loss_cls: 0.1789, s0.acc: 94.1445, s0.loss_bbox: 0.2176, s0.loss_mask: 0.2774, s1.loss_cls: 0.0878, s1.acc: 94.0829, s1.loss_bbox: 0.0937, s1.loss_mask: 0.1468, s2.loss_cls: 0.0424, s2.acc: 94.0460, s2.loss_bbox: 0.0350, s2.loss_mask: 0.0747, loss: 1.2200, grad_norm: 7.4904\n",
      "2021-05-20 06:46:10,508 - mmdet - INFO - Saving checkpoint at 9 epochs\n"
     ]
    },
    {
     "name": "stdout",
     "output_type": "stream",
     "text": [
      "[>>>>>>>>>>>>>>>>>>>>>>>>>>>>>] 659/659, 1.7 task/s, elapsed: 382s, ETA:     0s"
     ]
    },
    {
     "name": "stderr",
     "output_type": "stream",
     "text": [
      "2021-05-20 06:52:37,110 - mmdet - INFO - Evaluating bbox...\n"
     ]
    },
    {
     "name": "stdout",
     "output_type": "stream",
     "text": [
      "Loading and preparing results...\n",
      "DONE (t=0.76s)\n",
      "creating index...\n",
      "index created!\n",
      "Running per image evaluation...\n",
      "Evaluate annotation type *bbox*\n",
      "DONE (t=5.10s).\n",
      "Accumulating evaluation results...\n"
     ]
    },
    {
     "name": "stderr",
     "output_type": "stream",
     "text": [
      "2021-05-20 06:52:43,709 - mmdet - INFO - Epoch(val) [9][871]\tbbox_mAP: 0.3310, bbox_mAP_50: 0.4410, bbox_mAP_75: 0.3490, bbox_mAP_s: 0.0920, bbox_mAP_m: 0.3170, bbox_mAP_l: 0.5520, bbox_mAP_copypaste: 0.331 0.441 0.349 0.092 0.317 0.552\n"
     ]
    },
    {
     "name": "stdout",
     "output_type": "stream",
     "text": [
      "DONE (t=0.66s).\n",
      "Average Precision  (AP) @[ IoU=0.50:0.95 | area=   all | maxDets=100 ] = 0.331\n",
      "Average Precision  (AP) @[ IoU=0.50      | area=   all | maxDets=1000 ] = 0.441\n",
      "Average Precision  (AP) @[ IoU=0.75      | area=   all | maxDets=1000 ] = 0.349\n",
      "Average Precision  (AP) @[ IoU=0.50:0.95 | area= small | maxDets=1000 ] = 0.092\n",
      "Average Precision  (AP) @[ IoU=0.50:0.95 | area=medium | maxDets=1000 ] = 0.317\n",
      "Average Precision  (AP) @[ IoU=0.50:0.95 | area= large | maxDets=1000 ] = 0.552\n",
      "Average Recall     (AR) @[ IoU=0.50:0.95 | area=   all | maxDets=100 ] = 0.455\n",
      "Average Recall     (AR) @[ IoU=0.50:0.95 | area=   all | maxDets=300 ] = 0.455\n",
      "Average Recall     (AR) @[ IoU=0.50:0.95 | area=   all | maxDets=1000 ] = 0.455\n",
      "Average Recall     (AR) @[ IoU=0.50:0.95 | area= small | maxDets=1000 ] = 0.174\n",
      "Average Recall     (AR) @[ IoU=0.50:0.95 | area=medium | maxDets=1000 ] = 0.463\n",
      "Average Recall     (AR) @[ IoU=0.50:0.95 | area= large | maxDets=1000 ] = 0.661\n"
     ]
    },
    {
     "name": "stderr",
     "output_type": "stream",
     "text": [
      "2021-05-20 06:54:33,618 - mmdet - INFO - Epoch [10][50/871]\tlr: 1.000e-05, eta: 15:30:21, time: 2.198, data_time: 0.092, memory: 18925, loss_rpn_cls: 0.0347, loss_rpn_bbox: 0.0266, s0.loss_cls: 0.2329, s0.acc: 92.5599, s0.loss_bbox: 0.2532, s0.loss_mask: 0.2788, s1.loss_cls: 0.1148, s1.acc: 92.6392, s1.loss_bbox: 0.1083, s1.loss_mask: 0.1484, s2.loss_cls: 0.0565, s2.acc: 92.7638, s2.loss_bbox: 0.0409, s2.loss_mask: 0.0765, loss: 1.3716, grad_norm: 7.9958\n",
      "2021-05-20 06:56:20,566 - mmdet - INFO - Epoch [10][100/871]\tlr: 1.000e-05, eta: 15:28:49, time: 2.139, data_time: 0.037, memory: 18925, loss_rpn_cls: 0.0355, loss_rpn_bbox: 0.0247, s0.loss_cls: 0.2215, s0.acc: 92.9870, s0.loss_bbox: 0.2503, s0.loss_mask: 0.2899, s1.loss_cls: 0.1069, s1.acc: 93.1116, s1.loss_bbox: 0.1042, s1.loss_mask: 0.1527, s2.loss_cls: 0.0511, s2.acc: 93.3456, s2.loss_bbox: 0.0391, s2.loss_mask: 0.0790, loss: 1.3549, grad_norm: 8.8758\n",
      "2021-05-20 06:58:07,591 - mmdet - INFO - Epoch [10][150/871]\tlr: 1.000e-05, eta: 15:27:17, time: 2.140, data_time: 0.036, memory: 18925, loss_rpn_cls: 0.0386, loss_rpn_bbox: 0.0267, s0.loss_cls: 0.2278, s0.acc: 92.6680, s0.loss_bbox: 0.2672, s0.loss_mask: 0.2832, s1.loss_cls: 0.1109, s1.acc: 92.8708, s1.loss_bbox: 0.1131, s1.loss_mask: 0.1492, s2.loss_cls: 0.0535, s2.acc: 92.9292, s2.loss_bbox: 0.0433, s2.loss_mask: 0.0750, loss: 1.3885, grad_norm: 9.0527\n",
      "2021-05-20 07:00:21,978 - mmdet - INFO - Epoch [10][200/871]\tlr: 1.000e-05, eta: 15:27:16, time: 2.687, data_time: 0.040, memory: 18925, loss_rpn_cls: 0.0429, loss_rpn_bbox: 0.0311, s0.loss_cls: 0.2593, s0.acc: 91.5247, s0.loss_bbox: 0.3004, s0.loss_mask: 0.2332, s1.loss_cls: 0.1281, s1.acc: 91.5126, s1.loss_bbox: 0.1262, s1.loss_mask: 0.1226, s2.loss_cls: 0.0614, s2.acc: 91.6530, s2.loss_bbox: 0.0459, s2.loss_mask: 0.0632, loss: 1.4142, grad_norm: 8.6642\n",
      "2021-05-20 07:03:40,875 - mmdet - INFO - Epoch [10][250/871]\tlr: 1.000e-05, eta: 15:30:47, time: 3.978, data_time: 0.032, memory: 18925, loss_rpn_cls: 0.0412, loss_rpn_bbox: 0.0259, s0.loss_cls: 0.2201, s0.acc: 93.2396, s0.loss_bbox: 0.2468, s0.loss_mask: 0.2886, s1.loss_cls: 0.1090, s1.acc: 93.3096, s1.loss_bbox: 0.1035, s1.loss_mask: 0.1512, s2.loss_cls: 0.0524, s2.acc: 93.7217, s2.loss_bbox: 0.0393, s2.loss_mask: 0.0781, loss: 1.3559, grad_norm: 8.5664\n",
      "2021-05-20 07:07:02,522 - mmdet - INFO - Epoch [10][300/871]\tlr: 1.000e-05, eta: 15:34:22, time: 4.033, data_time: 0.032, memory: 18925, loss_rpn_cls: 0.0336, loss_rpn_bbox: 0.0267, s0.loss_cls: 0.2313, s0.acc: 92.3581, s0.loss_bbox: 0.2706, s0.loss_mask: 0.2446, s1.loss_cls: 0.1136, s1.acc: 92.4974, s1.loss_bbox: 0.1132, s1.loss_mask: 0.1297, s2.loss_cls: 0.0547, s2.acc: 92.8705, s2.loss_bbox: 0.0427, s2.loss_mask: 0.0668, loss: 1.3274, grad_norm: 8.0927\n",
      "2021-05-20 07:10:18,369 - mmdet - INFO - Epoch [10][350/871]\tlr: 1.000e-05, eta: 15:37:32, time: 3.917, data_time: 0.031, memory: 18925, loss_rpn_cls: 0.0350, loss_rpn_bbox: 0.0250, s0.loss_cls: 0.2021, s0.acc: 93.4010, s0.loss_bbox: 0.2430, s0.loss_mask: 0.2991, s1.loss_cls: 0.1002, s1.acc: 93.5086, s1.loss_bbox: 0.1021, s1.loss_mask: 0.1567, s2.loss_cls: 0.0499, s2.acc: 93.3789, s2.loss_bbox: 0.0381, s2.loss_mask: 0.0796, loss: 1.3309, grad_norm: 9.0174\n",
      "2021-05-20 07:13:35,926 - mmdet - INFO - Epoch [10][400/871]\tlr: 1.000e-05, eta: 15:40:44, time: 3.951, data_time: 0.041, memory: 18925, loss_rpn_cls: 0.0338, loss_rpn_bbox: 0.0280, s0.loss_cls: 0.2186, s0.acc: 92.8854, s0.loss_bbox: 0.2542, s0.loss_mask: 0.2488, s1.loss_cls: 0.1069, s1.acc: 93.1499, s1.loss_bbox: 0.1069, s1.loss_mask: 0.1301, s2.loss_cls: 0.0521, s2.acc: 93.0789, s2.loss_bbox: 0.0408, s2.loss_mask: 0.0662, loss: 1.2866, grad_norm: 7.8916\n",
      "2021-05-20 07:16:54,174 - mmdet - INFO - Epoch [10][450/871]\tlr: 1.000e-05, eta: 15:43:53, time: 3.965, data_time: 0.032, memory: 18925, loss_rpn_cls: 0.0354, loss_rpn_bbox: 0.0260, s0.loss_cls: 0.2029, s0.acc: 93.6393, s0.loss_bbox: 0.2271, s0.loss_mask: 0.2670, s1.loss_cls: 0.0994, s1.acc: 93.7064, s1.loss_bbox: 0.0975, s1.loss_mask: 0.1406, s2.loss_cls: 0.0475, s2.acc: 93.9379, s2.loss_bbox: 0.0361, s2.loss_mask: 0.0730, loss: 1.2524, grad_norm: 8.6467\n",
      "2021-05-20 07:20:10,855 - mmdet - INFO - Epoch [10][500/871]\tlr: 1.000e-05, eta: 15:46:52, time: 3.934, data_time: 0.035, memory: 18925, loss_rpn_cls: 0.0288, loss_rpn_bbox: 0.0197, s0.loss_cls: 0.1872, s0.acc: 94.0404, s0.loss_bbox: 0.2199, s0.loss_mask: 0.3087, s1.loss_cls: 0.0876, s1.acc: 94.1161, s1.loss_bbox: 0.0916, s1.loss_mask: 0.1612, s2.loss_cls: 0.0424, s2.acc: 94.2784, s2.loss_bbox: 0.0349, s2.loss_mask: 0.0816, loss: 1.2636, grad_norm: 7.8359\n",
      "2021-05-20 07:23:31,714 - mmdet - INFO - Epoch [10][550/871]\tlr: 1.000e-05, eta: 15:50:01, time: 4.017, data_time: 0.039, memory: 18925, loss_rpn_cls: 0.0396, loss_rpn_bbox: 0.0246, s0.loss_cls: 0.2416, s0.acc: 92.4036, s0.loss_bbox: 0.2640, s0.loss_mask: 0.2383, s1.loss_cls: 0.1178, s1.acc: 92.5980, s1.loss_bbox: 0.1080, s1.loss_mask: 0.1278, s2.loss_cls: 0.0562, s2.acc: 92.7787, s2.loss_bbox: 0.0398, s2.loss_mask: 0.0660, loss: 1.3237, grad_norm: 9.4591\n",
      "2021-05-20 07:26:44,617 - mmdet - INFO - Epoch [10][600/871]\tlr: 1.000e-05, eta: 15:52:39, time: 3.858, data_time: 0.035, memory: 18925, loss_rpn_cls: 0.0270, loss_rpn_bbox: 0.0226, s0.loss_cls: 0.2077, s0.acc: 93.2161, s0.loss_bbox: 0.2485, s0.loss_mask: 0.3105, s1.loss_cls: 0.0991, s1.acc: 93.4277, s1.loss_bbox: 0.1083, s1.loss_mask: 0.1612, s2.loss_cls: 0.0486, s2.acc: 93.2758, s2.loss_bbox: 0.0420, s2.loss_mask: 0.0818, loss: 1.3572, grad_norm: 8.7329\n",
      "2021-05-20 07:30:03,295 - mmdet - INFO - Epoch [10][650/871]\tlr: 1.000e-05, eta: 15:55:32, time: 3.973, data_time: 0.035, memory: 18925, loss_rpn_cls: 0.0298, loss_rpn_bbox: 0.0226, s0.loss_cls: 0.2044, s0.acc: 93.4883, s0.loss_bbox: 0.2489, s0.loss_mask: 0.3067, s1.loss_cls: 0.0963, s1.acc: 93.7366, s1.loss_bbox: 0.1078, s1.loss_mask: 0.1595, s2.loss_cls: 0.0466, s2.acc: 93.7932, s2.loss_bbox: 0.0411, s2.loss_mask: 0.0819, loss: 1.3456, grad_norm: 9.1757\n",
      "2021-05-20 07:33:20,782 - mmdet - INFO - Epoch [10][700/871]\tlr: 1.000e-05, eta: 15:58:16, time: 3.950, data_time: 0.039, memory: 18925, loss_rpn_cls: 0.0363, loss_rpn_bbox: 0.0273, s0.loss_cls: 0.2196, s0.acc: 92.8138, s0.loss_bbox: 0.2493, s0.loss_mask: 0.3111, s1.loss_cls: 0.1087, s1.acc: 92.8677, s1.loss_bbox: 0.1039, s1.loss_mask: 0.1617, s2.loss_cls: 0.0528, s2.acc: 93.0221, s2.loss_bbox: 0.0384, s2.loss_mask: 0.0824, loss: 1.3915, grad_norm: 8.8329\n",
      "2021-05-20 07:36:37,301 - mmdet - INFO - Epoch [10][750/871]\tlr: 1.000e-05, eta: 16:00:53, time: 3.930, data_time: 0.031, memory: 18925, loss_rpn_cls: 0.0309, loss_rpn_bbox: 0.0248, s0.loss_cls: 0.2078, s0.acc: 93.3698, s0.loss_bbox: 0.2373, s0.loss_mask: 0.3165, s1.loss_cls: 0.1009, s1.acc: 93.2564, s1.loss_bbox: 0.1016, s1.loss_mask: 0.1643, s2.loss_cls: 0.0494, s2.acc: 93.1921, s2.loss_bbox: 0.0388, s2.loss_mask: 0.0831, loss: 1.3554, grad_norm: 8.7829\n",
      "2021-05-20 07:39:26,513 - mmdet - INFO - Epoch [10][800/871]\tlr: 1.000e-05, eta: 16:02:04, time: 3.384, data_time: 0.034, memory: 18925, loss_rpn_cls: 0.0338, loss_rpn_bbox: 0.0246, s0.loss_cls: 0.2128, s0.acc: 93.0768, s0.loss_bbox: 0.2443, s0.loss_mask: 0.2952, s1.loss_cls: 0.1060, s1.acc: 93.0979, s1.loss_bbox: 0.1025, s1.loss_mask: 0.1553, s2.loss_cls: 0.0511, s2.acc: 92.8805, s2.loss_bbox: 0.0378, s2.loss_mask: 0.0783, loss: 1.3416, grad_norm: 9.0056\n",
      "2021-05-20 07:41:11,234 - mmdet - INFO - Epoch [10][850/871]\tlr: 1.000e-05, eta: 15:59:57, time: 2.094, data_time: 0.032, memory: 18925, loss_rpn_cls: 0.0280, loss_rpn_bbox: 0.0253, s0.loss_cls: 0.2050, s0.acc: 93.4388, s0.loss_bbox: 0.2340, s0.loss_mask: 0.2849, s1.loss_cls: 0.0996, s1.acc: 93.6023, s1.loss_bbox: 0.0953, s1.loss_mask: 0.1488, s2.loss_cls: 0.0474, s2.acc: 93.5416, s2.loss_bbox: 0.0359, s2.loss_mask: 0.0757, loss: 1.2798, grad_norm: 8.5923\n",
      "2021-05-20 07:43:46,347 - mmdet - INFO - Epoch [11][50/871]\tlr: 1.000e-05, eta: 15:55:02, time: 2.198, data_time: 0.094, memory: 18925, loss_rpn_cls: 0.0381, loss_rpn_bbox: 0.0269, s0.loss_cls: 0.1943, s0.acc: 93.4375, s0.loss_bbox: 0.2409, s0.loss_mask: 0.2818, s1.loss_cls: 0.0958, s1.acc: 93.5944, s1.loss_bbox: 0.1021, s1.loss_mask: 0.1472, s2.loss_cls: 0.0473, s2.acc: 93.6731, s2.loss_bbox: 0.0389, s2.loss_mask: 0.0751, loss: 1.2885, grad_norm: 7.5086\n",
      "2021-05-20 07:45:32,944 - mmdet - INFO - Epoch [11][100/871]\tlr: 1.000e-05, eta: 15:53:03, time: 2.132, data_time: 0.033, memory: 18925, loss_rpn_cls: 0.0370, loss_rpn_bbox: 0.0252, s0.loss_cls: 0.2040, s0.acc: 93.4167, s0.loss_bbox: 0.2505, s0.loss_mask: 0.2996, s1.loss_cls: 0.0986, s1.acc: 93.5610, s1.loss_bbox: 0.1043, s1.loss_mask: 0.1553, s2.loss_cls: 0.0476, s2.acc: 93.5678, s2.loss_bbox: 0.0391, s2.loss_mask: 0.0799, loss: 1.3411, grad_norm: 8.3978\n",
      "2021-05-20 07:47:18,901 - mmdet - INFO - Epoch [11][150/871]\tlr: 1.000e-05, eta: 15:51:02, time: 2.119, data_time: 0.034, memory: 18925, loss_rpn_cls: 0.0335, loss_rpn_bbox: 0.0215, s0.loss_cls: 0.2036, s0.acc: 93.6393, s0.loss_bbox: 0.2416, s0.loss_mask: 0.2783, s1.loss_cls: 0.0965, s1.acc: 94.0421, s1.loss_bbox: 0.1011, s1.loss_mask: 0.1441, s2.loss_cls: 0.0461, s2.acc: 94.3258, s2.loss_bbox: 0.0383, s2.loss_mask: 0.0736, loss: 1.2782, grad_norm: 8.1109\n",
      "2021-05-20 07:49:06,620 - mmdet - INFO - Epoch [11][200/871]\tlr: 1.000e-05, eta: 15:49:06, time: 2.154, data_time: 0.034, memory: 18925, loss_rpn_cls: 0.0356, loss_rpn_bbox: 0.0271, s0.loss_cls: 0.2090, s0.acc: 93.1432, s0.loss_bbox: 0.2472, s0.loss_mask: 0.2766, s1.loss_cls: 0.1008, s1.acc: 93.1437, s1.loss_bbox: 0.1043, s1.loss_mask: 0.1431, s2.loss_cls: 0.0494, s2.acc: 93.1739, s2.loss_bbox: 0.0400, s2.loss_mask: 0.0726, loss: 1.3057, grad_norm: 8.2076\n",
      "2021-05-20 07:50:52,433 - mmdet - INFO - Epoch [11][250/871]\tlr: 1.000e-05, eta: 15:47:04, time: 2.116, data_time: 0.030, memory: 18925, loss_rpn_cls: 0.0312, loss_rpn_bbox: 0.0223, s0.loss_cls: 0.2189, s0.acc: 92.9870, s0.loss_bbox: 0.2509, s0.loss_mask: 0.2488, s1.loss_cls: 0.1062, s1.acc: 93.2923, s1.loss_bbox: 0.1075, s1.loss_mask: 0.1299, s2.loss_cls: 0.0507, s2.acc: 93.3045, s2.loss_bbox: 0.0401, s2.loss_mask: 0.0668, loss: 1.2734, grad_norm: 8.5986\n",
      "2021-05-20 07:52:40,156 - mmdet - INFO - Epoch [11][300/871]\tlr: 1.000e-05, eta: 15:45:09, time: 2.154, data_time: 0.036, memory: 18925, loss_rpn_cls: 0.0393, loss_rpn_bbox: 0.0306, s0.loss_cls: 0.2412, s0.acc: 92.2565, s0.loss_bbox: 0.2717, s0.loss_mask: 0.2838, s1.loss_cls: 0.1192, s1.acc: 92.3069, s1.loss_bbox: 0.1128, s1.loss_mask: 0.1523, s2.loss_cls: 0.0577, s2.acc: 92.6229, s2.loss_bbox: 0.0420, s2.loss_mask: 0.0776, loss: 1.4282, grad_norm: 9.2106\n",
      "2021-05-20 07:54:25,131 - mmdet - INFO - Epoch [11][350/871]\tlr: 1.000e-05, eta: 15:43:05, time: 2.099, data_time: 0.036, memory: 18925, loss_rpn_cls: 0.0359, loss_rpn_bbox: 0.0266, s0.loss_cls: 0.2064, s0.acc: 93.2174, s0.loss_bbox: 0.2398, s0.loss_mask: 0.2616, s1.loss_cls: 0.1016, s1.acc: 93.3574, s1.loss_bbox: 0.0992, s1.loss_mask: 0.1382, s2.loss_cls: 0.0506, s2.acc: 93.1416, s2.loss_bbox: 0.0376, s2.loss_mask: 0.0701, loss: 1.2675, grad_norm: 8.4528\n",
      "2021-05-20 07:56:10,176 - mmdet - INFO - Epoch [11][400/871]\tlr: 1.000e-05, eta: 15:41:02, time: 2.101, data_time: 0.030, memory: 18925, loss_rpn_cls: 0.0369, loss_rpn_bbox: 0.0285, s0.loss_cls: 0.2282, s0.acc: 92.5521, s0.loss_bbox: 0.2563, s0.loss_mask: 0.2460, s1.loss_cls: 0.1117, s1.acc: 92.4382, s1.loss_bbox: 0.1075, s1.loss_mask: 0.1307, s2.loss_cls: 0.0544, s2.acc: 92.6057, s2.loss_bbox: 0.0400, s2.loss_mask: 0.0667, loss: 1.3069, grad_norm: 8.0290\n",
      "2021-05-20 07:57:56,006 - mmdet - INFO - Epoch [11][450/871]\tlr: 1.000e-05, eta: 15:39:02, time: 2.117, data_time: 0.030, memory: 18925, loss_rpn_cls: 0.0375, loss_rpn_bbox: 0.0247, s0.loss_cls: 0.2098, s0.acc: 93.1706, s0.loss_bbox: 0.2415, s0.loss_mask: 0.2965, s1.loss_cls: 0.1014, s1.acc: 93.4657, s1.loss_bbox: 0.1013, s1.loss_mask: 0.1539, s2.loss_cls: 0.0493, s2.acc: 93.4721, s2.loss_bbox: 0.0383, s2.loss_mask: 0.0787, loss: 1.3328, grad_norm: 9.1145\n",
      "2021-05-20 07:59:41,348 - mmdet - INFO - Epoch [11][500/871]\tlr: 1.000e-05, eta: 15:37:00, time: 2.107, data_time: 0.033, memory: 18925, loss_rpn_cls: 0.0332, loss_rpn_bbox: 0.0252, s0.loss_cls: 0.2154, s0.acc: 93.1068, s0.loss_bbox: 0.2545, s0.loss_mask: 0.2910, s1.loss_cls: 0.1040, s1.acc: 93.3127, s1.loss_bbox: 0.1061, s1.loss_mask: 0.1522, s2.loss_cls: 0.0509, s2.acc: 93.3189, s2.loss_bbox: 0.0403, s2.loss_mask: 0.0785, loss: 1.3512, grad_norm: 8.4052\n",
      "2021-05-20 08:01:28,229 - mmdet - INFO - Epoch [11][550/871]\tlr: 1.000e-05, eta: 15:35:02, time: 2.138, data_time: 0.037, memory: 18925, loss_rpn_cls: 0.0329, loss_rpn_bbox: 0.0279, s0.loss_cls: 0.2076, s0.acc: 93.4362, s0.loss_bbox: 0.2466, s0.loss_mask: 0.2920, s1.loss_cls: 0.1016, s1.acc: 93.4681, s1.loss_bbox: 0.1058, s1.loss_mask: 0.1527, s2.loss_cls: 0.0491, s2.acc: 93.7775, s2.loss_bbox: 0.0399, s2.loss_mask: 0.0780, loss: 1.3341, grad_norm: 8.9283\n",
      "2021-05-20 08:03:08,425 - mmdet - INFO - Epoch [11][600/871]\tlr: 1.000e-05, eta: 15:32:47, time: 2.004, data_time: 0.026, memory: 18925, loss_rpn_cls: 0.0282, loss_rpn_bbox: 0.0199, s0.loss_cls: 0.1738, s0.acc: 94.3698, s0.loss_bbox: 0.2041, s0.loss_mask: 0.2924, s1.loss_cls: 0.0855, s1.acc: 94.3749, s1.loss_bbox: 0.0881, s1.loss_mask: 0.1525, s2.loss_cls: 0.0430, s2.acc: 94.1855, s2.loss_bbox: 0.0332, s2.loss_mask: 0.0781, loss: 1.1988, grad_norm: 8.3332\n",
      "2021-05-20 08:04:55,312 - mmdet - INFO - Epoch [11][650/871]\tlr: 1.000e-05, eta: 15:30:50, time: 2.138, data_time: 0.037, memory: 18925, loss_rpn_cls: 0.0381, loss_rpn_bbox: 0.0312, s0.loss_cls: 0.2413, s0.acc: 92.1654, s0.loss_bbox: 0.2897, s0.loss_mask: 0.2805, s1.loss_cls: 0.1181, s1.acc: 92.3136, s1.loss_bbox: 0.1185, s1.loss_mask: 0.1490, s2.loss_cls: 0.0566, s2.acc: 92.6177, s2.loss_bbox: 0.0433, s2.loss_mask: 0.0782, loss: 1.4443, grad_norm: 8.8372\n",
      "2021-05-20 08:06:40,959 - mmdet - INFO - Epoch [11][700/871]\tlr: 1.000e-05, eta: 15:28:49, time: 2.113, data_time: 0.039, memory: 18925, loss_rpn_cls: 0.0389, loss_rpn_bbox: 0.0309, s0.loss_cls: 0.2404, s0.acc: 92.2995, s0.loss_bbox: 0.2705, s0.loss_mask: 0.2753, s1.loss_cls: 0.1186, s1.acc: 92.4548, s1.loss_bbox: 0.1163, s1.loss_mask: 0.1460, s2.loss_cls: 0.0562, s2.acc: 92.6281, s2.loss_bbox: 0.0441, s2.loss_mask: 0.0750, loss: 1.4122, grad_norm: 10.0189\n",
      "2021-05-20 08:08:25,497 - mmdet - INFO - Epoch [11][750/871]\tlr: 1.000e-05, eta: 15:26:46, time: 2.091, data_time: 0.033, memory: 18925, loss_rpn_cls: 0.0300, loss_rpn_bbox: 0.0232, s0.loss_cls: 0.2005, s0.acc: 93.5234, s0.loss_bbox: 0.2364, s0.loss_mask: 0.3070, s1.loss_cls: 0.0949, s1.acc: 93.6962, s1.loss_bbox: 0.0980, s1.loss_mask: 0.1620, s2.loss_cls: 0.0466, s2.acc: 93.7819, s2.loss_bbox: 0.0369, s2.loss_mask: 0.0819, loss: 1.3174, grad_norm: 9.7871\n",
      "2021-05-20 08:10:09,848 - mmdet - INFO - Epoch [11][800/871]\tlr: 1.000e-05, eta: 15:24:43, time: 2.087, data_time: 0.028, memory: 18925, loss_rpn_cls: 0.0299, loss_rpn_bbox: 0.0253, s0.loss_cls: 0.2047, s0.acc: 93.5664, s0.loss_bbox: 0.2396, s0.loss_mask: 0.2857, s1.loss_cls: 0.0979, s1.acc: 93.6667, s1.loss_bbox: 0.1000, s1.loss_mask: 0.1492, s2.loss_cls: 0.0473, s2.acc: 93.8066, s2.loss_bbox: 0.0382, s2.loss_mask: 0.0767, loss: 1.2944, grad_norm: 9.9570\n",
      "2021-05-20 08:11:55,061 - mmdet - INFO - Epoch [11][850/871]\tlr: 1.000e-05, eta: 15:22:42, time: 2.104, data_time: 0.032, memory: 18925, loss_rpn_cls: 0.0341, loss_rpn_bbox: 0.0231, s0.loss_cls: 0.2036, s0.acc: 93.5247, s0.loss_bbox: 0.2296, s0.loss_mask: 0.2860, s1.loss_cls: 0.0956, s1.acc: 93.8565, s1.loss_bbox: 0.0972, s1.loss_mask: 0.1543, s2.loss_cls: 0.0456, s2.acc: 94.0285, s2.loss_bbox: 0.0365, s2.loss_mask: 0.0791, loss: 1.2848, grad_norm: 8.7946\n",
      "2021-05-20 08:14:30,398 - mmdet - INFO - Epoch [12][50/871]\tlr: 1.000e-05, eta: 15:18:11, time: 2.223, data_time: 0.097, memory: 18925, loss_rpn_cls: 0.0376, loss_rpn_bbox: 0.0268, s0.loss_cls: 0.2266, s0.acc: 92.7096, s0.loss_bbox: 0.2586, s0.loss_mask: 0.2861, s1.loss_cls: 0.1093, s1.acc: 93.0983, s1.loss_bbox: 0.1088, s1.loss_mask: 0.1484, s2.loss_cls: 0.0518, s2.acc: 93.2011, s2.loss_bbox: 0.0414, s2.loss_mask: 0.0759, loss: 1.3714, grad_norm: 10.4324\n",
      "2021-05-20 08:16:16,248 - mmdet - INFO - Epoch [12][100/871]\tlr: 1.000e-05, eta: 15:16:12, time: 2.117, data_time: 0.033, memory: 18925, loss_rpn_cls: 0.0392, loss_rpn_bbox: 0.0248, s0.loss_cls: 0.1981, s0.acc: 93.5000, s0.loss_bbox: 0.2470, s0.loss_mask: 0.2752, s1.loss_cls: 0.0969, s1.acc: 93.7110, s1.loss_bbox: 0.1042, s1.loss_mask: 0.1445, s2.loss_cls: 0.0464, s2.acc: 93.9329, s2.loss_bbox: 0.0390, s2.loss_mask: 0.0745, loss: 1.2897, grad_norm: 9.2451\n",
      "2021-05-20 08:18:01,929 - mmdet - INFO - Epoch [12][150/871]\tlr: 1.000e-05, eta: 15:14:14, time: 2.114, data_time: 0.033, memory: 18925, loss_rpn_cls: 0.0326, loss_rpn_bbox: 0.0273, s0.loss_cls: 0.2038, s0.acc: 93.4193, s0.loss_bbox: 0.2333, s0.loss_mask: 0.3285, s1.loss_cls: 0.0982, s1.acc: 93.5366, s1.loss_bbox: 0.0999, s1.loss_mask: 0.1703, s2.loss_cls: 0.0481, s2.acc: 93.7397, s2.loss_bbox: 0.0385, s2.loss_mask: 0.0878, loss: 1.3682, grad_norm: 9.8595\n",
      "2021-05-20 08:19:49,349 - mmdet - INFO - Epoch [12][200/871]\tlr: 1.000e-05, eta: 15:12:20, time: 2.148, data_time: 0.036, memory: 18925, loss_rpn_cls: 0.0379, loss_rpn_bbox: 0.0322, s0.loss_cls: 0.2276, s0.acc: 92.9062, s0.loss_bbox: 0.2554, s0.loss_mask: 0.2849, s1.loss_cls: 0.1097, s1.acc: 93.0063, s1.loss_bbox: 0.1046, s1.loss_mask: 0.1497, s2.loss_cls: 0.0527, s2.acc: 93.1995, s2.loss_bbox: 0.0390, s2.loss_mask: 0.0758, loss: 1.3696, grad_norm: 8.9238\n",
      "2021-05-20 08:21:35,706 - mmdet - INFO - Epoch [12][250/871]\tlr: 1.000e-05, eta: 15:10:24, time: 2.127, data_time: 0.032, memory: 18925, loss_rpn_cls: 0.0289, loss_rpn_bbox: 0.0243, s0.loss_cls: 0.2074, s0.acc: 93.1198, s0.loss_bbox: 0.2577, s0.loss_mask: 0.2797, s1.loss_cls: 0.1026, s1.acc: 93.2574, s1.loss_bbox: 0.1106, s1.loss_mask: 0.1449, s2.loss_cls: 0.0493, s2.acc: 93.2704, s2.loss_bbox: 0.0410, s2.loss_mask: 0.0737, loss: 1.3201, grad_norm: 8.2826\n",
      "2021-05-20 08:23:22,706 - mmdet - INFO - Epoch [12][300/871]\tlr: 1.000e-05, eta: 15:08:29, time: 2.140, data_time: 0.031, memory: 18925, loss_rpn_cls: 0.0325, loss_rpn_bbox: 0.0236, s0.loss_cls: 0.2218, s0.acc: 92.7513, s0.loss_bbox: 0.2661, s0.loss_mask: 0.2731, s1.loss_cls: 0.1055, s1.acc: 92.9179, s1.loss_bbox: 0.1119, s1.loss_mask: 0.1429, s2.loss_cls: 0.0521, s2.acc: 92.8755, s2.loss_bbox: 0.0410, s2.loss_mask: 0.0741, loss: 1.3446, grad_norm: 8.7276\n",
      "2021-05-20 08:25:07,290 - mmdet - INFO - Epoch [12][350/871]\tlr: 1.000e-05, eta: 15:06:28, time: 2.092, data_time: 0.036, memory: 18925, loss_rpn_cls: 0.0312, loss_rpn_bbox: 0.0261, s0.loss_cls: 0.1991, s0.acc: 93.7005, s0.loss_bbox: 0.2298, s0.loss_mask: 0.3087, s1.loss_cls: 0.0978, s1.acc: 93.4745, s1.loss_bbox: 0.0995, s1.loss_mask: 0.1596, s2.loss_cls: 0.0471, s2.acc: 93.5049, s2.loss_bbox: 0.0377, s2.loss_mask: 0.0816, loss: 1.3182, grad_norm: 8.8210\n",
      "2021-05-20 08:26:53,955 - mmdet - INFO - Epoch [12][400/871]\tlr: 1.000e-05, eta: 15:04:33, time: 2.133, data_time: 0.041, memory: 18925, loss_rpn_cls: 0.0381, loss_rpn_bbox: 0.0304, s0.loss_cls: 0.2237, s0.acc: 92.6797, s0.loss_bbox: 0.2622, s0.loss_mask: 0.2606, s1.loss_cls: 0.1089, s1.acc: 92.9646, s1.loss_bbox: 0.1113, s1.loss_mask: 0.1372, s2.loss_cls: 0.0522, s2.acc: 93.1866, s2.loss_bbox: 0.0411, s2.loss_mask: 0.0700, loss: 1.3356, grad_norm: 8.7655\n",
      "2021-05-20 08:28:40,592 - mmdet - INFO - Epoch [12][450/871]\tlr: 1.000e-05, eta: 15:02:37, time: 2.133, data_time: 0.039, memory: 18925, loss_rpn_cls: 0.0325, loss_rpn_bbox: 0.0220, s0.loss_cls: 0.2031, s0.acc: 93.4180, s0.loss_bbox: 0.2365, s0.loss_mask: 0.2799, s1.loss_cls: 0.0963, s1.acc: 93.6665, s1.loss_bbox: 0.1001, s1.loss_mask: 0.1474, s2.loss_cls: 0.0471, s2.acc: 93.8377, s2.loss_bbox: 0.0376, s2.loss_mask: 0.0757, loss: 1.2782, grad_norm: 8.4011\n",
      "2021-05-20 08:30:24,805 - mmdet - INFO - Epoch [12][500/871]\tlr: 1.000e-05, eta: 15:00:36, time: 2.084, data_time: 0.031, memory: 18925, loss_rpn_cls: 0.0285, loss_rpn_bbox: 0.0209, s0.loss_cls: 0.1928, s0.acc: 93.6042, s0.loss_bbox: 0.2280, s0.loss_mask: 0.2953, s1.loss_cls: 0.0944, s1.acc: 93.7130, s1.loss_bbox: 0.0986, s1.loss_mask: 0.1527, s2.loss_cls: 0.0461, s2.acc: 93.8675, s2.loss_bbox: 0.0377, s2.loss_mask: 0.0773, loss: 1.2723, grad_norm: 8.7738\n",
      "2021-05-20 08:32:11,458 - mmdet - INFO - Epoch [12][550/871]\tlr: 1.000e-05, eta: 14:58:41, time: 2.133, data_time: 0.033, memory: 18925, loss_rpn_cls: 0.0285, loss_rpn_bbox: 0.0255, s0.loss_cls: 0.1974, s0.acc: 93.2982, s0.loss_bbox: 0.2435, s0.loss_mask: 0.2924, s1.loss_cls: 0.0971, s1.acc: 93.4258, s1.loss_bbox: 0.1082, s1.loss_mask: 0.1546, s2.loss_cls: 0.0475, s2.acc: 93.3861, s2.loss_bbox: 0.0405, s2.loss_mask: 0.0780, loss: 1.3132, grad_norm: 8.7893\n",
      "2021-05-20 08:33:55,048 - mmdet - INFO - Epoch [12][600/871]\tlr: 1.000e-05, eta: 14:56:38, time: 2.072, data_time: 0.034, memory: 18925, loss_rpn_cls: 0.0361, loss_rpn_bbox: 0.0260, s0.loss_cls: 0.2217, s0.acc: 92.5911, s0.loss_bbox: 0.2742, s0.loss_mask: 0.3067, s1.loss_cls: 0.1057, s1.acc: 92.9201, s1.loss_bbox: 0.1139, s1.loss_mask: 0.1647, s2.loss_cls: 0.0521, s2.acc: 92.8922, s2.loss_bbox: 0.0429, s2.loss_mask: 0.0842, loss: 1.4285, grad_norm: 10.0705\n",
      "2021-05-20 08:35:41,076 - mmdet - INFO - Epoch [12][650/871]\tlr: 1.000e-05, eta: 14:54:42, time: 2.121, data_time: 0.031, memory: 18925, loss_rpn_cls: 0.0315, loss_rpn_bbox: 0.0244, s0.loss_cls: 0.1946, s0.acc: 93.6393, s0.loss_bbox: 0.2350, s0.loss_mask: 0.2806, s1.loss_cls: 0.0934, s1.acc: 93.9379, s1.loss_bbox: 0.1014, s1.loss_mask: 0.1502, s2.loss_cls: 0.0446, s2.acc: 94.0047, s2.loss_bbox: 0.0396, s2.loss_mask: 0.0781, loss: 1.2735, grad_norm: 7.9065\n",
      "2021-05-20 08:37:27,057 - mmdet - INFO - Epoch [12][700/871]\tlr: 1.000e-05, eta: 14:52:45, time: 2.120, data_time: 0.037, memory: 18925, loss_rpn_cls: 0.0398, loss_rpn_bbox: 0.0280, s0.loss_cls: 0.2272, s0.acc: 92.8490, s0.loss_bbox: 0.2565, s0.loss_mask: 0.2328, s1.loss_cls: 0.1091, s1.acc: 93.2530, s1.loss_bbox: 0.1060, s1.loss_mask: 0.1216, s2.loss_cls: 0.0524, s2.acc: 93.2819, s2.loss_bbox: 0.0383, s2.loss_mask: 0.0635, loss: 1.2752, grad_norm: 8.3120\n",
      "2021-05-20 08:39:12,668 - mmdet - INFO - Epoch [12][750/871]\tlr: 1.000e-05, eta: 14:50:48, time: 2.112, data_time: 0.032, memory: 18925, loss_rpn_cls: 0.0332, loss_rpn_bbox: 0.0254, s0.loss_cls: 0.2142, s0.acc: 93.0898, s0.loss_bbox: 0.2522, s0.loss_mask: 0.2714, s1.loss_cls: 0.1036, s1.acc: 93.2418, s1.loss_bbox: 0.1069, s1.loss_mask: 0.1412, s2.loss_cls: 0.0497, s2.acc: 93.4930, s2.loss_bbox: 0.0398, s2.loss_mask: 0.0715, loss: 1.3091, grad_norm: 9.4290\n",
      "2021-05-20 08:40:59,068 - mmdet - INFO - Epoch [12][800/871]\tlr: 1.000e-05, eta: 14:48:53, time: 2.128, data_time: 0.031, memory: 18925, loss_rpn_cls: 0.0366, loss_rpn_bbox: 0.0261, s0.loss_cls: 0.2071, s0.acc: 93.3685, s0.loss_bbox: 0.2421, s0.loss_mask: 0.2669, s1.loss_cls: 0.0993, s1.acc: 93.6543, s1.loss_bbox: 0.1039, s1.loss_mask: 0.1392, s2.loss_cls: 0.0488, s2.acc: 93.5560, s2.loss_bbox: 0.0400, s2.loss_mask: 0.0719, loss: 1.2821, grad_norm: 8.5737\n",
      "2021-05-20 08:42:45,087 - mmdet - INFO - Epoch [12][850/871]\tlr: 1.000e-05, eta: 14:46:57, time: 2.120, data_time: 0.037, memory: 18925, loss_rpn_cls: 0.0337, loss_rpn_bbox: 0.0290, s0.loss_cls: 0.2079, s0.acc: 93.0690, s0.loss_bbox: 0.2523, s0.loss_mask: 0.2614, s1.loss_cls: 0.1036, s1.acc: 93.0071, s1.loss_bbox: 0.1063, s1.loss_mask: 0.1391, s2.loss_cls: 0.0503, s2.acc: 93.2406, s2.loss_bbox: 0.0402, s2.loss_mask: 0.0720, loss: 1.2959, grad_norm: 8.6031\n",
      "2021-05-20 08:43:30,833 - mmdet - INFO - Saving checkpoint at 12 epochs\n"
     ]
    },
    {
     "name": "stdout",
     "output_type": "stream",
     "text": [
      "[>>>>>>>>>>>>>>>>>>>>>>>>>>>>>] 659/659, 1.7 task/s, elapsed: 377s, ETA:     0s"
     ]
    },
    {
     "name": "stderr",
     "output_type": "stream",
     "text": [
      "2021-05-20 08:49:52,199 - mmdet - INFO - Evaluating bbox...\n"
     ]
    },
    {
     "name": "stdout",
     "output_type": "stream",
     "text": [
      "Loading and preparing results...\n",
      "DONE (t=0.66s)\n",
      "creating index...\n",
      "index created!\n",
      "Running per image evaluation...\n",
      "Evaluate annotation type *bbox*\n",
      "DONE (t=4.54s).\n",
      "Accumulating evaluation results...\n"
     ]
    },
    {
     "name": "stderr",
     "output_type": "stream",
     "text": [
      "2021-05-20 08:49:58,086 - mmdet - INFO - Epoch(val) [12][871]\tbbox_mAP: 0.3390, bbox_mAP_50: 0.4490, bbox_mAP_75: 0.3560, bbox_mAP_s: 0.0870, bbox_mAP_m: 0.3300, bbox_mAP_l: 0.5640, bbox_mAP_copypaste: 0.339 0.449 0.356 0.087 0.330 0.564\n"
     ]
    },
    {
     "name": "stdout",
     "output_type": "stream",
     "text": [
      "DONE (t=0.62s).\n",
      "Average Precision  (AP) @[ IoU=0.50:0.95 | area=   all | maxDets=100 ] = 0.339\n",
      "Average Precision  (AP) @[ IoU=0.50      | area=   all | maxDets=1000 ] = 0.449\n",
      "Average Precision  (AP) @[ IoU=0.75      | area=   all | maxDets=1000 ] = 0.356\n",
      "Average Precision  (AP) @[ IoU=0.50:0.95 | area= small | maxDets=1000 ] = 0.087\n",
      "Average Precision  (AP) @[ IoU=0.50:0.95 | area=medium | maxDets=1000 ] = 0.330\n",
      "Average Precision  (AP) @[ IoU=0.50:0.95 | area= large | maxDets=1000 ] = 0.564\n",
      "Average Recall     (AR) @[ IoU=0.50:0.95 | area=   all | maxDets=100 ] = 0.459\n",
      "Average Recall     (AR) @[ IoU=0.50:0.95 | area=   all | maxDets=300 ] = 0.459\n",
      "Average Recall     (AR) @[ IoU=0.50:0.95 | area=   all | maxDets=1000 ] = 0.459\n",
      "Average Recall     (AR) @[ IoU=0.50:0.95 | area= small | maxDets=1000 ] = 0.162\n",
      "Average Recall     (AR) @[ IoU=0.50:0.95 | area=medium | maxDets=1000 ] = 0.476\n",
      "Average Recall     (AR) @[ IoU=0.50:0.95 | area= large | maxDets=1000 ] = 0.678\n"
     ]
    },
    {
     "name": "stderr",
     "output_type": "stream",
     "text": [
      "Process Process-68:\n",
      "Process Process-66:\n",
      "Process Process-65:\n",
      "Process Process-67:\n",
      "Traceback (most recent call last):\n",
      "Traceback (most recent call last):\n",
      "Traceback (most recent call last):\n",
      "  File \"/opt/conda/lib/python3.7/multiprocessing/process.py\", line 300, in _bootstrap\n",
      "    util._exit_function()\n",
      "Traceback (most recent call last):\n",
      "  File \"/opt/conda/lib/python3.7/multiprocessing/process.py\", line 300, in _bootstrap\n",
      "    util._exit_function()\n",
      "  File \"/opt/conda/lib/python3.7/multiprocessing/util.py\", line 337, in _exit_function\n",
      "    _run_finalizers()\n",
      "  File \"/opt/conda/lib/python3.7/multiprocessing/util.py\", line 277, in _run_finalizers\n",
      "    finalizer()\n",
      "  File \"/opt/conda/lib/python3.7/multiprocessing/util.py\", line 337, in _exit_function\n",
      "    _run_finalizers()\n",
      "  File \"/opt/conda/lib/python3.7/multiprocessing/util.py\", line 201, in __call__\n",
      "    res = self._callback(*self._args, **self._kwargs)\n",
      "  File \"/opt/conda/lib/python3.7/multiprocessing/process.py\", line 300, in _bootstrap\n",
      "    util._exit_function()\n",
      "  File \"/opt/conda/lib/python3.7/multiprocessing/process.py\", line 300, in _bootstrap\n",
      "    util._exit_function()\n",
      "  File \"/opt/conda/lib/python3.7/multiprocessing/util.py\", line 277, in _run_finalizers\n",
      "    finalizer()\n",
      "  File \"/opt/conda/lib/python3.7/multiprocessing/util.py\", line 337, in _exit_function\n",
      "    _run_finalizers()\n",
      "  File \"/opt/conda/lib/python3.7/multiprocessing/queues.py\", line 192, in _finalize_join\n",
      "    thread.join()\n",
      "  File \"/opt/conda/lib/python3.7/threading.py\", line 1044, in join\n",
      "    self._wait_for_tstate_lock()\n",
      "  File \"/opt/conda/lib/python3.7/multiprocessing/util.py\", line 337, in _exit_function\n",
      "    _run_finalizers()\n",
      "  File \"/opt/conda/lib/python3.7/multiprocessing/util.py\", line 277, in _run_finalizers\n",
      "    finalizer()\n",
      "  File \"/opt/conda/lib/python3.7/multiprocessing/util.py\", line 201, in __call__\n",
      "    res = self._callback(*self._args, **self._kwargs)\n",
      "  File \"/opt/conda/lib/python3.7/multiprocessing/queues.py\", line 192, in _finalize_join\n",
      "    thread.join()\n",
      "  File \"/opt/conda/lib/python3.7/multiprocessing/util.py\", line 277, in _run_finalizers\n",
      "    finalizer()\n",
      "  File \"/opt/conda/lib/python3.7/threading.py\", line 1044, in join\n",
      "    self._wait_for_tstate_lock()\n",
      "  File \"/opt/conda/lib/python3.7/threading.py\", line 1060, in _wait_for_tstate_lock\n",
      "    elif lock.acquire(block, timeout):\n",
      "  File \"/opt/conda/lib/python3.7/multiprocessing/util.py\", line 201, in __call__\n",
      "    res = self._callback(*self._args, **self._kwargs)\n",
      "  File \"/opt/conda/lib/python3.7/multiprocessing/util.py\", line 201, in __call__\n",
      "    res = self._callback(*self._args, **self._kwargs)\n",
      "  File \"/opt/conda/lib/python3.7/threading.py\", line 1060, in _wait_for_tstate_lock\n",
      "    elif lock.acquire(block, timeout):\n",
      "  File \"/opt/conda/lib/python3.7/multiprocessing/queues.py\", line 192, in _finalize_join\n",
      "    thread.join()\n",
      "KeyboardInterrupt\n",
      "  File \"/opt/conda/lib/python3.7/multiprocessing/queues.py\", line 192, in _finalize_join\n",
      "    thread.join()\n",
      "KeyboardInterrupt\n",
      "  File \"/opt/conda/lib/python3.7/threading.py\", line 1044, in join\n",
      "    self._wait_for_tstate_lock()\n",
      "  File \"/opt/conda/lib/python3.7/threading.py\", line 1060, in _wait_for_tstate_lock\n",
      "    elif lock.acquire(block, timeout):\n",
      "KeyboardInterrupt\n",
      "  File \"/opt/conda/lib/python3.7/threading.py\", line 1044, in join\n",
      "    self._wait_for_tstate_lock()\n",
      "  File \"/opt/conda/lib/python3.7/threading.py\", line 1060, in _wait_for_tstate_lock\n",
      "    elif lock.acquire(block, timeout):\n",
      "KeyboardInterrupt\n",
      "Exception ignored in: <function _MultiProcessingDataLoaderIter.__del__ at 0x7fd1b40b8170>\n",
      "Traceback (most recent call last):\n",
      "  File \"/opt/conda/lib/python3.7/site-packages/torch/utils/data/dataloader.py\", line 1203, in __del__\n",
      "    self._shutdown_workers()\n",
      "  File \"/opt/conda/lib/python3.7/site-packages/torch/utils/data/dataloader.py\", line 1177, in _shutdown_workers\n",
      "    w.join(timeout=_utils.MP_STATUS_CHECK_INTERVAL)\n",
      "  File \"/opt/conda/lib/python3.7/multiprocessing/process.py\", line 140, in join\n",
      "    res = self._popen.wait(timeout)\n",
      "  File \"/opt/conda/lib/python3.7/multiprocessing/popen_fork.py\", line 45, in wait\n",
      "    if not wait([self.sentinel], timeout):\n",
      "  File \"/opt/conda/lib/python3.7/multiprocessing/connection.py\", line 920, in wait\n",
      "    ready = selector.select(timeout)\n",
      "  File \"/opt/conda/lib/python3.7/selectors.py\", line 415, in select\n",
      "    fd_event_list = self._selector.poll(timeout)\n",
      "KeyboardInterrupt: \n"
     ]
    },
    {
     "ename": "KeyboardInterrupt",
     "evalue": "",
     "output_type": "error",
     "traceback": [
      "\u001b[0;31m---------------------------------------------------------------------------\u001b[0m",
      "\u001b[0;31mKeyboardInterrupt\u001b[0m                         Traceback (most recent call last)",
      "\u001b[0;32m<ipython-input-14-59b5768e9e45>\u001b[0m in \u001b[0;36m<module>\u001b[0;34m\u001b[0m\n\u001b[0;32m----> 1\u001b[0;31m \u001b[0mtrain_detector\u001b[0m\u001b[0;34m(\u001b[0m\u001b[0mmodel\u001b[0m\u001b[0;34m,\u001b[0m \u001b[0mdatasets\u001b[0m\u001b[0;34m[\u001b[0m\u001b[0;36m0\u001b[0m\u001b[0;34m]\u001b[0m\u001b[0;34m,\u001b[0m \u001b[0mcfg\u001b[0m\u001b[0;34m,\u001b[0m \u001b[0mdistributed\u001b[0m\u001b[0;34m=\u001b[0m\u001b[0;32mFalse\u001b[0m\u001b[0;34m,\u001b[0m \u001b[0mvalidate\u001b[0m\u001b[0;34m=\u001b[0m\u001b[0;32mTrue\u001b[0m\u001b[0;34m)\u001b[0m\u001b[0;34m\u001b[0m\u001b[0;34m\u001b[0m\u001b[0m\n\u001b[0m",
      "\u001b[0;32m~/code/mmdetection_trash/mmdet/apis/train.py\u001b[0m in \u001b[0;36mtrain_detector\u001b[0;34m(model, dataset, cfg, distributed, validate, timestamp, meta)\u001b[0m\n\u001b[1;32m    168\u001b[0m     \u001b[0;32melif\u001b[0m \u001b[0mcfg\u001b[0m\u001b[0;34m.\u001b[0m\u001b[0mload_from\u001b[0m\u001b[0;34m:\u001b[0m\u001b[0;34m\u001b[0m\u001b[0;34m\u001b[0m\u001b[0m\n\u001b[1;32m    169\u001b[0m         \u001b[0mrunner\u001b[0m\u001b[0;34m.\u001b[0m\u001b[0mload_checkpoint\u001b[0m\u001b[0;34m(\u001b[0m\u001b[0mcfg\u001b[0m\u001b[0;34m.\u001b[0m\u001b[0mload_from\u001b[0m\u001b[0;34m)\u001b[0m\u001b[0;34m\u001b[0m\u001b[0;34m\u001b[0m\u001b[0m\n\u001b[0;32m--> 170\u001b[0;31m     \u001b[0mrunner\u001b[0m\u001b[0;34m.\u001b[0m\u001b[0mrun\u001b[0m\u001b[0;34m(\u001b[0m\u001b[0mdata_loaders\u001b[0m\u001b[0;34m,\u001b[0m \u001b[0mcfg\u001b[0m\u001b[0;34m.\u001b[0m\u001b[0mworkflow\u001b[0m\u001b[0;34m)\u001b[0m\u001b[0;34m\u001b[0m\u001b[0;34m\u001b[0m\u001b[0m\n\u001b[0m",
      "\u001b[0;32m/opt/conda/lib/python3.7/site-packages/mmcv/runner/epoch_based_runner.py\u001b[0m in \u001b[0;36mrun\u001b[0;34m(self, data_loaders, workflow, max_epochs, **kwargs)\u001b[0m\n\u001b[1;32m    123\u001b[0m                     \u001b[0;32mif\u001b[0m \u001b[0mmode\u001b[0m \u001b[0;34m==\u001b[0m \u001b[0;34m'train'\u001b[0m \u001b[0;32mand\u001b[0m \u001b[0mself\u001b[0m\u001b[0;34m.\u001b[0m\u001b[0mepoch\u001b[0m \u001b[0;34m>=\u001b[0m \u001b[0mself\u001b[0m\u001b[0;34m.\u001b[0m\u001b[0m_max_epochs\u001b[0m\u001b[0;34m:\u001b[0m\u001b[0;34m\u001b[0m\u001b[0;34m\u001b[0m\u001b[0m\n\u001b[1;32m    124\u001b[0m                         \u001b[0;32mbreak\u001b[0m\u001b[0;34m\u001b[0m\u001b[0;34m\u001b[0m\u001b[0m\n\u001b[0;32m--> 125\u001b[0;31m                     \u001b[0mepoch_runner\u001b[0m\u001b[0;34m(\u001b[0m\u001b[0mdata_loaders\u001b[0m\u001b[0;34m[\u001b[0m\u001b[0mi\u001b[0m\u001b[0;34m]\u001b[0m\u001b[0;34m,\u001b[0m \u001b[0;34m**\u001b[0m\u001b[0mkwargs\u001b[0m\u001b[0;34m)\u001b[0m\u001b[0;34m\u001b[0m\u001b[0;34m\u001b[0m\u001b[0m\n\u001b[0m\u001b[1;32m    126\u001b[0m \u001b[0;34m\u001b[0m\u001b[0m\n\u001b[1;32m    127\u001b[0m         \u001b[0mtime\u001b[0m\u001b[0;34m.\u001b[0m\u001b[0msleep\u001b[0m\u001b[0;34m(\u001b[0m\u001b[0;36m1\u001b[0m\u001b[0;34m)\u001b[0m  \u001b[0;31m# wait for some hooks like loggers to finish\u001b[0m\u001b[0;34m\u001b[0m\u001b[0;34m\u001b[0m\u001b[0m\n",
      "\u001b[0;32m/opt/conda/lib/python3.7/site-packages/mmcv/runner/epoch_based_runner.py\u001b[0m in \u001b[0;36mtrain\u001b[0;34m(self, data_loader, **kwargs)\u001b[0m\n\u001b[1;32m     49\u001b[0m             \u001b[0mself\u001b[0m\u001b[0;34m.\u001b[0m\u001b[0mcall_hook\u001b[0m\u001b[0;34m(\u001b[0m\u001b[0;34m'before_train_iter'\u001b[0m\u001b[0;34m)\u001b[0m\u001b[0;34m\u001b[0m\u001b[0;34m\u001b[0m\u001b[0m\n\u001b[1;32m     50\u001b[0m             \u001b[0mself\u001b[0m\u001b[0;34m.\u001b[0m\u001b[0mrun_iter\u001b[0m\u001b[0;34m(\u001b[0m\u001b[0mdata_batch\u001b[0m\u001b[0;34m,\u001b[0m \u001b[0mtrain_mode\u001b[0m\u001b[0;34m=\u001b[0m\u001b[0;32mTrue\u001b[0m\u001b[0;34m,\u001b[0m \u001b[0;34m**\u001b[0m\u001b[0mkwargs\u001b[0m\u001b[0;34m)\u001b[0m\u001b[0;34m\u001b[0m\u001b[0;34m\u001b[0m\u001b[0m\n\u001b[0;32m---> 51\u001b[0;31m             \u001b[0mself\u001b[0m\u001b[0;34m.\u001b[0m\u001b[0mcall_hook\u001b[0m\u001b[0;34m(\u001b[0m\u001b[0;34m'after_train_iter'\u001b[0m\u001b[0;34m)\u001b[0m\u001b[0;34m\u001b[0m\u001b[0;34m\u001b[0m\u001b[0m\n\u001b[0m\u001b[1;32m     52\u001b[0m             \u001b[0mself\u001b[0m\u001b[0;34m.\u001b[0m\u001b[0m_iter\u001b[0m \u001b[0;34m+=\u001b[0m \u001b[0;36m1\u001b[0m\u001b[0;34m\u001b[0m\u001b[0;34m\u001b[0m\u001b[0m\n\u001b[1;32m     53\u001b[0m \u001b[0;34m\u001b[0m\u001b[0m\n",
      "\u001b[0;32m/opt/conda/lib/python3.7/site-packages/mmcv/runner/base_runner.py\u001b[0m in \u001b[0;36mcall_hook\u001b[0;34m(self, fn_name)\u001b[0m\n\u001b[1;32m    305\u001b[0m         \"\"\"\n\u001b[1;32m    306\u001b[0m         \u001b[0;32mfor\u001b[0m \u001b[0mhook\u001b[0m \u001b[0;32min\u001b[0m \u001b[0mself\u001b[0m\u001b[0;34m.\u001b[0m\u001b[0m_hooks\u001b[0m\u001b[0;34m:\u001b[0m\u001b[0;34m\u001b[0m\u001b[0;34m\u001b[0m\u001b[0m\n\u001b[0;32m--> 307\u001b[0;31m             \u001b[0mgetattr\u001b[0m\u001b[0;34m(\u001b[0m\u001b[0mhook\u001b[0m\u001b[0;34m,\u001b[0m \u001b[0mfn_name\u001b[0m\u001b[0;34m)\u001b[0m\u001b[0;34m(\u001b[0m\u001b[0mself\u001b[0m\u001b[0;34m)\u001b[0m\u001b[0;34m\u001b[0m\u001b[0;34m\u001b[0m\u001b[0m\n\u001b[0m\u001b[1;32m    308\u001b[0m \u001b[0;34m\u001b[0m\u001b[0m\n\u001b[1;32m    309\u001b[0m     def load_checkpoint(self,\n",
      "\u001b[0;32m/opt/conda/lib/python3.7/site-packages/mmcv/runner/hooks/optimizer.py\u001b[0m in \u001b[0;36mafter_train_iter\u001b[0;34m(self, runner)\u001b[0m\n\u001b[1;32m     33\u001b[0m     \u001b[0;32mdef\u001b[0m \u001b[0mafter_train_iter\u001b[0m\u001b[0;34m(\u001b[0m\u001b[0mself\u001b[0m\u001b[0;34m,\u001b[0m \u001b[0mrunner\u001b[0m\u001b[0;34m)\u001b[0m\u001b[0;34m:\u001b[0m\u001b[0;34m\u001b[0m\u001b[0;34m\u001b[0m\u001b[0m\n\u001b[1;32m     34\u001b[0m         \u001b[0mrunner\u001b[0m\u001b[0;34m.\u001b[0m\u001b[0moptimizer\u001b[0m\u001b[0;34m.\u001b[0m\u001b[0mzero_grad\u001b[0m\u001b[0;34m(\u001b[0m\u001b[0;34m)\u001b[0m\u001b[0;34m\u001b[0m\u001b[0;34m\u001b[0m\u001b[0m\n\u001b[0;32m---> 35\u001b[0;31m         \u001b[0mrunner\u001b[0m\u001b[0;34m.\u001b[0m\u001b[0moutputs\u001b[0m\u001b[0;34m[\u001b[0m\u001b[0;34m'loss'\u001b[0m\u001b[0;34m]\u001b[0m\u001b[0;34m.\u001b[0m\u001b[0mbackward\u001b[0m\u001b[0;34m(\u001b[0m\u001b[0;34m)\u001b[0m\u001b[0;34m\u001b[0m\u001b[0;34m\u001b[0m\u001b[0m\n\u001b[0m\u001b[1;32m     36\u001b[0m         \u001b[0;32mif\u001b[0m \u001b[0mself\u001b[0m\u001b[0;34m.\u001b[0m\u001b[0mgrad_clip\u001b[0m \u001b[0;32mis\u001b[0m \u001b[0;32mnot\u001b[0m \u001b[0;32mNone\u001b[0m\u001b[0;34m:\u001b[0m\u001b[0;34m\u001b[0m\u001b[0;34m\u001b[0m\u001b[0m\n\u001b[1;32m     37\u001b[0m             \u001b[0mgrad_norm\u001b[0m \u001b[0;34m=\u001b[0m \u001b[0mself\u001b[0m\u001b[0;34m.\u001b[0m\u001b[0mclip_grads\u001b[0m\u001b[0;34m(\u001b[0m\u001b[0mrunner\u001b[0m\u001b[0;34m.\u001b[0m\u001b[0mmodel\u001b[0m\u001b[0;34m.\u001b[0m\u001b[0mparameters\u001b[0m\u001b[0;34m(\u001b[0m\u001b[0;34m)\u001b[0m\u001b[0;34m)\u001b[0m\u001b[0;34m\u001b[0m\u001b[0;34m\u001b[0m\u001b[0m\n",
      "\u001b[0;32m/opt/conda/lib/python3.7/site-packages/torch/tensor.py\u001b[0m in \u001b[0;36mbackward\u001b[0;34m(self, gradient, retain_graph, create_graph)\u001b[0m\n\u001b[1;32m    219\u001b[0m                 \u001b[0mretain_graph\u001b[0m\u001b[0;34m=\u001b[0m\u001b[0mretain_graph\u001b[0m\u001b[0;34m,\u001b[0m\u001b[0;34m\u001b[0m\u001b[0;34m\u001b[0m\u001b[0m\n\u001b[1;32m    220\u001b[0m                 create_graph=create_graph)\n\u001b[0;32m--> 221\u001b[0;31m         \u001b[0mtorch\u001b[0m\u001b[0;34m.\u001b[0m\u001b[0mautograd\u001b[0m\u001b[0;34m.\u001b[0m\u001b[0mbackward\u001b[0m\u001b[0;34m(\u001b[0m\u001b[0mself\u001b[0m\u001b[0;34m,\u001b[0m \u001b[0mgradient\u001b[0m\u001b[0;34m,\u001b[0m \u001b[0mretain_graph\u001b[0m\u001b[0;34m,\u001b[0m \u001b[0mcreate_graph\u001b[0m\u001b[0;34m)\u001b[0m\u001b[0;34m\u001b[0m\u001b[0;34m\u001b[0m\u001b[0m\n\u001b[0m\u001b[1;32m    222\u001b[0m \u001b[0;34m\u001b[0m\u001b[0m\n\u001b[1;32m    223\u001b[0m     \u001b[0;32mdef\u001b[0m \u001b[0mregister_hook\u001b[0m\u001b[0;34m(\u001b[0m\u001b[0mself\u001b[0m\u001b[0;34m,\u001b[0m \u001b[0mhook\u001b[0m\u001b[0;34m)\u001b[0m\u001b[0;34m:\u001b[0m\u001b[0;34m\u001b[0m\u001b[0;34m\u001b[0m\u001b[0m\n",
      "\u001b[0;32m/opt/conda/lib/python3.7/site-packages/torch/autograd/__init__.py\u001b[0m in \u001b[0;36mbackward\u001b[0;34m(tensors, grad_tensors, retain_graph, create_graph, grad_variables)\u001b[0m\n\u001b[1;32m    130\u001b[0m     Variable._execution_engine.run_backward(\n\u001b[1;32m    131\u001b[0m         \u001b[0mtensors\u001b[0m\u001b[0;34m,\u001b[0m \u001b[0mgrad_tensors_\u001b[0m\u001b[0;34m,\u001b[0m \u001b[0mretain_graph\u001b[0m\u001b[0;34m,\u001b[0m \u001b[0mcreate_graph\u001b[0m\u001b[0;34m,\u001b[0m\u001b[0;34m\u001b[0m\u001b[0;34m\u001b[0m\u001b[0m\n\u001b[0;32m--> 132\u001b[0;31m         allow_unreachable=True)  # allow_unreachable flag\n\u001b[0m\u001b[1;32m    133\u001b[0m \u001b[0;34m\u001b[0m\u001b[0m\n\u001b[1;32m    134\u001b[0m \u001b[0;34m\u001b[0m\u001b[0m\n",
      "\u001b[0;31mKeyboardInterrupt\u001b[0m: "
     ]
    }
   ],
   "source": [
    "train_detector(model, datasets[0], cfg, distributed=False, validate=True)"
   ]
  },
  {
   "cell_type": "code",
   "execution_count": null,
   "metadata": {},
   "outputs": [],
   "source": []
  }
 ],
 "metadata": {
  "kernelspec": {
   "display_name": "Python 3",
   "language": "python",
   "name": "python3"
  },
  "language_info": {
   "codemirror_mode": {
    "name": "ipython",
    "version": 3
   },
   "file_extension": ".py",
   "mimetype": "text/x-python",
   "name": "python",
   "nbconvert_exporter": "python",
   "pygments_lexer": "ipython3",
   "version": "3.7.7"
  },
  "pycharm": {
   "stem_cell": {
    "cell_type": "raw",
    "metadata": {
     "collapsed": false
    },
    "source": []
   }
  }
 },
 "nbformat": 4,
 "nbformat_minor": 4
}
